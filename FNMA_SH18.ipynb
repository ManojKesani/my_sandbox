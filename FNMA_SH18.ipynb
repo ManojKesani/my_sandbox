{
  "nbformat": 4,
  "nbformat_minor": 0,
  "metadata": {
    "kernelspec": {
      "display_name": "Python 3",
      "language": "python",
      "name": "python3"
    },
    "language_info": {
      "codemirror_mode": {
        "name": "ipython",
        "version": 3
      },
      "file_extension": ".py",
      "mimetype": "text/x-python",
      "name": "python",
      "nbconvert_exporter": "python",
      "pygments_lexer": "ipython3",
      "version": "3.6.8"
    },
    "colab": {
      "name": "FNMA_SH18.ipynb",
      "provenance": [],
      "collapsed_sections": [
        "zGsj6PUJvZ-r",
        "2oUz4T_Yu1WY",
        "Z2KpPgxL89w0",
        "KI3K0fYC89w1",
        "NsN38-Rk89w1",
        "DBq5K0gD89w1"
      ],
      "include_colab_link": true
    },
    "accelerator": "GPU"
  },
  "cells": [
    {
      "cell_type": "markdown",
      "metadata": {
        "id": "view-in-github",
        "colab_type": "text"
      },
      "source": [
        "<a href=\"https://colab.research.google.com/github/ManojKesani/my_sandbox/blob/master/FNMA_SH18.ipynb\" target=\"_parent\"><img src=\"https://colab.research.google.com/assets/colab-badge.svg\" alt=\"Open In Colab\"/></a>"
      ]
    },
    {
      "cell_type": "markdown",
      "metadata": {
        "id": "sDWPRSaV89wm"
      },
      "source": [
        "## **Importing Modules**"
      ]
    },
    {
      "cell_type": "code",
      "metadata": {
        "colab": {
          "base_uri": "https://localhost:8080/"
        },
        "id": "Kj_0GMA_9Nli",
        "outputId": "75cf5e0e-8582-422c-9c21-0b39f4c13f79"
      },
      "source": [
        "from google.colab import drive\n",
        "drive.mount('/content/drive')"
      ],
      "execution_count": 1,
      "outputs": [
        {
          "output_type": "stream",
          "text": [
            "Mounted at /content/drive\n"
          ],
          "name": "stdout"
        }
      ]
    },
    {
      "cell_type": "code",
      "metadata": {
        "colab": {
          "base_uri": "https://localhost:8080/"
        },
        "id": "ZCg7qeTy9kpe",
        "outputId": "c69d6f80-17fb-467e-9d45-0f8a90058323"
      },
      "source": [
        "!unzip /content/drive/MyDrive/Anamoly\\ Detection/2018Q1.zip -d /content"
      ],
      "execution_count": 2,
      "outputs": [
        {
          "output_type": "stream",
          "text": [
            "Archive:  /content/drive/MyDrive/Anamoly Detection/2018Q1.zip\n",
            "  inflating: /content/Acquisition_2018Q1.txt  \n",
            "  inflating: /content/Performance_2018Q1.txt  \n"
          ],
          "name": "stdout"
        }
      ]
    },
    {
      "cell_type": "code",
      "metadata": {
        "id": "vGrBve0389wn"
      },
      "source": [
        "import warnings\n",
        "warnings.filterwarnings(\"ignore\")\n",
        "import tensorflow as tf\n",
        "# import keras\n",
        "import numpy as np\n",
        "import tensorflow as tf\n",
        "from tensorflow import keras\n",
        "from tensorflow.keras import layers\n",
        "\n",
        "import pandas as pd\n",
        "import numpy as np\n",
        "#import seaborn as sns\n",
        "from matplotlib import pyplot as plt\n",
        "%matplotlib inline\n",
        "import glob\n",
        "\n",
        "import random\n",
        "RANDOM_SEED = 42\n",
        "TRAINING_SAMPLE = 0.99\n",
        "BATCH_SIZE = 32\n",
        "LATENT_DIMENSION = 16\n",
        "\n",
        "from sklearn.preprocessing import StandardScaler, LabelBinarizer, MinMaxScaler\n",
        "from sklearn.model_selection import train_test_split\n",
        "from sklearn.utils import class_weight\n",
        "from sklearn_pandas import DataFrameMapper, gen_features\n",
        "\n",
        "from scipy import sparse\n",
        "\n",
        "np.random.seed(RANDOM_SEED)\n",
        "random.seed(RANDOM_SEED)"
      ],
      "execution_count": 3,
      "outputs": []
    },
    {
      "cell_type": "code",
      "metadata": {
        "scrolled": true,
        "id": "ydKV99jZ89wo"
      },
      "source": [
        "# print(\"Available GPUS : \", keras.backend.tensorflow_backend._get_available_gpus())"
      ],
      "execution_count": 4,
      "outputs": []
    },
    {
      "cell_type": "markdown",
      "metadata": {
        "id": "sjFEeARH89wq"
      },
      "source": [
        "## **Loading Data**"
      ]
    },
    {
      "cell_type": "code",
      "metadata": {
        "id": "ocfkqvYK89wr"
      },
      "source": [
        "ACQUISITION_FEATURES = [\"LOAN IDENTIFIER\", \n",
        "                             \"ORIGINATION CHANNEL\", \n",
        "                             \"SELLER NAME\", \n",
        "                             \"ORIGINAL INTEREST RATE\", \n",
        "                             \"ORIGINAL UPB\", \n",
        "                             \"ORIGINAL LOAN TERM\", \n",
        "                             \"ORIGINATION DATE\", \n",
        "                             \"FIRST PAYMENT DATE\", \n",
        "                             \"ORIGINAL LOAN-TO-VALUE (LTV)\", \n",
        "                             \"ORIGINAL COMBINED LOAN-TO-VALUE (CLTV)\", \n",
        "                             \"NUMBER OF BORROWERS\", \n",
        "                             \"ORIGINAL DEBT TO INCOME RATIO\", \n",
        "                             \"BORROWER CREDIT SCORE AT ORIGINATION\", \n",
        "                             \"FIRST TIME HOME BUYER INDICATOR\",\n",
        "                             \"LOAN PURPOSE\",\n",
        "                             \"PROPERTY TYPE\",\n",
        "                             \"NUMBER OF UNITS\",\n",
        "                             \"OCCUPANCY TYPE\",\n",
        "                             \"PROPERTY STATE\",\n",
        "                             \"ZIP CODE SHORT\",\n",
        "                             \"PRIMARY MORTGAGE INSURANCE PERCENT\",\n",
        "                             \"PRODUCT TYPE\", \"CO-BORROWER CREDIT SCORE AT ORIGINATION\",\n",
        "                             \"MORTGAGE INSURANCE TYPE\",\n",
        "                             \"RELOCATION MORTGAGE INDICATOR\"]\n",
        "\n",
        "PERFORMANCE_FEATURES = [\"LOAN IDENTIFIER\",\n",
        "                             \"MONTHLY REPORTING PERIOD\",\n",
        "                             \"SERVICER NAME\",\n",
        "                             \"CURRENT INTEREST RATE\",\n",
        "                             \"CURRENT ACTUAL UPB\",\n",
        "                             \"LOAN AGE\",\n",
        "                             \"REMAINING MONTHS TO LEGAL MATURITY\",\n",
        "                             \"ADJUSTED MONTHS TO MATURITY\",\n",
        "                             \"MATURITY DATE\",\n",
        "                             \"METROPOLITAN STATISTICAL AREA (MSA)\",\n",
        "                             \"CURRENT LOAN DELINQUENCY STATUS\",\n",
        "                             \"MODIFICATION FLAG\",\n",
        "                             \"ZERO BALANCE CODE\",\n",
        "                             \"ZERO BALANCE EFFECTIVE DATE\",\n",
        "                             \"LAST PAID INSTALLMENT DATE\",\n",
        "                             \"FORECLOSURE DATE\",\n",
        "                             \"DISPOSITION DATE\",\n",
        "                             \"FORECLOSURE COSTS\",\n",
        "                             \"PROPERTY PRESERVATION AND REPAIR COSTS\",\n",
        "                             \"ASSET RECOVERY COSTS\",\n",
        "                             \"MISCELLANEOUS HOLDING EXPENSES AND CREDITS\",\n",
        "                             \"ASSOCIATED TAXES FOR HOLDING PROPERTY\",\n",
        "                             \"NET SALE PROCEEDS\",\n",
        "                             \"CREDIT ENHANCEMENT PROCEEDS\",\n",
        "                             \"REPURCHASE MAKE WHOLE PROCEEDS\",\n",
        "                             \"OTHER FORECLOSURE PROCEEDS\",\n",
        "                             \"NON INTEREST BEARING UPB\",\n",
        "                             \"PRINCIPAL FORGIVENESS AMOUNT\",\n",
        "                             \"REPURCHASE MAKE WHOLE PROCEEDS FLAG\",\n",
        "                             \"FORECLOSURE PRINCIPAL WRITE-OFF AMOUNT\",\n",
        "                             \"SERVICING ACTIVITY INDICATOR\"]\n",
        "\n",
        "REL_ACQUISITION_FEATURES = [\"LOAN IDENTIFIER\",\n",
        "                            \"BORROWER CREDIT SCORE AT ORIGINATION\",\n",
        "                            \"CO-BORROWER CREDIT SCORE AT ORIGINATION\",\n",
        "                            \"FIRST TIME HOME BUYER INDICATOR\",\n",
        "                            \"MORTGAGE INSURANCE TYPE\",\n",
        "                            \"NUMBER OF BORROWERS\",\n",
        "                            \"NUMBER OF UNITS\",\n",
        "                            \"OCCUPANCY TYPE\",\n",
        "                            \"ORIGINAL COMBINED LOAN-TO-VALUE (CLTV)\",\n",
        "                            \"ORIGINAL DEBT TO INCOME RATIO\",\n",
        "                            \"ORIGINATION CHANNEL\",\n",
        "                            \"ORIGINAL INTEREST RATE\",\n",
        "                            \"ORIGINAL LOAN TERM\",\n",
        "                            \"ORIGINAL LOAN-TO-VALUE (LTV)\",\n",
        "                            \"ORIGINAL UPB\",\n",
        "                            \"PRIMARY MORTGAGE INSURANCE PERCENT\",\n",
        "                            \"PRODUCT TYPE\",\n",
        "                            \"PROPERTY TYPE\",\n",
        "                            \"RELOCATION MORTGAGE INDICATOR\",\n",
        "                            \"SELLER NAME\"]\n",
        "\n",
        "REL_PERFORMANCE_FEATURES = [\"LOAN IDENTIFIER\",\n",
        "                            \"ADJUSTED MONTHS TO MATURITY\",\n",
        "                            \"CURRENT ACTUAL UPB\",\n",
        "                            \"CURRENT INTEREST RATE\",\n",
        "                            \"CURRENT LOAN DELINQUENCY STATUS\",\n",
        "                            \"LOAN AGE\",\n",
        "                            \"MODIFICATION FLAG\",\n",
        "                            \"NON INTEREST BEARING UPB\",\n",
        "                            \"PRINCIPAL FORGIVENESS AMOUNT\",\n",
        "                            \"REMAINING MONTHS TO LEGAL MATURITY\",\n",
        "                            \"SERVICING ACTIVITY INDICATOR\",\n",
        "                            \"ZERO BALANCE CODE\"]"
      ],
      "execution_count": 5,
      "outputs": []
    },
    {
      "cell_type": "code",
      "metadata": {
        "colab": {
          "base_uri": "https://localhost:8080/"
        },
        "id": "wMeXcZWB89ws",
        "outputId": "93fbce5a-36d4-4bc3-cad4-2562f3ae8df7"
      },
      "source": [
        "path = \"/content\" # use your path\n",
        "performance_files = glob.glob(path + \"/Performance_*.txt\")\n",
        "acquisition_files = glob.glob(path + \"/Acquisition_*.txt\")\n",
        "\n",
        "print(performance_files)\n",
        "print(acquisition_files)\n",
        "\n",
        "def data_to_dataframe(files, features):\n",
        "    li = []\n",
        "\n",
        "    for filename in files:\n",
        "        df = pd.read_csv(filename, sep = \"|\", names = features, index_col=None, header=0)\n",
        "        li.append(df)\n",
        "\n",
        "    frame = pd.concat(li, axis=0, ignore_index=True)\n",
        "    return frame\n",
        "\n",
        "acq_df = data_to_dataframe(acquisition_files, ACQUISITION_FEATURES)\n",
        "per_df = data_to_dataframe(performance_files, PERFORMANCE_FEATURES)"
      ],
      "execution_count": 6,
      "outputs": [
        {
          "output_type": "stream",
          "text": [
            "['/content/Performance_2018Q1.txt']\n",
            "['/content/Acquisition_2018Q1.txt']\n"
          ],
          "name": "stdout"
        }
      ]
    },
    {
      "cell_type": "code",
      "metadata": {
        "id": "YERNMaKa89wt"
      },
      "source": [
        "per_df = per_df.loc[per_df[\"ZERO BALANCE CODE\"].notnull(), REL_PERFORMANCE_FEATURES]\n",
        "df = per_df.merge(acq_df[REL_ACQUISITION_FEATURES], on = \"LOAN IDENTIFIER\", how = \"inner\")"
      ],
      "execution_count": 7,
      "outputs": []
    },
    {
      "cell_type": "code",
      "metadata": {
        "colab": {
          "base_uri": "https://localhost:8080/",
          "height": 383
        },
        "id": "9M6XIN4c89wt",
        "outputId": "438f393a-9698-4f8d-f3c7-6b887d918e4e"
      },
      "source": [
        "df.head()"
      ],
      "execution_count": 8,
      "outputs": [
        {
          "output_type": "execute_result",
          "data": {
            "text/html": [
              "<div>\n",
              "<style scoped>\n",
              "    .dataframe tbody tr th:only-of-type {\n",
              "        vertical-align: middle;\n",
              "    }\n",
              "\n",
              "    .dataframe tbody tr th {\n",
              "        vertical-align: top;\n",
              "    }\n",
              "\n",
              "    .dataframe thead th {\n",
              "        text-align: right;\n",
              "    }\n",
              "</style>\n",
              "<table border=\"1\" class=\"dataframe\">\n",
              "  <thead>\n",
              "    <tr style=\"text-align: right;\">\n",
              "      <th></th>\n",
              "      <th>LOAN IDENTIFIER</th>\n",
              "      <th>ADJUSTED MONTHS TO MATURITY</th>\n",
              "      <th>CURRENT ACTUAL UPB</th>\n",
              "      <th>CURRENT INTEREST RATE</th>\n",
              "      <th>CURRENT LOAN DELINQUENCY STATUS</th>\n",
              "      <th>LOAN AGE</th>\n",
              "      <th>MODIFICATION FLAG</th>\n",
              "      <th>NON INTEREST BEARING UPB</th>\n",
              "      <th>PRINCIPAL FORGIVENESS AMOUNT</th>\n",
              "      <th>REMAINING MONTHS TO LEGAL MATURITY</th>\n",
              "      <th>SERVICING ACTIVITY INDICATOR</th>\n",
              "      <th>ZERO BALANCE CODE</th>\n",
              "      <th>BORROWER CREDIT SCORE AT ORIGINATION</th>\n",
              "      <th>CO-BORROWER CREDIT SCORE AT ORIGINATION</th>\n",
              "      <th>FIRST TIME HOME BUYER INDICATOR</th>\n",
              "      <th>MORTGAGE INSURANCE TYPE</th>\n",
              "      <th>NUMBER OF BORROWERS</th>\n",
              "      <th>NUMBER OF UNITS</th>\n",
              "      <th>OCCUPANCY TYPE</th>\n",
              "      <th>ORIGINAL COMBINED LOAN-TO-VALUE (CLTV)</th>\n",
              "      <th>ORIGINAL DEBT TO INCOME RATIO</th>\n",
              "      <th>ORIGINATION CHANNEL</th>\n",
              "      <th>ORIGINAL INTEREST RATE</th>\n",
              "      <th>ORIGINAL LOAN TERM</th>\n",
              "      <th>ORIGINAL LOAN-TO-VALUE (LTV)</th>\n",
              "      <th>ORIGINAL UPB</th>\n",
              "      <th>PRIMARY MORTGAGE INSURANCE PERCENT</th>\n",
              "      <th>PRODUCT TYPE</th>\n",
              "      <th>PROPERTY TYPE</th>\n",
              "      <th>RELOCATION MORTGAGE INDICATOR</th>\n",
              "      <th>SELLER NAME</th>\n",
              "    </tr>\n",
              "  </thead>\n",
              "  <tbody>\n",
              "    <tr>\n",
              "      <th>0</th>\n",
              "      <td>100012691523</td>\n",
              "      <td>0.0</td>\n",
              "      <td>176202.25</td>\n",
              "      <td>5.375</td>\n",
              "      <td>X</td>\n",
              "      <td>18</td>\n",
              "      <td>N</td>\n",
              "      <td>NaN</td>\n",
              "      <td>NaN</td>\n",
              "      <td>342</td>\n",
              "      <td>NaN</td>\n",
              "      <td>1.0</td>\n",
              "      <td>690.0</td>\n",
              "      <td>NaN</td>\n",
              "      <td>N</td>\n",
              "      <td>NaN</td>\n",
              "      <td>1</td>\n",
              "      <td>1</td>\n",
              "      <td>P</td>\n",
              "      <td>80.0</td>\n",
              "      <td>14.0</td>\n",
              "      <td>R</td>\n",
              "      <td>5.375</td>\n",
              "      <td>360</td>\n",
              "      <td>80</td>\n",
              "      <td>180000</td>\n",
              "      <td>NaN</td>\n",
              "      <td>FRM</td>\n",
              "      <td>PU</td>\n",
              "      <td>N</td>\n",
              "      <td>OTHER</td>\n",
              "    </tr>\n",
              "    <tr>\n",
              "      <th>1</th>\n",
              "      <td>100021639708</td>\n",
              "      <td>0.0</td>\n",
              "      <td>219327.38</td>\n",
              "      <td>3.990</td>\n",
              "      <td>X</td>\n",
              "      <td>22</td>\n",
              "      <td>N</td>\n",
              "      <td>NaN</td>\n",
              "      <td>NaN</td>\n",
              "      <td>338</td>\n",
              "      <td>NaN</td>\n",
              "      <td>1.0</td>\n",
              "      <td>757.0</td>\n",
              "      <td>NaN</td>\n",
              "      <td>N</td>\n",
              "      <td>NaN</td>\n",
              "      <td>1</td>\n",
              "      <td>1</td>\n",
              "      <td>P</td>\n",
              "      <td>80.0</td>\n",
              "      <td>42.0</td>\n",
              "      <td>R</td>\n",
              "      <td>3.990</td>\n",
              "      <td>360</td>\n",
              "      <td>80</td>\n",
              "      <td>227000</td>\n",
              "      <td>NaN</td>\n",
              "      <td>FRM</td>\n",
              "      <td>PU</td>\n",
              "      <td>N</td>\n",
              "      <td>QUICKEN LOANS, LLC</td>\n",
              "    </tr>\n",
              "    <tr>\n",
              "      <th>2</th>\n",
              "      <td>100031627426</td>\n",
              "      <td>0.0</td>\n",
              "      <td>345644.81</td>\n",
              "      <td>4.375</td>\n",
              "      <td>X</td>\n",
              "      <td>18</td>\n",
              "      <td>N</td>\n",
              "      <td>NaN</td>\n",
              "      <td>NaN</td>\n",
              "      <td>342</td>\n",
              "      <td>NaN</td>\n",
              "      <td>1.0</td>\n",
              "      <td>767.0</td>\n",
              "      <td>NaN</td>\n",
              "      <td>N</td>\n",
              "      <td>1.0</td>\n",
              "      <td>1</td>\n",
              "      <td>1</td>\n",
              "      <td>P</td>\n",
              "      <td>85.0</td>\n",
              "      <td>28.0</td>\n",
              "      <td>R</td>\n",
              "      <td>4.375</td>\n",
              "      <td>360</td>\n",
              "      <td>85</td>\n",
              "      <td>368000</td>\n",
              "      <td>12.0</td>\n",
              "      <td>FRM</td>\n",
              "      <td>PU</td>\n",
              "      <td>N</td>\n",
              "      <td>OTHER</td>\n",
              "    </tr>\n",
              "    <tr>\n",
              "      <th>3</th>\n",
              "      <td>100038288795</td>\n",
              "      <td>0.0</td>\n",
              "      <td>170503.63</td>\n",
              "      <td>4.625</td>\n",
              "      <td>X</td>\n",
              "      <td>15</td>\n",
              "      <td>N</td>\n",
              "      <td>NaN</td>\n",
              "      <td>NaN</td>\n",
              "      <td>345</td>\n",
              "      <td>NaN</td>\n",
              "      <td>1.0</td>\n",
              "      <td>748.0</td>\n",
              "      <td>NaN</td>\n",
              "      <td>N</td>\n",
              "      <td>NaN</td>\n",
              "      <td>1</td>\n",
              "      <td>1</td>\n",
              "      <td>P</td>\n",
              "      <td>74.0</td>\n",
              "      <td>29.0</td>\n",
              "      <td>R</td>\n",
              "      <td>4.625</td>\n",
              "      <td>360</td>\n",
              "      <td>74</td>\n",
              "      <td>174000</td>\n",
              "      <td>NaN</td>\n",
              "      <td>FRM</td>\n",
              "      <td>SF</td>\n",
              "      <td>N</td>\n",
              "      <td>OTHER</td>\n",
              "    </tr>\n",
              "    <tr>\n",
              "      <th>4</th>\n",
              "      <td>100043464862</td>\n",
              "      <td>0.0</td>\n",
              "      <td>290100.23</td>\n",
              "      <td>4.375</td>\n",
              "      <td>X</td>\n",
              "      <td>24</td>\n",
              "      <td>N</td>\n",
              "      <td>NaN</td>\n",
              "      <td>NaN</td>\n",
              "      <td>336</td>\n",
              "      <td>NaN</td>\n",
              "      <td>1.0</td>\n",
              "      <td>751.0</td>\n",
              "      <td>724.0</td>\n",
              "      <td>N</td>\n",
              "      <td>NaN</td>\n",
              "      <td>2</td>\n",
              "      <td>1</td>\n",
              "      <td>P</td>\n",
              "      <td>80.0</td>\n",
              "      <td>43.0</td>\n",
              "      <td>C</td>\n",
              "      <td>4.375</td>\n",
              "      <td>360</td>\n",
              "      <td>80</td>\n",
              "      <td>300000</td>\n",
              "      <td>NaN</td>\n",
              "      <td>FRM</td>\n",
              "      <td>PU</td>\n",
              "      <td>N</td>\n",
              "      <td>WELLS FARGO BANK, N.A.</td>\n",
              "    </tr>\n",
              "  </tbody>\n",
              "</table>\n",
              "</div>"
            ],
            "text/plain": [
              "   LOAN IDENTIFIER  ...             SELLER NAME\n",
              "0     100012691523  ...                   OTHER\n",
              "1     100021639708  ...      QUICKEN LOANS, LLC\n",
              "2     100031627426  ...                   OTHER\n",
              "3     100038288795  ...                   OTHER\n",
              "4     100043464862  ...  WELLS FARGO BANK, N.A.\n",
              "\n",
              "[5 rows x 31 columns]"
            ]
          },
          "metadata": {
            "tags": []
          },
          "execution_count": 8
        }
      ]
    },
    {
      "cell_type": "markdown",
      "metadata": {
        "id": "no057Czy89wt"
      },
      "source": [
        "## **Data Preprocessing and Cleaning**"
      ]
    },
    {
      "cell_type": "code",
      "metadata": {
        "colab": {
          "base_uri": "https://localhost:8080/"
        },
        "id": "6DbdZTNM89wu",
        "outputId": "026feb9c-1879-4596-8eb2-f8ea626c2e25"
      },
      "source": [
        "# Data Shape and Data Info\n",
        "print(df.shape)\n",
        "print(df.info())\n",
        "# Checking for missing data\n",
        "print(df.isnull().sum())"
      ],
      "execution_count": 9,
      "outputs": [
        {
          "output_type": "stream",
          "text": [
            "(86449, 31)\n",
            "<class 'pandas.core.frame.DataFrame'>\n",
            "Int64Index: 86449 entries, 0 to 86448\n",
            "Data columns (total 31 columns):\n",
            " #   Column                                   Non-Null Count  Dtype  \n",
            "---  ------                                   --------------  -----  \n",
            " 0   LOAN IDENTIFIER                          86449 non-null  int64  \n",
            " 1   ADJUSTED MONTHS TO MATURITY              86449 non-null  float64\n",
            " 2   CURRENT ACTUAL UPB                       86447 non-null  float64\n",
            " 3   CURRENT INTEREST RATE                    86449 non-null  float64\n",
            " 4   CURRENT LOAN DELINQUENCY STATUS          86264 non-null  object \n",
            " 5   LOAN AGE                                 86449 non-null  int64  \n",
            " 6   MODIFICATION FLAG                        86449 non-null  object \n",
            " 7   NON INTEREST BEARING UPB                 0 non-null      float64\n",
            " 8   PRINCIPAL FORGIVENESS AMOUNT             0 non-null      float64\n",
            " 9   REMAINING MONTHS TO LEGAL MATURITY       86449 non-null  int64  \n",
            " 10  SERVICING ACTIVITY INDICATOR             0 non-null      object \n",
            " 11  ZERO BALANCE CODE                        86449 non-null  float64\n",
            " 12  BORROWER CREDIT SCORE AT ORIGINATION     86383 non-null  float64\n",
            " 13  CO-BORROWER CREDIT SCORE AT ORIGINATION  38969 non-null  float64\n",
            " 14  FIRST TIME HOME BUYER INDICATOR          86449 non-null  object \n",
            " 15  MORTGAGE INSURANCE TYPE                  21197 non-null  float64\n",
            " 16  NUMBER OF BORROWERS                      86449 non-null  int64  \n",
            " 17  NUMBER OF UNITS                          86449 non-null  int64  \n",
            " 18  OCCUPANCY TYPE                           86449 non-null  object \n",
            " 19  ORIGINAL COMBINED LOAN-TO-VALUE (CLTV)   86449 non-null  float64\n",
            " 20  ORIGINAL DEBT TO INCOME RATIO            86430 non-null  float64\n",
            " 21  ORIGINATION CHANNEL                      86449 non-null  object \n",
            " 22  ORIGINAL INTEREST RATE                   86449 non-null  float64\n",
            " 23  ORIGINAL LOAN TERM                       86449 non-null  int64  \n",
            " 24  ORIGINAL LOAN-TO-VALUE (LTV)             86449 non-null  int64  \n",
            " 25  ORIGINAL UPB                             86449 non-null  int64  \n",
            " 26  PRIMARY MORTGAGE INSURANCE PERCENT       21197 non-null  float64\n",
            " 27  PRODUCT TYPE                             86449 non-null  object \n",
            " 28  PROPERTY TYPE                            86449 non-null  object \n",
            " 29  RELOCATION MORTGAGE INDICATOR            86449 non-null  object \n",
            " 30  SELLER NAME                              86449 non-null  object \n",
            "dtypes: float64(13), int64(8), object(10)\n",
            "memory usage: 21.1+ MB\n",
            "None\n",
            "LOAN IDENTIFIER                                0\n",
            "ADJUSTED MONTHS TO MATURITY                    0\n",
            "CURRENT ACTUAL UPB                             2\n",
            "CURRENT INTEREST RATE                          0\n",
            "CURRENT LOAN DELINQUENCY STATUS              185\n",
            "LOAN AGE                                       0\n",
            "MODIFICATION FLAG                              0\n",
            "NON INTEREST BEARING UPB                   86449\n",
            "PRINCIPAL FORGIVENESS AMOUNT               86449\n",
            "REMAINING MONTHS TO LEGAL MATURITY             0\n",
            "SERVICING ACTIVITY INDICATOR               86449\n",
            "ZERO BALANCE CODE                              0\n",
            "BORROWER CREDIT SCORE AT ORIGINATION          66\n",
            "CO-BORROWER CREDIT SCORE AT ORIGINATION    47480\n",
            "FIRST TIME HOME BUYER INDICATOR                0\n",
            "MORTGAGE INSURANCE TYPE                    65252\n",
            "NUMBER OF BORROWERS                            0\n",
            "NUMBER OF UNITS                                0\n",
            "OCCUPANCY TYPE                                 0\n",
            "ORIGINAL COMBINED LOAN-TO-VALUE (CLTV)         0\n",
            "ORIGINAL DEBT TO INCOME RATIO                 19\n",
            "ORIGINATION CHANNEL                            0\n",
            "ORIGINAL INTEREST RATE                         0\n",
            "ORIGINAL LOAN TERM                             0\n",
            "ORIGINAL LOAN-TO-VALUE (LTV)                   0\n",
            "ORIGINAL UPB                                   0\n",
            "PRIMARY MORTGAGE INSURANCE PERCENT         65252\n",
            "PRODUCT TYPE                                   0\n",
            "PROPERTY TYPE                                  0\n",
            "RELOCATION MORTGAGE INDICATOR                  0\n",
            "SELLER NAME                                    0\n",
            "dtype: int64\n"
          ],
          "name": "stdout"
        }
      ]
    },
    {
      "cell_type": "code",
      "metadata": {
        "id": "Iic50Uuk89wu"
      },
      "source": [
        "df.drop([\"ADJUSTED MONTHS TO MATURITY\", \n",
        "                 \"NON INTEREST BEARING UPB\", \n",
        "                 \"PRINCIPAL FORGIVENESS AMOUNT\",\n",
        "                 \"SERVICING ACTIVITY INDICATOR\",\n",
        "                 \"CO-BORROWER CREDIT SCORE AT ORIGINATION\",\n",
        "                 \"MORTGAGE INSURANCE TYPE\",\n",
        "                 \"PRIMARY MORTGAGE INSURANCE PERCENT\",\n",
        "                 \"CURRENT LOAN DELINQUENCY STATUS\"], axis = 1, inplace = True)"
      ],
      "execution_count": 10,
      "outputs": []
    },
    {
      "cell_type": "code",
      "metadata": {
        "id": "3YGE1S0389wu"
      },
      "source": [
        "# Current UPB \n",
        "df[\"CURRENT ACTUAL UPB\"].fillna(df[\"CURRENT ACTUAL UPB\"].mean(), inplace = True)\n",
        "df[\"BORROWER CREDIT SCORE AT ORIGINATION\"].fillna(df[\"BORROWER CREDIT SCORE AT ORIGINATION\"].mean(), inplace = True)\n",
        "df[\"ORIGINAL DEBT TO INCOME RATIO\"].fillna(df[\"ORIGINAL DEBT TO INCOME RATIO\"].mean(), inplace = True)"
      ],
      "execution_count": 11,
      "outputs": []
    },
    {
      "cell_type": "code",
      "metadata": {
        "id": "7Sn9M7kX89wu"
      },
      "source": [
        "## Encoding the target variable\n",
        "# 0 - Defaulted, 1 - Not Defaulted\n",
        "df[\"ZERO BALANCE CODE\"].replace({\n",
        "    1: 1,\n",
        "    2: 0,\n",
        "    3: 0,\n",
        "    6: 0,\n",
        "    9: 0,\n",
        "    15: 1,\n",
        "    16: 1\n",
        "}, inplace = True)"
      ],
      "execution_count": 12,
      "outputs": []
    },
    {
      "cell_type": "code",
      "metadata": {
        "id": "08S83oLl89wv"
      },
      "source": [
        "#sns.distplot(LabelEncoder().fit_transform(df[\"ZERO BALANCE CODE\"]))"
      ],
      "execution_count": 13,
      "outputs": []
    },
    {
      "cell_type": "code",
      "metadata": {
        "colab": {
          "base_uri": "https://localhost:8080/"
        },
        "id": "33JGZAtI89wv",
        "outputId": "8f422c45-4762-443e-865c-2e46385a7ab5"
      },
      "source": [
        "df[\"ZERO BALANCE CODE\"].value_counts()"
      ],
      "execution_count": 14,
      "outputs": [
        {
          "output_type": "execute_result",
          "data": {
            "text/plain": [
              "1.0    85938\n",
              "0.0      511\n",
              "Name: ZERO BALANCE CODE, dtype: int64"
            ]
          },
          "metadata": {
            "tags": []
          },
          "execution_count": 14
        }
      ]
    },
    {
      "cell_type": "markdown",
      "metadata": {
        "id": "PwWafOu389ww"
      },
      "source": [
        "## **EDA**"
      ]
    },
    {
      "cell_type": "code",
      "metadata": {
        "id": "6A2thcQU89ww"
      },
      "source": [
        "# # Checking multicolinearity between continous features\n",
        "# #correlation matrix\n",
        "# corrmat = df.corr()\n",
        "# f, ax = plt.subplots(figsize=(12, 9))\n",
        "# sns.heatmap(corrmat, vmax=.8, square=True)"
      ],
      "execution_count": 15,
      "outputs": []
    },
    {
      "cell_type": "code",
      "metadata": {
        "id": "a3CY5VDq89ww"
      },
      "source": [
        "df.drop([\"LOAN IDENTIFIER\", \"ORIGINAL UPB\", \"ORIGINAL LOAN-TO-VALUE (LTV)\", \"ORIGINAL LOAN TERM\", \"ORIGINAL INTEREST RATE\"], axis = 1, inplace = True)"
      ],
      "execution_count": 16,
      "outputs": []
    },
    {
      "cell_type": "code",
      "metadata": {
        "colab": {
          "base_uri": "https://localhost:8080/",
          "height": 383
        },
        "id": "yJ8pA-A089ww",
        "outputId": "d2476cb4-5420-4752-d62f-aa57d7ccffb1"
      },
      "source": [
        "df.head()"
      ],
      "execution_count": 17,
      "outputs": [
        {
          "output_type": "execute_result",
          "data": {
            "text/html": [
              "<div>\n",
              "<style scoped>\n",
              "    .dataframe tbody tr th:only-of-type {\n",
              "        vertical-align: middle;\n",
              "    }\n",
              "\n",
              "    .dataframe tbody tr th {\n",
              "        vertical-align: top;\n",
              "    }\n",
              "\n",
              "    .dataframe thead th {\n",
              "        text-align: right;\n",
              "    }\n",
              "</style>\n",
              "<table border=\"1\" class=\"dataframe\">\n",
              "  <thead>\n",
              "    <tr style=\"text-align: right;\">\n",
              "      <th></th>\n",
              "      <th>CURRENT ACTUAL UPB</th>\n",
              "      <th>CURRENT INTEREST RATE</th>\n",
              "      <th>LOAN AGE</th>\n",
              "      <th>MODIFICATION FLAG</th>\n",
              "      <th>REMAINING MONTHS TO LEGAL MATURITY</th>\n",
              "      <th>ZERO BALANCE CODE</th>\n",
              "      <th>BORROWER CREDIT SCORE AT ORIGINATION</th>\n",
              "      <th>FIRST TIME HOME BUYER INDICATOR</th>\n",
              "      <th>NUMBER OF BORROWERS</th>\n",
              "      <th>NUMBER OF UNITS</th>\n",
              "      <th>OCCUPANCY TYPE</th>\n",
              "      <th>ORIGINAL COMBINED LOAN-TO-VALUE (CLTV)</th>\n",
              "      <th>ORIGINAL DEBT TO INCOME RATIO</th>\n",
              "      <th>ORIGINATION CHANNEL</th>\n",
              "      <th>PRODUCT TYPE</th>\n",
              "      <th>PROPERTY TYPE</th>\n",
              "      <th>RELOCATION MORTGAGE INDICATOR</th>\n",
              "      <th>SELLER NAME</th>\n",
              "    </tr>\n",
              "  </thead>\n",
              "  <tbody>\n",
              "    <tr>\n",
              "      <th>0</th>\n",
              "      <td>176202.25</td>\n",
              "      <td>5.375</td>\n",
              "      <td>18</td>\n",
              "      <td>N</td>\n",
              "      <td>342</td>\n",
              "      <td>1.0</td>\n",
              "      <td>690.0</td>\n",
              "      <td>N</td>\n",
              "      <td>1</td>\n",
              "      <td>1</td>\n",
              "      <td>P</td>\n",
              "      <td>80.0</td>\n",
              "      <td>14.0</td>\n",
              "      <td>R</td>\n",
              "      <td>FRM</td>\n",
              "      <td>PU</td>\n",
              "      <td>N</td>\n",
              "      <td>OTHER</td>\n",
              "    </tr>\n",
              "    <tr>\n",
              "      <th>1</th>\n",
              "      <td>219327.38</td>\n",
              "      <td>3.990</td>\n",
              "      <td>22</td>\n",
              "      <td>N</td>\n",
              "      <td>338</td>\n",
              "      <td>1.0</td>\n",
              "      <td>757.0</td>\n",
              "      <td>N</td>\n",
              "      <td>1</td>\n",
              "      <td>1</td>\n",
              "      <td>P</td>\n",
              "      <td>80.0</td>\n",
              "      <td>42.0</td>\n",
              "      <td>R</td>\n",
              "      <td>FRM</td>\n",
              "      <td>PU</td>\n",
              "      <td>N</td>\n",
              "      <td>QUICKEN LOANS, LLC</td>\n",
              "    </tr>\n",
              "    <tr>\n",
              "      <th>2</th>\n",
              "      <td>345644.81</td>\n",
              "      <td>4.375</td>\n",
              "      <td>18</td>\n",
              "      <td>N</td>\n",
              "      <td>342</td>\n",
              "      <td>1.0</td>\n",
              "      <td>767.0</td>\n",
              "      <td>N</td>\n",
              "      <td>1</td>\n",
              "      <td>1</td>\n",
              "      <td>P</td>\n",
              "      <td>85.0</td>\n",
              "      <td>28.0</td>\n",
              "      <td>R</td>\n",
              "      <td>FRM</td>\n",
              "      <td>PU</td>\n",
              "      <td>N</td>\n",
              "      <td>OTHER</td>\n",
              "    </tr>\n",
              "    <tr>\n",
              "      <th>3</th>\n",
              "      <td>170503.63</td>\n",
              "      <td>4.625</td>\n",
              "      <td>15</td>\n",
              "      <td>N</td>\n",
              "      <td>345</td>\n",
              "      <td>1.0</td>\n",
              "      <td>748.0</td>\n",
              "      <td>N</td>\n",
              "      <td>1</td>\n",
              "      <td>1</td>\n",
              "      <td>P</td>\n",
              "      <td>74.0</td>\n",
              "      <td>29.0</td>\n",
              "      <td>R</td>\n",
              "      <td>FRM</td>\n",
              "      <td>SF</td>\n",
              "      <td>N</td>\n",
              "      <td>OTHER</td>\n",
              "    </tr>\n",
              "    <tr>\n",
              "      <th>4</th>\n",
              "      <td>290100.23</td>\n",
              "      <td>4.375</td>\n",
              "      <td>24</td>\n",
              "      <td>N</td>\n",
              "      <td>336</td>\n",
              "      <td>1.0</td>\n",
              "      <td>751.0</td>\n",
              "      <td>N</td>\n",
              "      <td>2</td>\n",
              "      <td>1</td>\n",
              "      <td>P</td>\n",
              "      <td>80.0</td>\n",
              "      <td>43.0</td>\n",
              "      <td>C</td>\n",
              "      <td>FRM</td>\n",
              "      <td>PU</td>\n",
              "      <td>N</td>\n",
              "      <td>WELLS FARGO BANK, N.A.</td>\n",
              "    </tr>\n",
              "  </tbody>\n",
              "</table>\n",
              "</div>"
            ],
            "text/plain": [
              "   CURRENT ACTUAL UPB  ...             SELLER NAME\n",
              "0           176202.25  ...                   OTHER\n",
              "1           219327.38  ...      QUICKEN LOANS, LLC\n",
              "2           345644.81  ...                   OTHER\n",
              "3           170503.63  ...                   OTHER\n",
              "4           290100.23  ...  WELLS FARGO BANK, N.A.\n",
              "\n",
              "[5 rows x 18 columns]"
            ]
          },
          "metadata": {
            "tags": []
          },
          "execution_count": 17
        }
      ]
    },
    {
      "cell_type": "markdown",
      "metadata": {
        "id": "G6hLwUVj89ww"
      },
      "source": [
        "## Preparing train and test splits¶"
      ]
    },
    {
      "cell_type": "code",
      "metadata": {
        "id": "2jTaiqZ-89ww"
      },
      "source": [
        "## Split the data into closed and defaulted \n",
        "paid_df = df[df[\"ZERO BALANCE CODE\"] == 1]\n",
        "default_df = df[df[\"ZERO BALANCE CODE\"] == 0]"
      ],
      "execution_count": 18,
      "outputs": []
    },
    {
      "cell_type": "code",
      "metadata": {
        "id": "LyvGKly-89ww"
      },
      "source": [
        "## Split into train test\n",
        "# Shuffle the dataset \n",
        "paid_df = paid_df.sample(frac=1).reset_index(drop=True)\n",
        "\n",
        "train_size = int(len(paid_df)*TRAINING_SAMPLE)\n",
        "\n",
        "train_df = paid_df.iloc[:train_size]\n",
        "test_df_paid = paid_df.iloc[train_size:].sample(frac=1).reset_index(drop=True)\n",
        "test_df_default = default_df.sample(frac=1).reset_index(drop=True)"
      ],
      "execution_count": 19,
      "outputs": []
    },
    {
      "cell_type": "code",
      "metadata": {
        "colab": {
          "base_uri": "https://localhost:8080/"
        },
        "id": "_l30cwsV89ww",
        "outputId": "cb63bd93-4a2e-4ae9-ad4b-1fdde600bbcf"
      },
      "source": [
        "test_df_paid[\"ZERO BALANCE CODE\"].value_counts()"
      ],
      "execution_count": 20,
      "outputs": [
        {
          "output_type": "execute_result",
          "data": {
            "text/plain": [
              "1.0    860\n",
              "Name: ZERO BALANCE CODE, dtype: int64"
            ]
          },
          "metadata": {
            "tags": []
          },
          "execution_count": 20
        }
      ]
    },
    {
      "cell_type": "code",
      "metadata": {
        "colab": {
          "base_uri": "https://localhost:8080/"
        },
        "id": "Ub5NcfMP89wx",
        "outputId": "a1e4b7ee-24ce-4524-b76d-7bfa850fcadf"
      },
      "source": [
        "test_df_default[\"ZERO BALANCE CODE\"].value_counts()"
      ],
      "execution_count": 21,
      "outputs": [
        {
          "output_type": "execute_result",
          "data": {
            "text/plain": [
              "0.0    511\n",
              "Name: ZERO BALANCE CODE, dtype: int64"
            ]
          },
          "metadata": {
            "tags": []
          },
          "execution_count": 21
        }
      ]
    },
    {
      "cell_type": "markdown",
      "metadata": {
        "id": "QQ-qpKyr89wx"
      },
      "source": [
        "## Encoding the Data"
      ]
    },
    {
      "cell_type": "code",
      "metadata": {
        "id": "KPa43QE589wx"
      },
      "source": [
        "categorical_variables = [\"MODIFICATION FLAG\",\n",
        "                         \"FIRST TIME HOME BUYER INDICATOR\",\n",
        "                         \"OCCUPANCY TYPE\",\n",
        "                         \"ORIGINATION CHANNEL\",\n",
        "                         \"PRODUCT TYPE\",\n",
        "                         \"PROPERTY TYPE\",\n",
        "                         \"RELOCATION MORTGAGE INDICATOR\",\n",
        "                         \"SELLER NAME\"]\n",
        "target_variable = [\"ZERO BALANCE CODE\"]\n",
        "numerical_variables = [[feature] for feature in df.columns if feature not in (categorical_variables + target_variable)]"
      ],
      "execution_count": 22,
      "outputs": []
    },
    {
      "cell_type": "code",
      "metadata": {
        "id": "y3XqyClf89wy"
      },
      "source": [
        "def encode_data(dataframe, test_paid, test_default):\n",
        "    \n",
        "    cat_feature_def = gen_features(columns = categorical_variables, classes = [LabelBinarizer])\n",
        "    num_feature_def = gen_features(columns = numerical_variables, classes = [StandardScaler])\n",
        "    \n",
        "    \n",
        "    # mapper = DataFrameMapper(cat_feature_def + num_feature_def, drop_cols = target_variable)\n",
        "    mapper = DataFrameMapper(cat_feature_def + num_feature_def)\n",
        "    \n",
        "    mapper.fit(dataframe)\n",
        "    train_data = mapper.transform(dataframe)\n",
        "    test_paid_data = mapper.transform(test_paid)\n",
        "    test_default_data = mapper.transform(test_default)\n",
        "    \n",
        "    return train_data, test_paid_data, test_default_data"
      ],
      "execution_count": 23,
      "outputs": []
    },
    {
      "cell_type": "code",
      "metadata": {
        "id": "J92xn32V89wy"
      },
      "source": [
        "train_data, test_input_paid, test_input_default = encode_data(train_df, test_df_paid, test_df_default)"
      ],
      "execution_count": 24,
      "outputs": []
    },
    {
      "cell_type": "code",
      "metadata": {
        "colab": {
          "base_uri": "https://localhost:8080/"
        },
        "id": "zNevNwFf89wy",
        "outputId": "21502da2-fddd-4e31-a30f-1d40711db05f"
      },
      "source": [
        "train_data.shape"
      ],
      "execution_count": 25,
      "outputs": [
        {
          "output_type": "execute_result",
          "data": {
            "text/plain": [
              "(85078, 42)"
            ]
          },
          "metadata": {
            "tags": []
          },
          "execution_count": 25
        }
      ]
    },
    {
      "cell_type": "code",
      "metadata": {
        "colab": {
          "base_uri": "https://localhost:8080/"
        },
        "id": "8umvER5M89wy",
        "outputId": "197f4663-78f2-45a0-a926-1754dedae96a"
      },
      "source": [
        "test_input_paid.shape"
      ],
      "execution_count": 26,
      "outputs": [
        {
          "output_type": "execute_result",
          "data": {
            "text/plain": [
              "(860, 42)"
            ]
          },
          "metadata": {
            "tags": []
          },
          "execution_count": 26
        }
      ]
    },
    {
      "cell_type": "code",
      "metadata": {
        "colab": {
          "base_uri": "https://localhost:8080/"
        },
        "id": "0l_hsJt589wy",
        "outputId": "6e0756cc-7961-4073-eb0f-07bc3801e01c"
      },
      "source": [
        "test_input_default.shape"
      ],
      "execution_count": 27,
      "outputs": [
        {
          "output_type": "execute_result",
          "data": {
            "text/plain": [
              "(511, 42)"
            ]
          },
          "metadata": {
            "tags": []
          },
          "execution_count": 27
        }
      ]
    },
    {
      "cell_type": "code",
      "metadata": {
        "id": "tl-DJZNw89w0"
      },
      "source": [
        "# # Standardizing numerical features\n",
        "# sc_num = StandardScaler()\n",
        "# sc_num.fit(train_df[numerical_variables])\n",
        "\n",
        "# train_num_variables_encoded = sc_num.transform(train_df[numerical_variables])\n",
        "# test_num_paid = sc_num.transform(test_df_paid[numerical_variables])\n",
        "# test_num_default = sc_num.transform(test_df_default[numerical_variables])"
      ],
      "execution_count": 28,
      "outputs": []
    },
    {
      "cell_type": "code",
      "metadata": {
        "id": "ndwCUSCj89w0"
      },
      "source": [
        "# #One hot encoding categorical variables\n",
        "# one_cat = OneHotEncoder(handle_unknown=\"ignore\")\n",
        "# one_cat.fit(train_df[categorical_variables])\n",
        "\n",
        "# train_cat_variables_encoded = one_cat.transform(train_df[categorical_variables])\n",
        "# test_cat_paid = one_cat.transform(test_df_paid[categorical_variables])\n",
        "# test_cat_default = one_cat.transform(test_df_default[categorical_variables])"
      ],
      "execution_count": 29,
      "outputs": []
    },
    {
      "cell_type": "markdown",
      "metadata": {
        "id": "uMNADW9P89w0"
      },
      "source": [
        "## Autoencoder"
      ]
    },
    {
      "cell_type": "code",
      "metadata": {
        "id": "afvpQE3u89w0"
      },
      "source": [
        "# Create Input\n",
        "# train_input = sparse.hstack((train_cat_variables_encoded, train_num_variables_encoded)).toarray()\n",
        "train_data = np.expand_dims(train_data, axis = 1)\n",
        "input_shape = (train_data.shape[1], train_data.shape[2])"
      ],
      "execution_count": 30,
      "outputs": []
    },
    {
      "cell_type": "code",
      "metadata": {
        "colab": {
          "base_uri": "https://localhost:8080/"
        },
        "id": "z_rvfNjRBbBJ",
        "outputId": "d4bd58f5-ea4c-4f9d-9a75-ca80ef893f3d"
      },
      "source": [
        "train_data.shape \n"
      ],
      "execution_count": 31,
      "outputs": [
        {
          "output_type": "execute_result",
          "data": {
            "text/plain": [
              "(85078, 1, 42)"
            ]
          },
          "metadata": {
            "tags": []
          },
          "execution_count": 31
        }
      ]
    },
    {
      "cell_type": "code",
      "metadata": {
        "id": "touZxta0A9Wg"
      },
      "source": [
        "class Sampling(layers.Layer):\n",
        "    \"\"\"Uses (z_mean, z_log_var) to sample z, the vector encoding a digit.\"\"\"\n",
        "\n",
        "    def call(self, inputs):\n",
        "        z_mean, z_log_var = inputs\n",
        "        batch = tf.shape(z_mean)[0]\n",
        "        dim = tf.shape(z_mean)[1]\n",
        "        epsilon = tf.keras.backend.random_normal(shape=(batch, dim))\n",
        "        return z_mean + tf.exp(0.5 * z_log_var) * epsilon\n"
      ],
      "execution_count": 32,
      "outputs": []
    },
    {
      "cell_type": "code",
      "metadata": {
        "colab": {
          "base_uri": "https://localhost:8080/"
        },
        "id": "eChtp2nRA9U3",
        "outputId": "baea5656-a0ac-438b-c84a-a5ad4f175be9"
      },
      "source": [
        "latent_dim = 32\n",
        "\n",
        "encoder_inputs = keras.Input(shape=input_shape)\n",
        "x = layers.Dense(32 , activation=\"relu\",)(encoder_inputs)\n",
        "x = layers.Dense(16, activation=\"relu\")(x)\n",
        "x = layers.Dense(8, activation=\"relu\")(x)\n",
        "\n",
        "x = layers.Dense(latent_dim, activation=\"relu\")(x) # any dense rep will do\n",
        "z_mean = layers.Dense(latent_dim, name=\"z_mean\")(x)\n",
        "z_log_var = layers.Dense(latent_dim, name=\"z_log_var\")(x)\n",
        "z = Sampling()([z_mean, z_log_var])\n",
        "\n",
        "encoder = keras.Model(encoder_inputs,[z_mean, z_log_var, z], name=\"encoder\")\n",
        "encoder.summary()"
      ],
      "execution_count": 102,
      "outputs": [
        {
          "output_type": "stream",
          "text": [
            "Model: \"encoder\"\n",
            "__________________________________________________________________________________________________\n",
            "Layer (type)                    Output Shape         Param #     Connected to                     \n",
            "==================================================================================================\n",
            "input_8 (InputLayer)            [(None, 1, 42)]      0                                            \n",
            "__________________________________________________________________________________________________\n",
            "dense_19 (Dense)                (None, 1, 32)        1376        input_8[0][0]                    \n",
            "__________________________________________________________________________________________________\n",
            "dense_20 (Dense)                (None, 1, 16)        528         dense_19[0][0]                   \n",
            "__________________________________________________________________________________________________\n",
            "dense_21 (Dense)                (None, 1, 8)         136         dense_20[0][0]                   \n",
            "__________________________________________________________________________________________________\n",
            "dense_22 (Dense)                (None, 1, 32)        288         dense_21[0][0]                   \n",
            "__________________________________________________________________________________________________\n",
            "z_mean (Dense)                  (None, 1, 32)        1056        dense_22[0][0]                   \n",
            "__________________________________________________________________________________________________\n",
            "z_log_var (Dense)               (None, 1, 32)        1056        dense_22[0][0]                   \n",
            "__________________________________________________________________________________________________\n",
            "sampling_4 (Sampling)           (None, None, 32)     0           z_mean[0][0]                     \n",
            "                                                                 z_log_var[0][0]                  \n",
            "==================================================================================================\n",
            "Total params: 4,440\n",
            "Trainable params: 4,440\n",
            "Non-trainable params: 0\n",
            "__________________________________________________________________________________________________\n"
          ],
          "name": "stdout"
        }
      ]
    },
    {
      "cell_type": "code",
      "metadata": {
        "colab": {
          "base_uri": "https://localhost:8080/"
        },
        "id": "it1jArDcA9Sk",
        "outputId": "0e572198-026d-437b-cfcb-bfe5edfcdd08"
      },
      "source": [
        "latent_inputs = keras.Input(shape=(latent_dim,))\n",
        "x = layers.Dense(8, activation=\"relu\")(latent_inputs)\n",
        "x = layers.Dense(16, activation=\"relu\")(x)\n",
        "x = layers.Dense(32, activation=\"relu\")(x)\n",
        "decoder_outputs = layers.Dense(42, activation=\"sigmoid\")(x)\n",
        "\n",
        "decoder = keras.Model(latent_inputs, decoder_outputs, name=\"decoder\")\n",
        "decoder.summary()\n"
      ],
      "execution_count": 103,
      "outputs": [
        {
          "output_type": "stream",
          "text": [
            "Model: \"decoder\"\n",
            "_________________________________________________________________\n",
            "Layer (type)                 Output Shape              Param #   \n",
            "=================================================================\n",
            "input_9 (InputLayer)         [(None, 32)]              0         \n",
            "_________________________________________________________________\n",
            "dense_23 (Dense)             (None, 8)                 264       \n",
            "_________________________________________________________________\n",
            "dense_24 (Dense)             (None, 16)                144       \n",
            "_________________________________________________________________\n",
            "dense_25 (Dense)             (None, 32)                544       \n",
            "_________________________________________________________________\n",
            "dense_26 (Dense)             (None, 42)                1386      \n",
            "=================================================================\n",
            "Total params: 2,338\n",
            "Trainable params: 2,338\n",
            "Non-trainable params: 0\n",
            "_________________________________________________________________\n"
          ],
          "name": "stdout"
        }
      ]
    },
    {
      "cell_type": "code",
      "metadata": {
        "id": "RKn_UIDkA9Qa"
      },
      "source": [
        "class VAE(keras.Model):\n",
        "    def __init__(self, encoder, decoder, **kwargs):\n",
        "        super(VAE, self).__init__(**kwargs)\n",
        "        self.encoder = encoder\n",
        "        self.decoder = decoder\n",
        "\n",
        "    def call(self,x):\n",
        "        encoded = self.encoder(x)\n",
        "        decoded = self.decoder(encoded)\n",
        "        return decoded\n",
        "\n",
        "\n",
        "    def train_step(self, data):\n",
        "        if isinstance(data, tuple):\n",
        "            data = data[0]\n",
        "        with tf.GradientTape() as tape:\n",
        "            z_mean, z_log_var, z = encoder(data)\n",
        "            reconstruction = decoder(z)\n",
        "            reconstruction_loss = tf.reduce_mean(\n",
        "                tf.keras.losses.mean_absolute_error(data, reconstruction)\n",
        "            )\n",
        "            reconstruction_loss *= 1 # Try diffrent\n",
        "            kl_loss = 1 + z_log_var - tf.square(z_mean) - tf.exp(z_log_var)\n",
        "            kl_loss = tf.reduce_mean(kl_loss)\n",
        "            kl_loss *= -0.5\n",
        "\n",
        "            reconstruction_loss *= 1\n",
        "            kl_loss *= 0.05\n",
        "\n",
        "\n",
        "            total_loss = reconstruction_loss + kl_loss #Try diffrenet combinitions\n",
        "        grads = tape.gradient(total_loss, self.trainable_weights)\n",
        "        self.optimizer.apply_gradients(zip(grads, self.trainable_weights))\n",
        "        return {\n",
        "            \"loss\": total_loss,\n",
        "            \"reconstruction_loss\": reconstruction_loss,\n",
        "            \"kl_loss\": kl_loss,\n",
        "        }\n"
      ],
      "execution_count": 149,
      "outputs": []
    },
    {
      "cell_type": "code",
      "metadata": {
        "colab": {
          "base_uri": "https://localhost:8080/"
        },
        "id": "i7he2P6ZA9N3",
        "outputId": "e57f9a0a-fbfc-424a-a017-da88044b6183"
      },
      "source": [
        "vae = VAE(encoder, decoder)\n",
        "vae.compile(optimizer=keras.optimizers.Adam())\n",
        "vae.fit(train_data, epochs=25, batch_size=128)"
      ],
      "execution_count": 151,
      "outputs": [
        {
          "output_type": "stream",
          "text": [
            "Epoch 1/25\n",
            "WARNING:tensorflow:Model was constructed with shape (None, 32) for input Tensor(\"input_9:0\", shape=(None, 32), dtype=float32), but it was called on an input with incompatible shape (None, None, 32).\n",
            "WARNING:tensorflow:Model was constructed with shape (None, 32) for input Tensor(\"input_9:0\", shape=(None, 32), dtype=float32), but it was called on an input with incompatible shape (None, None, 32).\n",
            "665/665 [==============================] - 3s 5ms/step - loss: 0.1570 - reconstruction_loss: 0.1569 - kl_loss: 1.3947e-04\n",
            "Epoch 2/25\n",
            "665/665 [==============================] - 3s 5ms/step - loss: 0.1569 - reconstruction_loss: 0.1568 - kl_loss: 1.3737e-04\n",
            "Epoch 3/25\n",
            "665/665 [==============================] - 3s 5ms/step - loss: 0.1568 - reconstruction_loss: 0.1567 - kl_loss: 1.3566e-04\n",
            "Epoch 4/25\n",
            "665/665 [==============================] - 3s 5ms/step - loss: 0.1569 - reconstruction_loss: 0.1567 - kl_loss: 1.3545e-04\n",
            "Epoch 5/25\n",
            "665/665 [==============================] - 3s 5ms/step - loss: 0.1568 - reconstruction_loss: 0.1566 - kl_loss: 1.4279e-04\n",
            "Epoch 6/25\n",
            "665/665 [==============================] - 3s 5ms/step - loss: 0.1574 - reconstruction_loss: 0.1573 - kl_loss: 1.5020e-04\n",
            "Epoch 7/25\n",
            "665/665 [==============================] - 3s 5ms/step - loss: 0.1568 - reconstruction_loss: 0.1566 - kl_loss: 1.6909e-04\n",
            "Epoch 8/25\n",
            "665/665 [==============================] - 3s 5ms/step - loss: 0.1567 - reconstruction_loss: 0.1566 - kl_loss: 1.5256e-04\n",
            "Epoch 9/25\n",
            "665/665 [==============================] - 3s 5ms/step - loss: 0.1566 - reconstruction_loss: 0.1565 - kl_loss: 1.4767e-04\n",
            "Epoch 10/25\n",
            "665/665 [==============================] - 3s 5ms/step - loss: 0.1567 - reconstruction_loss: 0.1566 - kl_loss: 1.4638e-04\n",
            "Epoch 11/25\n",
            "665/665 [==============================] - 3s 5ms/step - loss: 0.1567 - reconstruction_loss: 0.1566 - kl_loss: 1.4575e-04\n",
            "Epoch 12/25\n",
            "665/665 [==============================] - 3s 5ms/step - loss: 0.1566 - reconstruction_loss: 0.1565 - kl_loss: 1.4499e-04\n",
            "Epoch 13/25\n",
            "665/665 [==============================] - 3s 5ms/step - loss: 0.1567 - reconstruction_loss: 0.1565 - kl_loss: 1.4360e-04\n",
            "Epoch 14/25\n",
            "665/665 [==============================] - 3s 5ms/step - loss: 0.1567 - reconstruction_loss: 0.1566 - kl_loss: 1.4320e-04\n",
            "Epoch 15/25\n",
            "665/665 [==============================] - 3s 5ms/step - loss: 0.1567 - reconstruction_loss: 0.1565 - kl_loss: 1.4293e-04\n",
            "Epoch 16/25\n",
            "665/665 [==============================] - 3s 5ms/step - loss: 0.1566 - reconstruction_loss: 0.1565 - kl_loss: 1.4176e-04\n",
            "Epoch 17/25\n",
            "665/665 [==============================] - 3s 5ms/step - loss: 0.1567 - reconstruction_loss: 0.1565 - kl_loss: 1.4221e-04\n",
            "Epoch 18/25\n",
            "665/665 [==============================] - 3s 5ms/step - loss: 0.1566 - reconstruction_loss: 0.1565 - kl_loss: 1.4161e-04\n",
            "Epoch 19/25\n",
            "665/665 [==============================] - 3s 5ms/step - loss: 0.1566 - reconstruction_loss: 0.1565 - kl_loss: 1.4073e-04\n",
            "Epoch 20/25\n",
            "665/665 [==============================] - 3s 5ms/step - loss: 0.1567 - reconstruction_loss: 0.1565 - kl_loss: 1.4094e-04\n",
            "Epoch 21/25\n",
            "665/665 [==============================] - 3s 5ms/step - loss: 0.1566 - reconstruction_loss: 0.1565 - kl_loss: 1.4293e-04\n",
            "Epoch 22/25\n",
            "665/665 [==============================] - 3s 5ms/step - loss: 0.1566 - reconstruction_loss: 0.1565 - kl_loss: 1.3962e-04\n",
            "Epoch 23/25\n",
            "665/665 [==============================] - 3s 5ms/step - loss: 0.1566 - reconstruction_loss: 0.1564 - kl_loss: 1.3876e-04\n",
            "Epoch 24/25\n",
            "665/665 [==============================] - 3s 5ms/step - loss: 0.1566 - reconstruction_loss: 0.1564 - kl_loss: 1.3876e-04\n",
            "Epoch 25/25\n",
            "665/665 [==============================] - 3s 5ms/step - loss: 0.1566 - reconstruction_loss: 0.1565 - kl_loss: 1.3737e-04\n"
          ],
          "name": "stdout"
        },
        {
          "output_type": "execute_result",
          "data": {
            "text/plain": [
              "<tensorflow.python.keras.callbacks.History at 0x7ff6160bd978>"
            ]
          },
          "metadata": {
            "tags": []
          },
          "execution_count": 151
        }
      ]
    },
    {
      "cell_type": "code",
      "metadata": {
        "id": "H-MV1h-bH9cs"
      },
      "source": [
        ""
      ],
      "execution_count": 135,
      "outputs": []
    },
    {
      "cell_type": "code",
      "metadata": {
        "colab": {
          "base_uri": "https://localhost:8080/"
        },
        "id": "49VMLqIqICan",
        "outputId": "92306e35-f537-4f01-a20b-36a9b0976960"
      },
      "source": [
        "vae.save_weights('/content/vae_check/my_checkpoint(ld=32)(kl=0)')\n",
        "model0 = VAE(encoder, decoder)\n",
        "model0.load_weights('/content/vae_check/my_checkpoint(ld=32)(kl=0)')"
      ],
      "execution_count": 152,
      "outputs": [
        {
          "output_type": "execute_result",
          "data": {
            "text/plain": [
              "<tensorflow.python.training.tracking.util.CheckpointLoadStatus at 0x7ff5fce75be0>"
            ]
          },
          "metadata": {
            "tags": []
          },
          "execution_count": 152
        }
      ]
    },
    {
      "cell_type": "code",
      "metadata": {
        "colab": {
          "base_uri": "https://localhost:8080/"
        },
        "id": "9LEU8vlaICap",
        "outputId": "b0112f8a-7419-4cac-fffa-887e80c02969"
      },
      "source": [
        "input_arr = tf.random.uniform((1, 42))\n",
        "input_arr.shape\n",
        "model0.build(input_arr.shape)\n",
        "model0.summary()"
      ],
      "execution_count": 153,
      "outputs": [
        {
          "output_type": "stream",
          "text": [
            "WARNING:tensorflow:Model was constructed with shape (None, 1, 42) for input Tensor(\"input_8:0\", shape=(None, 1, 42), dtype=float32), but it was called on an input with incompatible shape (1, 42).\n",
            "Model: \"vae_15\"\n",
            "_________________________________________________________________\n",
            "Layer (type)                 Output Shape              Param #   \n",
            "=================================================================\n",
            "encoder (Functional)         [(None, 1, 32), (None, 1, 4440      \n",
            "_________________________________________________________________\n",
            "decoder (Functional)         (None, 42)                2338      \n",
            "=================================================================\n",
            "Total params: 6,778\n",
            "Trainable params: 6,778\n",
            "Non-trainable params: 0\n",
            "_________________________________________________________________\n"
          ],
          "name": "stdout"
        }
      ]
    },
    {
      "cell_type": "code",
      "metadata": {
        "id": "-HNWxBdnH9Y-"
      },
      "source": [
        ""
      ],
      "execution_count": 153,
      "outputs": []
    },
    {
      "cell_type": "code",
      "metadata": {
        "id": "ouWuVthydyaX"
      },
      "source": [
        ""
      ],
      "execution_count": 153,
      "outputs": []
    },
    {
      "cell_type": "code",
      "metadata": {
        "id": "JD0Gw8YXLOh9"
      },
      "source": [
        "en_reconstructions_paid = model0.encoder(np.expand_dims(test_input_paid, axis=1))\n",
        "\n",
        "en_reconstructions_default = model0.encoder(np.expand_dims(test_input_default ,axis=1))"
      ],
      "execution_count": 154,
      "outputs": []
    },
    {
      "cell_type": "code",
      "metadata": {
        "id": "zbZp7xTyLOh-"
      },
      "source": [
        "de_reconstructions_paid = model0.decoder(en_reconstructions_paid)\n",
        "\n",
        "de_reconstructions_default = model0.decoder(en_reconstructions_default)"
      ],
      "execution_count": 155,
      "outputs": []
    },
    {
      "cell_type": "code",
      "metadata": {
        "colab": {
          "base_uri": "https://localhost:8080/"
        },
        "id": "LN158mWXLOh_",
        "outputId": "161f98e4-340e-49aa-fe87-67c2e4734169"
      },
      "source": [
        "mae_paid = np.mean(np.abs(np.squeeze(test_input_paid) - np.squeeze(de_reconstructions_paid)), axis=1)\n",
        "mae_default = np.mean(np.abs(np.squeeze(test_input_default) - np.squeeze(de_reconstructions_default)), axis=1)\n",
        "print(mae_paid.mean(),mae_default.mean())"
      ],
      "execution_count": 156,
      "outputs": [
        {
          "output_type": "stream",
          "text": [
            "0.15625353740241793 0.1653750413617099\n"
          ],
          "name": "stdout"
        }
      ]
    },
    {
      "cell_type": "code",
      "metadata": {
        "id": "1DVez9KkH9U2"
      },
      "source": [
        "\n",
        "foo= np.array(en_reconstructions_paid[0])\n",
        "bar = np.array(en_reconstructions_default[0])\n"
      ],
      "execution_count": 157,
      "outputs": []
    },
    {
      "cell_type": "code",
      "metadata": {
        "id": "iD-CavjgH9TB"
      },
      "source": [
        "paid_coordi = np.squeeze(foo,axis = 1)\n",
        "default_coordi = np.squeeze(bar,axis = 1)\n",
        "# train_coordi = np.squeeze(foobar,axis = 1)"
      ],
      "execution_count": 158,
      "outputs": []
    },
    {
      "cell_type": "code",
      "metadata": {
        "id": "ph0zDIZh4Vgh"
      },
      "source": [
        "#paid = 0, default = 1\n",
        "l_dim = []\n",
        "label = []\n",
        "for i in paid_coordi:\n",
        "  l_dim.append(i)\n",
        "  label.append(0)\n",
        "\n",
        "for i in default_coordi:\n",
        "  l_dim.append(i)\n",
        "  label.append(1)"
      ],
      "execution_count": 159,
      "outputs": []
    },
    {
      "cell_type": "code",
      "metadata": {
        "id": "MOjEhclC4Veo"
      },
      "source": [
        "l_dim_array = np.array(l_dim)\n",
        "label_array = np.array(label)"
      ],
      "execution_count": 160,
      "outputs": []
    },
    {
      "cell_type": "code",
      "metadata": {
        "colab": {
          "base_uri": "https://localhost:8080/"
        },
        "id": "L2rHtj6D4Vb0",
        "outputId": "85435ae8-4152-4676-fdfb-f35ef36fc46a"
      },
      "source": [
        "np.shape(label_array)"
      ],
      "execution_count": 161,
      "outputs": [
        {
          "output_type": "execute_result",
          "data": {
            "text/plain": [
              "(1371,)"
            ]
          },
          "metadata": {
            "tags": []
          },
          "execution_count": 161
        }
      ]
    },
    {
      "cell_type": "code",
      "metadata": {
        "id": "scsPgaAc4VPl"
      },
      "source": [
        "from sklearn.manifold import TSNE\n",
        "\n",
        "\n",
        "model = TSNE(n_components=2,random_state=42)\n",
        "\n",
        "tsne_data = model.fit_transform(l_dim_array)"
      ],
      "execution_count": 162,
      "outputs": []
    },
    {
      "cell_type": "code",
      "metadata": {
        "id": "L7nrnagk4VOi"
      },
      "source": [
        "tsne_data = np.vstack((tsne_data.T,label_array)).T\n",
        "tsne_df = pd.DataFrame(data = tsne_data,columns=('dim1','dim2','label'))"
      ],
      "execution_count": 163,
      "outputs": []
    },
    {
      "cell_type": "code",
      "metadata": {
        "colab": {
          "base_uri": "https://localhost:8080/",
          "height": 217
        },
        "id": "eICl1J8S_SrM",
        "outputId": "226b8ce2-041a-42e8-d82d-3124850c359f"
      },
      "source": [
        "#kl=0.05,ld=32\n",
        "\n",
        "import seaborn as sn\n",
        "sn.FacetGrid(tsne_df,hue='label').map(plt.scatter,'dim1','dim2')\n",
        "plt.show()"
      ],
      "execution_count": 164,
      "outputs": [
        {
          "output_type": "display_data",
          "data": {
            "image/png": "[encoded data removed]",
            "text/plain": [
              "<Figure size 216x216 with 1 Axes>"
            ]
          },
          "metadata": {
            "tags": []
          }
        }
      ]
    },
    {
      "cell_type": "code",
      "metadata": {
        "colab": {
          "base_uri": "https://localhost:8080/",
          "height": 217
        },
        "id": "vDyjJKoR-Edw",
        "outputId": "5ff0559c-ee9e-479f-cd46-d3967f82a555"
      },
      "source": [
        "#kl=0.5,ld=32\n",
        "\n",
        "import seaborn as sn\n",
        "sn.FacetGrid(tsne_df,hue='label').map(plt.scatter,'dim1','dim2')\n",
        "plt.show()"
      ],
      "execution_count": 148,
      "outputs": [
        {
          "output_type": "display_data",
          "data": {
            "image/png": "[encoded data removed]",
            "text/plain": [
              "<Figure size 216x216 with 1 Axes>"
            ]
          },
          "metadata": {
            "tags": []
          }
        }
      ]
    },
    {
      "cell_type": "code",
      "metadata": {
        "colab": {
          "base_uri": "https://localhost:8080/",
          "height": 217
        },
        "id": "06xThX0O9p6e",
        "outputId": "b92c878a-2e9d-46e6-a85e-0580548db146"
      },
      "source": [
        "#kl=0.1,ld=32\n",
        "\n",
        "import seaborn as sn\n",
        "sn.FacetGrid(tsne_df,hue='label').map(plt.scatter,'dim1','dim2')\n",
        "plt.show()"
      ],
      "execution_count": 133,
      "outputs": [
        {
          "output_type": "display_data",
          "data": {
            "image/png": "[encoded data removed]",
            "text/plain": [
              "<Figure size 216x216 with 1 Axes>"
            ]
          },
          "metadata": {
            "tags": []
          }
        }
      ]
    },
    {
      "cell_type": "code",
      "metadata": {
        "colab": {
          "base_uri": "https://localhost:8080/",
          "height": 217
        },
        "id": "ni5TYxM19Taf",
        "outputId": "00f31810-1e90-4d4f-9014-d48d05859cf5"
      },
      "source": [
        "#kl=0,ld=32\n",
        "import seaborn as sn\n",
        "sn.FacetGrid(tsne_df,hue='label').map(plt.scatter,'dim1','dim2')\n",
        "plt.show()"
      ],
      "execution_count": 118,
      "outputs": [
        {
          "output_type": "display_data",
          "data": {
            "image/png": "[encoded data removed]",
            "text/plain": [
              "<Figure size 216x216 with 1 Axes>"
            ]
          },
          "metadata": {
            "tags": []
          }
        }
      ]
    },
    {
      "cell_type": "code",
      "metadata": {
        "colab": {
          "base_uri": "https://localhost:8080/",
          "height": 217
        },
        "id": "ntQLnUaS4VLV",
        "outputId": "17275769-ccd7-44b3-ffdf-118404f5b53e"
      },
      "source": [
        "#kl=0,ld=16\n",
        "\n",
        "import seaborn as sn\n",
        "sn.FacetGrid(tsne_df,hue='label').map(plt.scatter,'dim1','dim2')\n",
        "plt.show()"
      ],
      "execution_count": 101,
      "outputs": [
        {
          "output_type": "display_data",
          "data": {
            "image/png": "[encoded data removed]",
            "text/plain": [
              "<Figure size 216x216 with 1 Axes>"
            ]
          },
          "metadata": {
            "tags": []
          }
        }
      ]
    },
    {
      "cell_type": "code",
      "metadata": {
        "id": "KDUuFJSl4VJw"
      },
      "source": [
        ""
      ],
      "execution_count": null,
      "outputs": []
    },
    {
      "cell_type": "code",
      "metadata": {
        "id": "4N4N_Vot4VGd"
      },
      "source": [
        ""
      ],
      "execution_count": null,
      "outputs": []
    },
    {
      "cell_type": "code",
      "metadata": {
        "id": "pEqFgapr4VEp"
      },
      "source": [
        ""
      ],
      "execution_count": null,
      "outputs": []
    },
    {
      "cell_type": "code",
      "metadata": {
        "id": "w5Whgxjj4VBS"
      },
      "source": [
        ""
      ],
      "execution_count": null,
      "outputs": []
    },
    {
      "cell_type": "code",
      "metadata": {
        "id": "5lwvtmO7H9PG"
      },
      "source": [
        "paid_coordi *= 100\n",
        "default_coordi *= 100"
      ],
      "execution_count": 61,
      "outputs": []
    },
    {
      "cell_type": "code",
      "metadata": {
        "colab": {
          "base_uri": "https://localhost:8080/"
        },
        "id": "IBRJbp7mH9MS",
        "outputId": "0318324c-7039-44be-d659-2ff62eb2fcaa"
      },
      "source": [
        "paid_coordi"
      ],
      "execution_count": 62,
      "outputs": [
        {
          "output_type": "execute_result",
          "data": {
            "text/plain": [
              "array([[17801.383 ,  5199.0376],\n",
              "       [ 2449.2605,  1423.9237],\n",
              "       [ 5331.4316,  1540.0122],\n",
              "       ...,\n",
              "       [ 1291.4767,  1514.8782],\n",
              "       [ 2535.9324,  1406.4902],\n",
              "       [ 6571.8086,  6183.566 ]], dtype=float32)"
            ]
          },
          "metadata": {
            "tags": []
          },
          "execution_count": 62
        }
      ]
    },
    {
      "cell_type": "code",
      "metadata": {
        "id": "GmiSMl8duqCr"
      },
      "source": [
        ""
      ],
      "execution_count": 62,
      "outputs": []
    },
    {
      "cell_type": "code",
      "metadata": {
        "colab": {
          "base_uri": "https://localhost:8080/",
          "height": 282
        },
        "id": "9Xedo2cJv0cq",
        "outputId": "b6b12783-2806-434d-97e5-020030312b7b"
      },
      "source": [
        "plt.style.use('fivethirtyeight')\n",
        "plt.scatter(default_coordi[:,0],default_coordi[:,1],marker='v',c = '#e377c2')\n",
        "plt.show()"
      ],
      "execution_count": 63,
      "outputs": [
        {
          "output_type": "display_data",
          "data": {
            "image/png": "[encoded data removed]",
            "text/plain": [
              "<Figure size 432x288 with 1 Axes>"
            ]
          },
          "metadata": {
            "tags": []
          }
        }
      ]
    },
    {
      "cell_type": "code",
      "metadata": {
        "colab": {
          "base_uri": "https://localhost:8080/",
          "height": 282
        },
        "id": "81qcInyav0cr",
        "outputId": "7f93585e-626c-4102-cde5-ae6ab107f606"
      },
      "source": [
        "plt.scatter(paid_coordi[:,0],paid_coordi[:,1],marker='o')\n",
        "plt.show()"
      ],
      "execution_count": 64,
      "outputs": [
        {
          "output_type": "display_data",
          "data": {
            "image/png": "[encoded data removed]",
            "text/plain": [
              "<Figure size 432x288 with 1 Axes>"
            ]
          },
          "metadata": {
            "tags": []
          }
        }
      ]
    },
    {
      "cell_type": "code",
      "metadata": {
        "colab": {
          "base_uri": "https://localhost:8080/",
          "height": 282
        },
        "id": "EsOICE6vv0cr",
        "outputId": "6f348728-c5e5-43fb-8293-bbf3b786016d"
      },
      "source": [
        "plt.style.use('fivethirtyeight')\n",
        "plt.scatter(default_coordi[:,0],default_coordi[:,1],marker='*',c = '#e377c2')\n",
        "plt.scatter(paid_coordi[:,0],paid_coordi[:,1],marker='.')\n",
        "\n",
        "plt.show()\n",
        "\n",
        "#https://towardsdatascience.com/intuitively-understanding-variational-autoencoders-1bfe67eb5daf"
      ],
      "execution_count": 65,
      "outputs": [
        {
          "output_type": "display_data",
          "data": {
            "image/png": "[encoded data removed]",
            "text/plain": [
              "<Figure size 432x288 with 1 Axes>"
            ]
          },
          "metadata": {
            "tags": []
          }
        }
      ]
    },
    {
      "cell_type": "markdown",
      "metadata": {
        "id": "zGsj6PUJvZ-r"
      },
      "source": [
        "##VAE"
      ]
    },
    {
      "cell_type": "code",
      "metadata": {
        "colab": {
          "base_uri": "https://localhost:8080/",
          "height": 282
        },
        "id": "u71gcG8uuv1s",
        "outputId": "ef3f180d-7668-438c-ad1c-b6bc14b0bc25"
      },
      "source": [
        "plt.style.use('fivethirtyeight')\n",
        "plt.scatter(default_coordi[:,0],default_coordi[:,1],marker='v',c = '#e377c2')\n",
        "plt.show()"
      ],
      "execution_count": 160,
      "outputs": [
        {
          "output_type": "display_data",
          "data": {
            "image/png": "[encoded data removed]",
            "text/plain": [
              "<Figure size 432x288 with 1 Axes>"
            ]
          },
          "metadata": {
            "tags": []
          }
        }
      ]
    },
    {
      "cell_type": "code",
      "metadata": {
        "colab": {
          "base_uri": "https://localhost:8080/",
          "height": 282
        },
        "id": "8CoEQ7rluv1v",
        "outputId": "7fda2e73-f6e0-4cc3-fdc1-5e75d49b2b6e"
      },
      "source": [
        "plt.scatter(paid_coordi[:,0],paid_coordi[:,1],marker='o')\n",
        "plt.show()"
      ],
      "execution_count": 161,
      "outputs": [
        {
          "output_type": "display_data",
          "data": {
            "image/png": "[encoded data removed]",
            "text/plain": [
              "<Figure size 432x288 with 1 Axes>"
            ]
          },
          "metadata": {
            "tags": []
          }
        }
      ]
    },
    {
      "cell_type": "code",
      "metadata": {
        "colab": {
          "base_uri": "https://localhost:8080/",
          "height": 282
        },
        "id": "gyO390-uuv1v",
        "outputId": "fb2317c6-f5ce-4d68-8b01-f58b299d4fad"
      },
      "source": [
        "plt.style.use('fivethirtyeight')\n",
        "plt.scatter(default_coordi[:,0],default_coordi[:,1],marker='*',c = '#e377c2')\n",
        "plt.scatter(paid_coordi[:,0],paid_coordi[:,1],marker='.')\n",
        "\n",
        "plt.show()"
      ],
      "execution_count": 162,
      "outputs": [
        {
          "output_type": "display_data",
          "data": {
            "image/png": "[encoded data removed]",
            "text/plain": [
              "<Figure size 432x288 with 1 Axes>"
            ]
          },
          "metadata": {
            "tags": []
          }
        }
      ]
    },
    {
      "cell_type": "code",
      "metadata": {
        "id": "Yvnwyv3Uup-u"
      },
      "source": [
        ""
      ],
      "execution_count": null,
      "outputs": []
    },
    {
      "cell_type": "code",
      "metadata": {
        "id": "MLQ1RCQxup87"
      },
      "source": [
        ""
      ],
      "execution_count": null,
      "outputs": []
    },
    {
      "cell_type": "code",
      "metadata": {
        "id": "1_2p970Cup6N"
      },
      "source": [
        ""
      ],
      "execution_count": null,
      "outputs": []
    },
    {
      "cell_type": "code",
      "metadata": {
        "id": "L9KfJwNTup3t"
      },
      "source": [
        ""
      ],
      "execution_count": null,
      "outputs": []
    },
    {
      "cell_type": "code",
      "metadata": {
        "id": "Tpf34UNuup1F"
      },
      "source": [
        ""
      ],
      "execution_count": null,
      "outputs": []
    },
    {
      "cell_type": "markdown",
      "metadata": {
        "id": "2oUz4T_Yu1WY"
      },
      "source": [
        "##AE"
      ]
    },
    {
      "cell_type": "code",
      "metadata": {
        "colab": {
          "base_uri": "https://localhost:8080/",
          "height": 282
        },
        "id": "c75xMicHRD8M",
        "outputId": "fbd7c85d-539d-4596-942c-de191dfaf108"
      },
      "source": [
        "plt.style.use('fivethirtyeight')\n",
        "plt.scatter(default_coordi[:,0],default_coordi[:,1],marker='v',c = '#e377c2')\n",
        "plt.show()"
      ],
      "execution_count": 144,
      "outputs": [
        {
          "output_type": "display_data",
          "data": {
            "image/png": "[encoded data removed]",
            "text/plain": [
              "<Figure size 432x288 with 1 Axes>"
            ]
          },
          "metadata": {
            "tags": []
          }
        }
      ]
    },
    {
      "cell_type": "code",
      "metadata": {
        "colab": {
          "base_uri": "https://localhost:8080/",
          "height": 282
        },
        "id": "jUpEsyLmRD6s",
        "outputId": "a39d650c-752a-4bc2-aa94-9aae42d4da96"
      },
      "source": [
        "plt.scatter(paid_coordi[:,0],paid_coordi[:,1],marker='o')\n",
        "plt.show()"
      ],
      "execution_count": 145,
      "outputs": [
        {
          "output_type": "display_data",
          "data": {
            "image/png": "[encoded data removed]",
            "text/plain": [
              "<Figure size 432x288 with 1 Axes>"
            ]
          },
          "metadata": {
            "tags": []
          }
        }
      ]
    },
    {
      "cell_type": "code",
      "metadata": {
        "colab": {
          "base_uri": "https://localhost:8080/",
          "height": 282
        },
        "id": "aBIKdztIRD2K",
        "outputId": "76d7c2ee-d229-4fcf-e304-3789dd67853e"
      },
      "source": [
        "plt.style.use('fivethirtyeight')\n",
        "plt.scatter(default_coordi[:,0],default_coordi[:,1],marker='*',c = '#e377c2')\n",
        "plt.scatter(paid_coordi[:,0],paid_coordi[:,1],marker='.')\n",
        "\n",
        "plt.show()"
      ],
      "execution_count": 146,
      "outputs": [
        {
          "output_type": "display_data",
          "data": {
            "image/png": "[encoded data removed]",
            "text/plain": [
              "<Figure size 432x288 with 1 Axes>"
            ]
          },
          "metadata": {
            "tags": []
          }
        }
      ]
    },
    {
      "cell_type": "code",
      "metadata": {
        "colab": {
          "base_uri": "https://localhost:8080/"
        },
        "id": "-ufYgeVKRDzd",
        "outputId": "891856c2-277c-4042-fca1-6b4a9bf762db"
      },
      "source": [
        "uni = np.unique(default_coordi[:,1],return_counts=True)\n",
        "uni"
      ],
      "execution_count": 147,
      "outputs": [
        {
          "output_type": "execute_result",
          "data": {
            "text/plain": [
              "(array([-3308.2424   , -3291.1365   , -3266.8132   , -3170.9739   ,\n",
              "        -3112.886    , -3054.4717   , -3043.099    , -3041.2253   ,\n",
              "        -2997.9055   , -2944.5022   , -2944.153    , -2933.617    ,\n",
              "        -2929.689    , -2911.7244   , -2903.2874   , -2893.5747   ,\n",
              "        -2868.3687   , -2848.2444   , -2832.5151   , -2814.568    ,\n",
              "        -2801.4805   , -2778.9348   , -2778.1465   , -2760.5142   ,\n",
              "        -2749.721    , -2747.0984   , -2732.7627   , -2728.0122   ,\n",
              "        -2725.9805   , -2723.1082   , -2718.393    , -2718.1248   ,\n",
              "        -2717.492    , -2711.9016   , -2710.1855   , -2703.604    ,\n",
              "        -2693.0225   , -2688.6667   , -2685.7078   , -2683.7866   ,\n",
              "        -2680.7256   , -2679.6235   , -2644.1921   , -2643.5923   ,\n",
              "        -2642.16     , -2634.745    , -2628.5693   , -2619.5186   ,\n",
              "        -2610.377    , -2594.5522   , -2586.64     , -2585.8318   ,\n",
              "        -2569.4568   , -2567.7654   , -2550.8733   , -2545.6677   ,\n",
              "        -2544.7153   , -2541.9246   , -2511.7275   , -2485.3013   ,\n",
              "        -2478.0532   , -2465.5286   , -2463.6282   , -2458.1782   ,\n",
              "        -2449.5037   , -2437.7917   , -2419.6677   , -2419.0764   ,\n",
              "        -2405.053    , -2402.3604   , -2399.4092   , -2386.4038   ,\n",
              "        -2383.9822   , -2383.3926   , -2379.876    , -2371.0845   ,\n",
              "        -2349.7727   , -2342.5908   , -2330.9495   , -2325.5308   ,\n",
              "        -2317.4355   , -2311.8804   , -2303.5454   , -2281.0952   ,\n",
              "        -2277.8354   , -2249.3462   , -2245.157    , -2236.5945   ,\n",
              "        -2231.9727   , -2199.2593   , -2193.7705   , -2180.3948   ,\n",
              "        -2153.5283   , -2149.4624   , -2105.0964   , -2089.4482   ,\n",
              "        -2035.9205   , -2035.3058   , -2024.5151   , -2011.6083   ,\n",
              "        -2007.2838   , -1984.8446   , -1971.6461   , -1962.5566   ,\n",
              "        -1940.6667   , -1939.6975   , -1891.407    , -1867.6686   ,\n",
              "        -1854.5468   , -1847.3936   , -1845.9147   , -1842.1506   ,\n",
              "        -1830.6362   , -1824.1696   , -1813.2457   , -1805.2996   ,\n",
              "        -1798.0953   , -1795.0399   , -1784.4327   , -1782.4294   ,\n",
              "        -1774.8993   , -1760.0527   , -1753.3851   , -1734.7216   ,\n",
              "        -1732.525    , -1714.1407   , -1712.3312   , -1708.6226   ,\n",
              "        -1692.4402   , -1676.8589   , -1664.5582   , -1661.0571   ,\n",
              "        -1652.5455   , -1651.7206   , -1641.3816   , -1640.6091   ,\n",
              "        -1636.2529   , -1634.3042   , -1626.4818   , -1607.592    ,\n",
              "        -1605.8221   , -1592.2405   , -1584.8636   , -1557.2805   ,\n",
              "        -1550.1886   , -1544.0834   , -1540.0557   , -1536.4011   ,\n",
              "        -1495.287    , -1494.4208   , -1481.5497   , -1410.1124   ,\n",
              "        -1375.322    , -1349.6035   , -1321.1631   , -1279.9231   ,\n",
              "        -1118.7787   ,  -967.8357   ,  -963.192    ,  -956.0335   ,\n",
              "         -950.95795  ,  -932.11224  ,  -929.78375  ,  -915.13745  ,\n",
              "         -905.8194   ,  -904.1039   ,  -900.3364   ,  -871.5697   ,\n",
              "         -855.9689   ,  -846.6858   ,  -845.38403  ,  -839.74506  ,\n",
              "         -836.3268   ,  -836.254    ,  -833.24194  ,  -826.32904  ,\n",
              "         -825.91925  ,  -809.86194  ,  -802.22485  ,  -769.91693  ,\n",
              "         -763.61334  ,  -760.1579   ,  -754.488    ,  -748.9612   ,\n",
              "         -738.03235  ,  -734.97943  ,  -732.4941   ,  -712.34467  ,\n",
              "         -680.5513   ,  -678.2582   ,  -677.16095  ,  -666.17035  ,\n",
              "         -647.22034  ,  -631.2747   ,  -626.39825  ,  -622.2672   ,\n",
              "         -615.1819   ,  -560.2131   ,  -560.1212   ,  -539.8974   ,\n",
              "         -462.79584  ,  -372.7467   ,  -342.2224   ,  -276.88245  ,\n",
              "         -276.0675   ,  -274.49423  ,  -271.1861   ,  -271.12314  ,\n",
              "         -268.7431   ,  -266.3756   ,  -262.24704  ,  -258.38138  ,\n",
              "         -257.80222  ,  -257.65887  ,  -254.1052   ,  -252.7512   ,\n",
              "         -244.88773  ,  -231.23308  ,  -228.71619  ,  -228.4693   ,\n",
              "         -225.18373  ,  -223.18881  ,  -213.9907   ,  -211.99858  ,\n",
              "         -211.3837   ,  -202.3799   ,  -185.1378   ,  -170.40012  ,\n",
              "         -167.63417  ,  -165.25845  ,  -148.37706  ,  -144.28638  ,\n",
              "         -144.16206  ,  -143.20497  ,  -141.65878  ,  -133.68285  ,\n",
              "         -128.40178  ,  -128.2839   ,  -126.83127  ,  -124.33768  ,\n",
              "         -111.3426   ,  -109.68599  ,  -107.206154 ,  -101.82333  ,\n",
              "          -99.918724 ,   -80.54111  ,   -79.79308  ,   -72.27989  ,\n",
              "          -69.422    ,   -68.128395 ,   -67.30062  ,   -67.19235  ,\n",
              "          -64.25716  ,   -63.792313 ,   -62.98361  ,   -61.734844 ,\n",
              "          -57.475937 ,   -57.38312  ,   -53.92313  ,   -52.979385 ,\n",
              "          -52.33327  ,   -50.90177  ,   -49.218987 ,   -48.7376   ,\n",
              "          -47.74332  ,   -41.037155 ,   -37.667    ,   -37.094543 ,\n",
              "          -37.012505 ,   -35.454132 ,   -35.017525 ,   -33.251965 ,\n",
              "          -28.596474 ,   -27.406204 ,   -24.989532 ,   -20.062565 ,\n",
              "          -19.781816 ,   -18.197632 ,   -16.365385 ,   -15.639281 ,\n",
              "          -15.450966 ,   -10.333943 ,    -9.213042 ,    -7.5021863,\n",
              "           37.027622 ,    43.220966 ,    43.442726 ,    43.718105 ,\n",
              "           44.063366 ,    46.949947 ,    48.02736  ,    48.238235 ,\n",
              "           48.78056  ,    49.986984 ,    50.26208  ,    50.48949  ,\n",
              "           51.159412 ,    51.891876 ,    52.056416 ,    53.138508 ,\n",
              "           53.294773 ,    53.426315 ,    54.141163 ,    56.081562 ,\n",
              "           57.36639  ,    57.46901  ,    58.62235  ,    59.837753 ,\n",
              "           61.9717   ,    63.365925 ,    63.777126 ,    64.007065 ,\n",
              "           64.628075 ,    65.1453   ,    65.65608  ,    67.61042  ,\n",
              "           68.309555 ,    68.37832  ,    68.4274   ,    68.47283  ,\n",
              "           69.35637  ,    70.58131  ,    71.307144 ,    71.46273  ,\n",
              "           71.55194  ,    72.66708  ,    73.32592  ,    74.752106 ,\n",
              "           74.92585  ,    75.04576  ,    77.31523  ,    77.622925 ,\n",
              "           78.13085  ,    78.15263  ,    78.62935  ,    79.06452  ,\n",
              "           79.2167   ,    79.334076 ,    80.614975 ,    80.90367  ,\n",
              "           80.95231  ,    81.54456  ,    81.922485 ,    82.01285  ,\n",
              "           82.46854  ,    82.79735  ,    83.02225  ,    83.66881  ,\n",
              "           84.338066 ,    86.20392  ,    87.04227  ,    87.135574 ,\n",
              "           87.21318  ,    88.90497  ,    89.05308  ,    89.15111  ,\n",
              "           89.77136  ,    90.121666 ,    92.123985 ,    92.45497  ,\n",
              "           93.04031  ,    93.30624  ,    93.42724  ,    93.759094 ,\n",
              "           93.80791  ,    94.48412  ,    95.48913  ,    95.50613  ,\n",
              "           96.08704  ,    96.53841  ,    96.92841  ,    97.012726 ,\n",
              "           97.2113   ,    97.513756 ,    97.80544  ,    97.83976  ,\n",
              "           98.48771  ,    98.72821  ,    99.45859  ,    99.473434 ,\n",
              "           99.78211  ,   100.23357  ,   100.34489  ,   100.46014  ,\n",
              "          101.63011  ,   104.26645  ,   104.378914 ,   105.0851   ,\n",
              "          105.34054  ,   105.83552  ,   106.49414  ,   106.652794 ,\n",
              "          107.29455  ,   109.247246 ,   109.37307  ,   109.59693  ,\n",
              "          109.65796  ,   109.73833  ,   110.24231  ,   111.026955 ,\n",
              "          111.12709  ], dtype=float32),\n",
              " array([  1,   1,   1,   1,   1,   1,   1,   1,   1,   1,   1,   1,   1,\n",
              "          1,   1,   1,   1,   1,   1,   1,   1,   1,   1,   1,   1,   1,\n",
              "          1,   1,   1,   1,   1,   1,   1,   1,   1,   1,   1,   1,   1,\n",
              "          1,   1,   1,   1,   1,   1,   1,   1,   1,   1,   1,   1,   1,\n",
              "          1,   1,   1,   1,   1,   1,   1,   1,   1,   1,   1,   1,   1,\n",
              "          1,   1,   1,   1,   1,   1,   1,   1,   1,   1,   1,   1,   1,\n",
              "          1,   1,   1,   1,   1,   1,   1,   1,   1,   1,   1,   1,   1,\n",
              "          1,   1,   1,   1,   1,   1,   1,   1,   1,   1,   1,   1,   1,\n",
              "          1,   1,   1,   1,   1,   1,   1,   1,   1,   1,   1,   1,   1,\n",
              "          1,   1,   1,   1,   1,   1,   1,   1,   1,   1,   1,   1,   1,\n",
              "          1,   1,   1,   1,   1,   1,   1,   1,   1,   1,   1,   1,   1,\n",
              "          1,   1,   1,   1,   1,   1,   1,   1,   1,   1,   1,   1,   1,\n",
              "          1,   1,   1,   1,   1,   1,   1,   1,   1,   1,   1,   1,   1,\n",
              "          1,   1,   1,   1,   1,   1,   1,   1,   1,   1,   1,   1,   1,\n",
              "          1,   1,   1,   1,   1,   1,   1,   1,   1,   1,   1,   1,   1,\n",
              "          1,   1,   1,   1,   1,   1,   1,   1,   1,   1,   1,   1,   1,\n",
              "          1,   1,   1,   1,   1,   1,   1,   1,   1,   1,   1,   1,   1,\n",
              "          1,   1,   1,   1,   1,   1,   1,   1,   1,   1,   1,   1,   1,\n",
              "          1,   1,   1,   1,   1,   1,   1,   1,   1,   1,   1,   1,   1,\n",
              "          1,   1,   1,   1,   1,   1,   1,   1,   1,   1,   1,   1,   1,\n",
              "          1,   1,   1,   1,   1,   1,   1,   1,   1,   1,   1,   1,   1,\n",
              "          1,   1,   1,   1,   1,   1,   1,   1,   1,   1,   1,   1,   1,\n",
              "          1,   1,   1,   1,   1,   1,   1,   1,   1,   1,   1,   1,   1,\n",
              "          1,   1,   1,   1,   1,   1,   1,   1,   1,   1,   1,   1,   1,\n",
              "          1,   1,   1,   1,   1,   1,   1,   1,   1,   1,   1,   1,   1,\n",
              "          1,   1,   1,   1,   1,   1,   1,   1,   1,   1,   1,   1,   1,\n",
              "          1,   1,   1,   1,   1,   1,   1,   1,   1,   1,   1,   1,   1,\n",
              "          1,   1,   1,   1,   1,   1,   1,   1,   1,   1,   1,   1,   1,\n",
              "          1,   1,   1,   1,   1,   1,   1,   1,   1,   1,   1,   1,   1,\n",
              "          1,   1,   1,   1,   1,   1,   1,   1,   1,   1,   1,   1,   1,\n",
              "          1,   1,   1,   1,   1,   1,   1,   1,   1,   1, 111]))"
            ]
          },
          "metadata": {
            "tags": []
          },
          "execution_count": 147
        }
      ]
    },
    {
      "cell_type": "code",
      "metadata": {
        "colab": {
          "base_uri": "https://localhost:8080/"
        },
        "id": "OS0Q5azpRDw3",
        "outputId": "d1e1de18-c359-432d-c560-d18cba4e79c5"
      },
      "source": [
        "uni = np.unique(paid_coordi[:,0],return_counts=True)\n",
        "\n",
        "uni"
      ],
      "execution_count": 148,
      "outputs": [
        {
          "output_type": "execute_result",
          "data": {
            "text/plain": [
              "(array([-1.95449524e+03, -1.92848914e+03, -1.92423193e+03, -1.91676331e+03,\n",
              "        -1.90953845e+03, -1.90842725e+03, -1.90783252e+03, -1.89930151e+03,\n",
              "        -1.89302832e+03, -1.88805688e+03, -1.87677856e+03, -1.87458118e+03,\n",
              "        -1.87271289e+03, -1.83534180e+03, -1.82797852e+03, -1.81892676e+03,\n",
              "        -1.80262280e+03, -1.80155981e+03, -1.79950769e+03, -1.79156421e+03,\n",
              "        -1.77410132e+03, -1.77009558e+03, -1.75093359e+03, -1.74971692e+03,\n",
              "        -1.74668066e+03, -1.74467493e+03, -1.73643774e+03, -1.72533533e+03,\n",
              "        -1.72061975e+03, -1.71417297e+03, -1.70790540e+03, -1.69663428e+03,\n",
              "        -1.69256421e+03, -1.69111975e+03, -1.69015137e+03, -1.68804993e+03,\n",
              "        -1.68684558e+03, -1.67201306e+03, -1.64745630e+03, -1.64449902e+03,\n",
              "        -1.63586145e+03, -1.63346411e+03, -1.62727966e+03, -1.62503894e+03,\n",
              "        -1.62476660e+03, -1.62183398e+03, -1.61797888e+03, -1.61423816e+03,\n",
              "        -1.61380591e+03, -1.60906982e+03, -1.59627979e+03, -1.59457935e+03,\n",
              "        -1.58334460e+03, -1.58160254e+03, -1.57915625e+03, -1.57397498e+03,\n",
              "        -1.56530420e+03, -1.56144922e+03, -1.56052002e+03, -1.55957605e+03,\n",
              "        -1.55630981e+03, -1.54112610e+03, -1.54032642e+03, -1.52968347e+03,\n",
              "        -1.52771143e+03, -1.52746057e+03, -1.52665466e+03, -1.52590698e+03,\n",
              "        -1.52451831e+03, -1.48655688e+03, -1.46781079e+03, -1.43530347e+03,\n",
              "        -1.42669568e+03, -1.41621106e+03, -1.41076184e+03, -1.40822620e+03,\n",
              "        -1.40242334e+03, -1.39413489e+03, -1.39166882e+03, -1.39042798e+03,\n",
              "        -1.38924097e+03, -1.38506152e+03, -1.36766016e+03, -1.36610474e+03,\n",
              "        -1.35963196e+03, -1.35483643e+03, -1.35297070e+03, -1.35086072e+03,\n",
              "        -1.34645715e+03, -1.34356995e+03, -1.34210510e+03, -1.34080334e+03,\n",
              "        -1.33617578e+03, -1.33411682e+03, -1.33355847e+03, -1.33178662e+03,\n",
              "        -1.33080249e+03, -1.32876880e+03, -1.32651855e+03, -1.32538513e+03,\n",
              "        -1.32098145e+03, -1.32030139e+03, -1.31456201e+03, -1.31444885e+03,\n",
              "        -1.31119238e+03, -1.30211182e+03, -1.29545142e+03, -1.29338611e+03,\n",
              "        -1.28865771e+03, -1.28720508e+03, -1.28373608e+03, -1.27477441e+03,\n",
              "        -1.27295337e+03, -1.27084412e+03, -1.26833435e+03, -1.26802026e+03,\n",
              "        -1.26739478e+03, -1.26177979e+03, -1.26163721e+03, -1.25764185e+03,\n",
              "        -1.25760132e+03, -1.25305444e+03, -1.25093506e+03, -1.25078223e+03,\n",
              "        -1.23921606e+03, -1.23598340e+03, -1.23593616e+03, -1.23333105e+03,\n",
              "        -1.23234521e+03, -1.23187354e+03, -1.22022424e+03, -1.21954102e+03,\n",
              "        -1.21655774e+03, -1.21593860e+03, -1.21429395e+03, -1.21323352e+03,\n",
              "        -1.20561487e+03, -1.20188074e+03, -1.19964612e+03, -1.19656311e+03,\n",
              "        -1.19169751e+03, -1.17492432e+03, -1.17458130e+03, -1.15898462e+03,\n",
              "        -1.15857874e+03, -1.15835974e+03, -1.15638342e+03, -1.15559033e+03,\n",
              "        -1.15422034e+03, -1.13709375e+03, -1.13267297e+03, -1.12756409e+03,\n",
              "        -1.12334363e+03, -1.11475916e+03, -1.11166943e+03, -1.10775122e+03,\n",
              "        -1.09981360e+03, -1.08943237e+03, -1.08715381e+03, -1.08655347e+03,\n",
              "        -1.05825781e+03, -1.05736511e+03, -1.05404224e+03, -1.03109985e+03,\n",
              "        -8.40870361e+02, -8.15698792e+02, -7.66823669e+02, -7.59162537e+02,\n",
              "        -7.48351868e+02, -7.40866150e+02, -7.30472534e+02, -7.18316223e+02,\n",
              "        -7.14341858e+02, -7.11804504e+02, -7.09809082e+02, -7.03262634e+02,\n",
              "        -6.99880249e+02, -6.92241882e+02, -6.82909302e+02, -6.79835083e+02,\n",
              "        -6.75805786e+02, -6.73148071e+02, -6.72947937e+02, -6.70653564e+02,\n",
              "        -6.65466125e+02, -6.61753601e+02, -6.51455505e+02, -6.49188110e+02,\n",
              "        -6.48938782e+02, -6.42428711e+02, -6.41476562e+02, -6.40172119e+02,\n",
              "        -6.39945923e+02, -6.39651367e+02, -6.38974121e+02, -6.38217224e+02,\n",
              "        -6.36862732e+02, -6.36733459e+02, -6.35632629e+02, -6.32567078e+02,\n",
              "        -6.27304199e+02, -6.26856873e+02, -6.21604126e+02, -6.19816895e+02,\n",
              "        -6.11050476e+02, -6.08204102e+02, -6.06156006e+02, -6.05140320e+02,\n",
              "        -5.99638733e+02, -5.94549438e+02, -5.79343262e+02, -5.77636169e+02,\n",
              "        -5.75084717e+02, -5.74627441e+02, -5.69915039e+02, -5.69899292e+02,\n",
              "        -5.69403870e+02, -5.69393799e+02, -5.69129456e+02, -5.68709656e+02,\n",
              "        -5.60038452e+02, -5.59469727e+02, -5.58275146e+02, -5.57965454e+02,\n",
              "        -5.52675171e+02, -5.49296143e+02, -5.45205627e+02, -5.44712830e+02,\n",
              "        -5.44223328e+02, -5.42822632e+02, -5.39142090e+02, -5.38822388e+02,\n",
              "        -5.37831238e+02, -5.35747253e+02, -5.31246033e+02, -5.31237244e+02,\n",
              "        -5.27916809e+02, -5.17073303e+02, -5.14287720e+02, -5.10203979e+02,\n",
              "        -5.09897339e+02, -5.03355255e+02, -5.00009094e+02, -4.97139069e+02,\n",
              "        -4.96605408e+02, -4.95357117e+02, -4.93912598e+02, -4.86461823e+02,\n",
              "        -4.82523834e+02, -4.79969635e+02, -4.75215729e+02, -4.70297668e+02,\n",
              "        -4.69274750e+02, -4.68282715e+02, -4.65376953e+02, -4.65222107e+02,\n",
              "        -4.64267914e+02, -4.63333618e+02, -4.57744171e+02, -4.52439972e+02,\n",
              "        -4.51214844e+02, -4.49671661e+02, -4.48052826e+02, -4.45587341e+02,\n",
              "        -4.45534180e+02, -4.43820282e+02, -4.37514221e+02, -4.35303986e+02,\n",
              "        -4.27529846e+02, -4.27424988e+02, -4.26610474e+02, -4.09524109e+02,\n",
              "        -4.08483215e+02, -4.08372162e+02, -4.06599762e+02, -4.05253418e+02,\n",
              "        -4.04063599e+02, -3.95289124e+02, -3.79763092e+02, -3.78463257e+02,\n",
              "        -3.77885010e+02, -3.77061890e+02, -3.74733398e+02, -3.70524017e+02,\n",
              "        -3.68345398e+02, -3.60242035e+02, -3.53002930e+02, -3.50549164e+02,\n",
              "        -3.45557983e+02, -3.43951996e+02, -3.43762634e+02, -3.42914093e+02,\n",
              "        -3.38809814e+02, -3.38665924e+02, -3.27094666e+02, -3.22665314e+02,\n",
              "        -3.16028595e+02, -3.13978851e+02, -3.00504578e+02, -2.97210754e+02,\n",
              "        -2.85555115e+02, -2.83567322e+02, -2.80679810e+02, -2.71777771e+02,\n",
              "        -2.71468933e+02, -2.66187469e+02, -2.64656158e+02, -2.60449799e+02,\n",
              "        -2.49688675e+02, -2.46777695e+02, -2.44579239e+02, -2.38507263e+02,\n",
              "        -2.27695038e+02, -2.08941071e+02, -2.05325653e+02, -1.93115265e+02,\n",
              "        -1.88179871e+02, -1.74749039e+02, -1.70645752e+02, -1.67762283e+02,\n",
              "        -1.58588821e+02, -1.56391068e+02, -1.54334976e+02, -1.52105087e+02,\n",
              "        -1.48322708e+02, -1.27281082e+02, -1.27033188e+02, -1.23859299e+02,\n",
              "        -1.22090683e+02, -1.20402840e+02, -1.19607925e+02, -1.19083878e+02,\n",
              "        -1.18458847e+02, -1.18077209e+02, -1.14373634e+02, -1.14161148e+02,\n",
              "        -1.14068474e+02, -1.13009659e+02, -1.12430786e+02, -1.09623802e+02,\n",
              "        -1.08738075e+02, -1.07442680e+02, -1.03359543e+02, -1.02643791e+02,\n",
              "        -1.01551231e+02, -1.01284706e+02, -9.96948395e+01, -9.94187775e+01,\n",
              "        -9.73261719e+01, -8.91771545e+01, -8.73123627e+01, -8.58826904e+01,\n",
              "        -8.51319580e+01, -8.16415100e+01, -8.06904068e+01, -8.04048996e+01,\n",
              "        -8.02645645e+01, -7.93612747e+01, -7.34958801e+01, -7.28809204e+01,\n",
              "        -7.28514404e+01, -7.15499802e+01, -6.97681808e+01, -6.97090530e+01,\n",
              "        -6.82379837e+01, -6.02978058e+01, -6.01316681e+01, -6.00700302e+01,\n",
              "        -5.92702751e+01, -5.83073273e+01, -5.62574692e+01, -5.59871902e+01,\n",
              "        -5.37254524e+01, -5.36391068e+01, -5.27878036e+01, -4.73804283e+01,\n",
              "        -4.67660599e+01, -4.66069565e+01, -4.65297508e+01, -4.58462067e+01,\n",
              "        -4.49200706e+01, -4.41619759e+01, -4.29298592e+01, -4.21942215e+01,\n",
              "        -4.06966133e+01, -3.67105942e+01, -3.61437035e+01, -3.60826569e+01,\n",
              "        -3.53252182e+01, -3.25925636e+01, -3.23604355e+01, -3.17887783e+01,\n",
              "        -3.00500336e+01, -2.89830856e+01, -2.72764091e+01, -2.70969276e+01,\n",
              "        -2.70775318e+01, -2.68648624e+01, -2.28968029e+01, -2.25213642e+01,\n",
              "        -2.23375683e+01, -2.05847511e+01, -1.94821835e+01, -1.79972534e+01,\n",
              "        -1.62770634e+01, -1.61698112e+01, -1.44653435e+01, -1.41852856e+01,\n",
              "        -1.34627342e+01, -1.34478569e+01, -1.30047798e+01, -1.20682602e+01,\n",
              "        -1.11010313e+01, -1.10196953e+01, -9.76848602e+00, -8.60754204e+00,\n",
              "        -7.40768909e+00, -5.75492382e+00, -4.30555344e+00, -3.89436483e+00,\n",
              "        -3.78023386e+00, -3.72923613e+00, -3.68863344e+00, -2.12043524e+00,\n",
              "        -1.03508234e+00, -9.08970833e-02,  1.89697742e-01,  2.11071968e-01,\n",
              "         2.07849741e+00,  2.47063637e+00,  5.24491072e+00,  5.38164377e+00,\n",
              "         7.50600100e+00,  8.47414780e+00,  9.78726196e+00,  1.02977991e+01,\n",
              "         1.04717369e+01,  1.09749079e+01,  1.25102520e+01,  1.28944635e+01,\n",
              "         1.35533571e+01,  1.36021729e+01,  1.38864517e+01,  1.62123680e+01,\n",
              "         1.65308475e+01,  1.77835464e+01,  1.85273895e+01,  1.87675705e+01,\n",
              "         1.95789566e+01,  2.12247486e+01,  2.19085693e+01,  2.19693661e+01,\n",
              "         2.33863468e+01,  2.43108978e+01,  2.74972191e+01,  2.75675888e+01,\n",
              "         3.32000008e+01,  3.39273796e+01,  3.52367744e+01,  3.72835770e+01,\n",
              "         3.74119873e+01,  4.12704926e+01,  4.21762581e+01,  4.26317215e+01,\n",
              "         4.39936028e+01,  4.56284637e+01,  4.58665619e+01,  4.60861206e+01,\n",
              "         4.65970154e+01,  5.17023544e+01,  5.20292168e+01,  5.43640747e+01,\n",
              "         5.66134224e+01,  5.75940971e+01,  5.76002464e+01,  5.96847649e+01,\n",
              "         6.03823166e+01,  6.20044098e+01,  6.44021988e+01,  6.57985306e+01,\n",
              "         6.58549881e+01,  6.59821167e+01,  6.65485001e+01,  6.73296814e+01,\n",
              "         6.78062820e+01,  6.99871292e+01,  7.20746994e+01,  7.23495941e+01,\n",
              "         7.24683151e+01,  7.37927094e+01,  7.75895004e+01,  7.78033142e+01,\n",
              "         8.17125702e+01,  8.44493027e+01,  8.44956741e+01,  8.75159607e+01,\n",
              "         9.18565140e+01,  9.37828674e+01,  1.03262459e+02,  1.11433754e+02,\n",
              "         1.28989105e+02,  1.37249008e+02,  1.42160309e+02,  1.47409576e+02,\n",
              "         1.52051941e+02,  1.55759460e+02,  1.62056168e+02,  1.64276611e+02,\n",
              "         1.70712601e+02,  1.71998581e+02,  1.79111115e+02,  1.79153854e+02,\n",
              "         1.79637161e+02,  1.81782883e+02,  1.98591644e+02,  2.04976944e+02,\n",
              "         2.05017334e+02,  2.09911636e+02,  2.10545639e+02,  2.12828354e+02,\n",
              "         2.18731552e+02,  2.26192383e+02,  2.26772171e+02,  2.29256775e+02,\n",
              "         2.29857590e+02,  2.34599213e+02,  2.34723328e+02,  2.35281372e+02,\n",
              "         2.36868622e+02,  2.38208389e+02,  2.38722610e+02,  2.39043243e+02,\n",
              "         2.39449493e+02,  2.39558792e+02,  2.40257889e+02,  2.41999863e+02,\n",
              "         2.43544144e+02,  2.45507721e+02,  2.45926849e+02,  2.46795990e+02,\n",
              "         2.47010559e+02,  2.47317322e+02,  2.48029846e+02,  2.50198547e+02,\n",
              "         2.51513809e+02,  2.54647018e+02,  2.54992340e+02,  2.59337280e+02,\n",
              "         2.59819122e+02,  2.60924438e+02,  2.61278961e+02,  2.63888367e+02,\n",
              "         2.64807129e+02,  2.65221008e+02,  2.66185852e+02,  2.67194885e+02,\n",
              "         2.68032318e+02,  2.68770660e+02,  2.69268097e+02,  2.69279816e+02,\n",
              "         2.72573486e+02,  2.76245361e+02,  2.76476379e+02,  2.76813599e+02,\n",
              "         2.76826721e+02,  2.76986023e+02,  2.77075134e+02,  2.77231598e+02,\n",
              "         2.81033417e+02,  2.81471954e+02,  2.81802643e+02,  2.82212158e+02,\n",
              "         2.83173645e+02,  2.83571228e+02,  2.83896973e+02,  2.85494049e+02,\n",
              "         2.85721405e+02,  2.86100281e+02,  2.86341949e+02,  2.86374146e+02,\n",
              "         2.87330261e+02,  2.87437256e+02,  2.87560852e+02,  2.88371887e+02,\n",
              "         2.89239929e+02,  2.89458527e+02,  2.93239319e+02,  2.95103790e+02,\n",
              "         2.95539917e+02,  2.95606232e+02,  2.97330811e+02,  2.98438446e+02,\n",
              "         3.02587952e+02,  3.05460693e+02,  3.07281738e+02,  3.09348785e+02,\n",
              "         3.12962677e+02,  3.13336090e+02,  3.13904419e+02,  3.15345520e+02,\n",
              "         3.17773773e+02,  3.19030518e+02,  3.22399811e+02,  3.26767914e+02,\n",
              "         3.26824860e+02,  3.27465729e+02,  3.28401093e+02,  3.28487640e+02,\n",
              "         3.29610596e+02,  3.32950592e+02,  3.33964905e+02,  3.34241425e+02,\n",
              "         3.35097168e+02,  3.35295868e+02,  3.35596039e+02,  3.36468323e+02,\n",
              "         3.36533600e+02,  3.37235657e+02,  3.38274628e+02,  3.38319031e+02,\n",
              "         3.40603546e+02,  3.40874756e+02,  3.40946686e+02,  3.40961395e+02,\n",
              "         3.45255463e+02,  3.45723633e+02,  3.46701965e+02,  3.46806610e+02,\n",
              "         3.47000397e+02,  3.47154572e+02,  3.47852661e+02,  3.48830811e+02,\n",
              "         3.51339722e+02,  3.51710175e+02,  3.52078857e+02,  3.53985077e+02,\n",
              "         3.54312836e+02,  3.54661804e+02,  3.54768311e+02,  3.55264862e+02,\n",
              "         3.56321808e+02,  3.57790222e+02,  3.58034912e+02,  3.58621552e+02,\n",
              "         3.58885468e+02,  3.59702698e+02,  3.59860901e+02,  3.61224640e+02,\n",
              "         3.61335052e+02,  3.61375916e+02,  3.62401520e+02,  3.62546295e+02,\n",
              "         3.62956329e+02,  3.63335175e+02,  3.63612640e+02,  3.65918549e+02,\n",
              "         3.66462799e+02,  3.67191589e+02,  3.67721558e+02,  3.69041534e+02,\n",
              "         3.69326965e+02,  3.69350189e+02,  3.69403595e+02,  3.70483337e+02,\n",
              "         3.70683655e+02,  3.72612427e+02,  3.73969757e+02,  3.82507935e+02,\n",
              "         3.83787537e+02,  3.92384064e+02,  3.92841064e+02,  4.03107025e+02,\n",
              "         4.04585205e+02,  4.07639465e+02,  4.13907013e+02,  4.13930786e+02,\n",
              "         4.19079254e+02,  4.19652649e+02,  4.20567810e+02,  4.21897522e+02,\n",
              "         4.24125427e+02,  4.28993835e+02,  4.32510620e+02,  4.34432556e+02,\n",
              "         4.35786804e+02,  4.36161102e+02,  4.39438904e+02,  4.44276154e+02,\n",
              "         4.57711304e+02,  4.69705566e+02,  4.76768402e+02,  4.78013702e+02,\n",
              "         4.84303101e+02,  4.86109924e+02,  4.94113495e+02,  4.94655182e+02,\n",
              "         5.01148071e+02,  5.05675934e+02,  5.16375854e+02,  5.16409851e+02,\n",
              "         5.17278198e+02,  5.17532654e+02,  5.23372864e+02,  5.29390930e+02,\n",
              "         5.29500916e+02,  5.33401367e+02,  5.33447815e+02,  5.47645508e+02,\n",
              "         5.49537781e+02,  5.66176086e+02,  5.70154968e+02,  5.95070984e+02,\n",
              "         5.97453430e+02,  5.97687561e+02,  6.08632812e+02,  6.14174011e+02,\n",
              "         6.22994446e+02,  6.45011353e+02,  6.51924805e+02,  6.56034485e+02,\n",
              "         6.60311462e+02,  6.63924316e+02,  6.73471802e+02,  6.74319946e+02,\n",
              "         6.86600281e+02,  7.00347351e+02,  7.00953491e+02,  7.14365662e+02,\n",
              "         7.36365906e+02,  7.63540161e+02,  7.64954346e+02,  7.71998047e+02,\n",
              "         7.83512573e+02,  7.87451660e+02,  7.89289490e+02,  7.89622498e+02,\n",
              "         8.11314514e+02,  8.12955566e+02,  8.15874207e+02,  8.32045776e+02,\n",
              "         8.35227966e+02,  8.36214905e+02,  8.40532288e+02,  8.51242371e+02,\n",
              "         8.57168945e+02,  8.69260803e+02,  8.71219543e+02,  8.81132385e+02,\n",
              "         8.95011719e+02,  8.99626526e+02,  9.00190613e+02,  9.10649658e+02,\n",
              "         9.24902222e+02,  9.25228760e+02,  9.29249939e+02,  9.69833557e+02,\n",
              "         9.73759338e+02,  9.89521118e+02,  1.03898828e+03,  1.78965125e+03,\n",
              "         2.07491357e+03,  3.75067676e+03,  4.01484668e+03], dtype=float32),\n",
              " array([ 1,  1,  1,  1,  1,  1,  1,  1,  1,  1,  1,  1,  1,  1,  1,  1,  1,\n",
              "         1,  1,  1,  1,  1,  1,  1,  1,  1,  1,  1,  1,  1,  1,  1,  1,  1,\n",
              "         1,  1,  1,  1,  1,  1,  1,  1,  1,  1,  1,  1,  1,  1,  1,  1,  1,\n",
              "         1,  1,  1,  1,  1,  1,  1,  1,  1,  1,  1,  1,  1,  1,  1,  1,  1,\n",
              "         1,  1,  1,  1,  1,  1,  1,  1,  1,  1,  1,  1,  1,  1,  1,  1,  1,\n",
              "         1,  1,  1,  1,  1,  1,  1,  1,  1,  1,  1,  1,  1,  1,  1,  1,  1,\n",
              "         1,  1,  1,  1,  1,  1,  1,  1,  1,  1,  1,  1,  1,  1,  1,  1,  1,\n",
              "         1,  1,  1,  1,  1,  1,  1,  1,  1,  1,  1,  1,  1,  1,  1,  1,  1,\n",
              "         1,  1,  1,  1,  1,  1,  1,  1,  1,  1,  1,  1,  1,  1,  1,  1,  1,\n",
              "         1,  1,  1,  1,  1,  1,  1,  1,  1,  1,  1,  1,  1,  1,  1,  1,  1,\n",
              "         1,  1,  1,  1,  1,  1,  1,  1,  1,  1,  1,  1,  1,  1,  1,  1,  1,\n",
              "         1,  1,  1,  1,  1,  1,  1,  1,  1,  1,  1,  1,  1,  1,  1,  1,  1,\n",
              "         1,  1,  1,  1,  1,  1,  1,  1,  1,  1,  1,  1,  1,  1,  1,  1,  1,\n",
              "         1,  1,  1,  1,  1,  1,  1,  1,  1,  1,  1,  1,  1,  1,  1,  1,  1,\n",
              "         1,  1,  1,  1,  1,  1,  1,  1,  1,  1,  1,  1,  1,  1,  1,  1,  1,\n",
              "         1,  1,  1,  1,  1,  1,  1,  1,  1,  1,  1,  1,  1,  1,  1,  1,  1,\n",
              "         1,  1,  1,  1,  1,  1,  1,  1,  1,  1,  1,  1,  1,  1,  1,  1,  1,\n",
              "         1,  1,  1,  1,  1,  1,  1,  1,  1,  1,  1,  1,  1,  1,  1,  1,  1,\n",
              "         1,  1,  1,  1,  1,  1,  1,  1,  1,  1,  1,  1,  1,  1,  1,  1,  1,\n",
              "         1,  1, 98,  1,  1,  1,  1,  1,  1,  1,  1,  1,  1,  1,  1,  1,  1,\n",
              "         1,  1,  1,  1,  1,  1,  1,  1,  1,  1,  1,  1,  1,  1,  1,  1,  1,\n",
              "         1,  1,  1,  1,  1,  1,  1,  1,  1,  1,  1,  1,  1,  1,  1,  1,  1,\n",
              "         1,  1,  1,  1,  1,  1,  1,  1,  1,  1,  1,  1,  1,  1,  1,  1,  1,\n",
              "         1,  1,  1,  1,  1,  1,  1,  1,  1,  1,  1,  1,  1,  1,  1,  1,  1,\n",
              "         1,  1,  1,  1,  1,  1,  1,  1,  1,  1,  1,  1,  1,  1,  1,  1,  1,\n",
              "         1,  1,  1,  1,  1,  1,  1,  1,  1,  1,  1,  1,  1,  1,  1,  1,  1,\n",
              "         1,  1,  1,  1,  1,  1,  1,  1,  1,  1,  1,  1,  1,  1,  1,  1,  1,\n",
              "         1,  1,  1,  1,  1,  1,  1,  1,  1,  1,  1,  1,  1,  1,  1,  1,  1,\n",
              "         1,  1,  1,  1,  1,  1,  1,  1,  1,  1,  1,  1,  1,  1,  1,  1,  1,\n",
              "         1,  1,  1,  1,  1,  1,  1,  1,  1,  1,  1,  1,  1,  1,  1,  1,  1,\n",
              "         1,  1,  1,  1,  1,  1,  1,  1,  1,  1,  1,  1,  1,  1,  1,  1,  1,\n",
              "         1,  1,  1,  1,  1,  1,  1,  1,  1,  1,  1,  1,  1,  1,  1,  1,  1,\n",
              "         1,  1,  1,  1,  1,  1,  1,  1,  1,  1,  1,  1,  1,  1,  1,  1,  1,\n",
              "         1,  1,  1,  1,  1,  1,  1,  1,  1,  1,  1,  1,  1,  1,  1,  1,  1,\n",
              "         1,  1,  1,  1,  1,  1,  1,  1,  1,  1,  1,  1,  1,  1,  1,  1,  1,\n",
              "         1,  1,  1,  1,  1,  1,  1,  1,  1,  1,  1,  1,  1,  1,  1,  1,  1,\n",
              "         1,  1,  1,  1,  1,  1,  1,  1,  1,  1,  1,  1,  1,  1,  1,  1,  1,\n",
              "         1,  1,  1,  1,  1,  1,  1,  1,  1,  1,  1,  1,  1,  1,  1,  1,  1,\n",
              "         1,  1,  1,  1,  1,  1,  1,  1,  1,  1,  1,  1,  1,  1,  1,  1,  1,\n",
              "         1,  1,  1,  1,  1,  1,  1,  1,  1,  1,  1,  1,  1,  1,  1,  1,  1,\n",
              "         1,  1,  1,  1,  1,  1,  1,  1,  1,  1,  1,  1,  1,  1,  1,  1,  1,\n",
              "         1,  1,  1,  1,  1,  1,  1,  1,  1,  1,  1,  1,  1,  1,  1,  1,  1,\n",
              "         1,  1,  1,  1,  1,  1,  1,  1,  1,  1,  1,  1,  1,  1,  1,  1,  1,\n",
              "         1,  1,  1,  1,  1,  1,  1,  1,  1,  1,  1,  1,  1,  1,  1,  1,  1,\n",
              "         1,  1,  1,  1,  1,  1,  1,  1,  1,  1,  1,  1,  1,  1,  1]))"
            ]
          },
          "metadata": {
            "tags": []
          },
          "execution_count": 148
        }
      ]
    },
    {
      "cell_type": "code",
      "metadata": {
        "id": "e--OXSwdRDun"
      },
      "source": [
        ""
      ],
      "execution_count": null,
      "outputs": []
    },
    {
      "cell_type": "code",
      "metadata": {
        "id": "hYOE4L7mRDr6"
      },
      "source": [
        ""
      ],
      "execution_count": null,
      "outputs": []
    },
    {
      "cell_type": "code",
      "metadata": {
        "id": "JUEBRPgcRDq5"
      },
      "source": [
        ""
      ],
      "execution_count": null,
      "outputs": []
    },
    {
      "cell_type": "code",
      "metadata": {
        "id": "wtswA7MZRDmz"
      },
      "source": [
        ""
      ],
      "execution_count": null,
      "outputs": []
    },
    {
      "cell_type": "code",
      "metadata": {
        "id": "t7wJBo20H9Jl"
      },
      "source": [
        ""
      ],
      "execution_count": null,
      "outputs": []
    },
    {
      "cell_type": "markdown",
      "metadata": {
        "id": "wRhL-kAlIDq4"
      },
      "source": [
        "##re_loss = 1 kl_loss = 0 dim = 16\n",
        "\n",
        "\n"
      ]
    },
    {
      "cell_type": "code",
      "metadata": {
        "colab": {
          "base_uri": "https://localhost:8080/"
        },
        "id": "-WxEswEHA9Kv",
        "outputId": "43f480cb-7f8e-4afe-be78-09e75310cdd1"
      },
      "source": [
        "vae.save_weights('./my_checkpoint0')\n",
        "model0 = VAE(encoder, decoder)\n",
        "model0.load_weights('./my_checkpoint0')"
      ],
      "execution_count": 71,
      "outputs": [
        {
          "output_type": "execute_result",
          "data": {
            "text/plain": [
              "<tensorflow.python.training.tracking.util.CheckpointLoadStatus at 0x7f21d16791d0>"
            ]
          },
          "metadata": {
            "tags": []
          },
          "execution_count": 71
        }
      ]
    },
    {
      "cell_type": "code",
      "metadata": {
        "colab": {
          "base_uri": "https://localhost:8080/"
        },
        "id": "12Qk8Ow3A9I9",
        "outputId": "77871b9e-6ec9-4967-d76e-f0ad72a9768a"
      },
      "source": [
        "input_arr = tf.random.uniform((1, 42))\n",
        "input_arr.shape\n",
        "model0.build(input_arr.shape)\n",
        "model0.summary()"
      ],
      "execution_count": 73,
      "outputs": [
        {
          "output_type": "stream",
          "text": [
            "WARNING:tensorflow:Model was constructed with shape (None, 1, 42) for input Tensor(\"input_2:0\", shape=(None, 1, 42), dtype=float32), but it was called on an input with incompatible shape (1, 42).\n",
            "Model: \"vae_2\"\n",
            "_________________________________________________________________\n",
            "Layer (type)                 Output Shape              Param #   \n",
            "=================================================================\n",
            "encoder (Functional)         [(None, 1, 16), (None, 1, 2035      \n",
            "_________________________________________________________________\n",
            "decoder (Functional)         (None, 42)                1517      \n",
            "=================================================================\n",
            "Total params: 3,552\n",
            "Trainable params: 3,552\n",
            "Non-trainable params: 0\n",
            "_________________________________________________________________\n"
          ],
          "name": "stdout"
        }
      ]
    },
    {
      "cell_type": "code",
      "metadata": {
        "id": "CS8-TJeRA9Fi"
      },
      "source": [
        ""
      ],
      "execution_count": null,
      "outputs": []
    },
    {
      "cell_type": "code",
      "metadata": {
        "id": "PYRQX63IeAfL"
      },
      "source": [
        "en_reconstructions_paid = model0.encoder(np.expand_dims(test_input_paid, axis=1))\n",
        "\n",
        "en_reconstructions_default = model0.encoder(np.expand_dims(test_input_default ,axis=1))"
      ],
      "execution_count": 74,
      "outputs": []
    },
    {
      "cell_type": "code",
      "metadata": {
        "id": "3QaC8b4Kzt4-"
      },
      "source": [
        "de_reconstructions_paid = model0.decoder(en_reconstructions_paid)\n",
        "\n",
        "de_reconstructions_default = model0.decoder(en_reconstructions_default)"
      ],
      "execution_count": 75,
      "outputs": []
    },
    {
      "cell_type": "code",
      "metadata": {
        "id": "2A4d2tWdeAfR"
      },
      "source": [
        "mae_paid = np.mean(np.abs(np.squeeze(test_input_paid) - np.squeeze(de_reconstructions_paid)), axis=1)\n",
        "mae_default = np.mean(np.abs(np.squeeze(test_input_default) - np.squeeze(de_reconstructions_default)), axis=1)"
      ],
      "execution_count": 76,
      "outputs": []
    },
    {
      "cell_type": "code",
      "metadata": {
        "id": "e-ciukCmeAfV",
        "colab": {
          "base_uri": "https://localhost:8080/"
        },
        "outputId": "e9e94d37-1e6a-4946-e653-1e8f367a2ea4"
      },
      "source": [
        "mae_paid.mean()"
      ],
      "execution_count": 77,
      "outputs": [
        {
          "output_type": "execute_result",
          "data": {
            "text/plain": [
              "0.14868933337592838"
            ]
          },
          "metadata": {
            "tags": []
          },
          "execution_count": 77
        }
      ]
    },
    {
      "cell_type": "code",
      "metadata": {
        "id": "18YEKv3weAfZ",
        "colab": {
          "base_uri": "https://localhost:8080/"
        },
        "outputId": "ea1f793e-61eb-4758-f495-10b931983c52"
      },
      "source": [
        "mae_default.mean()"
      ],
      "execution_count": 78,
      "outputs": [
        {
          "output_type": "execute_result",
          "data": {
            "text/plain": [
              "0.1685192917753204"
            ]
          },
          "metadata": {
            "tags": []
          },
          "execution_count": 78
        }
      ]
    },
    {
      "cell_type": "code",
      "metadata": {
        "id": "Pdm6Q1ayA9Ct"
      },
      "source": [
        ""
      ],
      "execution_count": null,
      "outputs": []
    },
    {
      "cell_type": "code",
      "metadata": {
        "id": "MXbNjBOMA8_z"
      },
      "source": [
        ""
      ],
      "execution_count": null,
      "outputs": []
    },
    {
      "cell_type": "code",
      "metadata": {
        "id": "MlM6alt2A89N"
      },
      "source": [
        ""
      ],
      "execution_count": null,
      "outputs": []
    },
    {
      "cell_type": "markdown",
      "metadata": {
        "collapsed": true,
        "id": "Z2KpPgxL89w0"
      },
      "source": [
        "## Reconstructing Test Data"
      ]
    },
    {
      "cell_type": "code",
      "metadata": {
        "id": "obU8_YUG89w0"
      },
      "source": [
        "reconstructions_paid = model.predict(np.expand_dims(test_input_paid, axis = 2))\n",
        "reconstructions_default = model.predict(np.expand_dims(test_input_default, axis = 2))"
      ],
      "execution_count": null,
      "outputs": []
    },
    {
      "cell_type": "code",
      "metadata": {
        "id": "Or9d4DUi89w0",
        "outputId": "5243fe67-bf47-41e2-f034-38bc62f23b23"
      },
      "source": [
        "mae_default.shape"
      ],
      "execution_count": null,
      "outputs": [
        {
          "output_type": "execute_result",
          "data": {
            "text/plain": [
              "(1920,)"
            ]
          },
          "metadata": {
            "tags": []
          },
          "execution_count": 84
        }
      ]
    },
    {
      "cell_type": "code",
      "metadata": {
        "id": "d6lOs0jh89w0"
      },
      "source": [
        "mae_paid = np.mean(np.abs(np.squeeze(test_input_paid) - np.squeeze(reconstructions_paid)), axis=1)\n",
        "mae_default = np.mean(np.abs(np.squeeze(test_input_default) - np.squeeze(reconstructions_default)), axis=1)"
      ],
      "execution_count": null,
      "outputs": []
    },
    {
      "cell_type": "code",
      "metadata": {
        "id": "Xx-uz80Y89w0",
        "outputId": "cdf8b18e-a8e4-4a1e-e394-2faee9286d90"
      },
      "source": [
        "mae_paid.mean()"
      ],
      "execution_count": null,
      "outputs": [
        {
          "output_type": "execute_result",
          "data": {
            "text/plain": [
              "0.06295656544415648"
            ]
          },
          "metadata": {
            "tags": []
          },
          "execution_count": 89
        }
      ]
    },
    {
      "cell_type": "code",
      "metadata": {
        "id": "UH6c4Ig189w0",
        "outputId": "a4489c14-d37d-4ab0-8a78-5181962d689d"
      },
      "source": [
        "mae_default.mean()"
      ],
      "execution_count": null,
      "outputs": [
        {
          "output_type": "execute_result",
          "data": {
            "text/plain": [
              "0.06928936402903059"
            ]
          },
          "metadata": {
            "tags": []
          },
          "execution_count": 86
        }
      ]
    },
    {
      "cell_type": "markdown",
      "metadata": {
        "id": "Gbu0DSmG89w1"
      },
      "source": [
        "## Plan of Action for the Next Two Weeks\n",
        "\n"
      ]
    },
    {
      "cell_type": "markdown",
      "metadata": {
        "id": "KI3K0fYC89w1"
      },
      "source": [
        "### 1. Clustering of latent representations(Suggestion by Junyi)\n",
        "#### Train the autoencoder on paid mortgages\n",
        "#### Extract the latent representations for both paid and defaulted mortgages\n",
        "#### Cluster these representations using Kmeans\n",
        "#### t-distributed stochastic neighbor embedding (t-SNE) for visualizing high dimensional data"
      ]
    },
    {
      "cell_type": "markdown",
      "metadata": {
        "id": "NsN38-Rk89w1"
      },
      "source": [
        "### 2. Categorical data embedding  "
      ]
    },
    {
      "cell_type": "markdown",
      "metadata": {
        "id": "DBq5K0gD89w1"
      },
      "source": [
        "### 3. Compare performance with existing work\n",
        "#### Deep Learning for Anomaly Detection: A Survey - Chalapathy et.al"
      ]
    }
  ]
}