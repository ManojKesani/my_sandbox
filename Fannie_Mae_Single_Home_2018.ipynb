{
  "nbformat": 4,
  "nbformat_minor": 0,
  "metadata": {
    "accelerator": "GPU",
    "colab": {
      "name": "Fannie_Mae_Single_Home_2018.ipynb",
      "provenance": [],
      "collapsed_sections": [
        "6v5obdwAeAff",
        "VT3xq3yLeAfg",
        "74X_D2LoeAfj"
      ],
      "include_colab_link": true
    },
    "kernelspec": {
      "display_name": "Python 3",
      "language": "python",
      "name": "python3"
    },
    "language_info": {
      "codemirror_mode": {
        "name": "ipython",
        "version": 3
      },
      "file_extension": ".py",
      "mimetype": "text/x-python",
      "name": "python",
      "nbconvert_exporter": "python",
      "pygments_lexer": "ipython3",
      "version": "3.6.8"
    }
  },
  "cells": [
    {
      "cell_type": "markdown",
      "metadata": {
        "id": "view-in-github",
        "colab_type": "text"
      },
      "source": [
        "<a href=\"https://colab.research.google.com/github/ManojKesani/my_sandbox/blob/master/Fannie_Mae_Single_Home_2018.ipynb\" target=\"_parent\"><img src=\"https://colab.research.google.com/assets/colab-badge.svg\" alt=\"Open In Colab\"/></a>"
      ]
    },
    {
      "cell_type": "markdown",
      "metadata": {
        "id": "rUJjxAyFeAbG"
      },
      "source": [
        "## **Importing Modules**"
      ]
    },
    {
      "cell_type": "code",
      "metadata": {
        "id": "43iVc6y6eAbV"
      },
      "source": [
        "import warnings\n",
        "warnings.filterwarnings(\"ignore\")\n",
        "import tensorflow as tf\n",
        "import keras\n",
        "\n",
        "import pandas as pd\n",
        "import numpy as np\n",
        "import seaborn as sns\n",
        "from matplotlib import pyplot as plt\n",
        "%matplotlib inline\n",
        "import glob\n",
        "\n",
        "import random\n",
        "RANDOM_SEED = 42\n",
        "TRAINING_SAMPLE = 0.99\n",
        "BATCH_SIZE = 32\n",
        "LATENT_DIMENSION = 16\n",
        "\n",
        "from sklearn.preprocessing import StandardScaler, OneHotEncoder, LabelEncoder, OrdinalEncoder\n",
        "from scipy import sparse\n",
        "\n",
        "np.random.seed(RANDOM_SEED)\n",
        "random.seed(RANDOM_SEED)"
      ],
      "execution_count": null,
      "outputs": []
    },
    {
      "cell_type": "code",
      "metadata": {
        "id": "KNfmDERJkawp",
        "outputId": "06e2b5b9-4270-42fd-9ca4-e9d3add8d263",
        "colab": {
          "base_uri": "https://localhost:8080/"
        }
      },
      "source": [
        "from google.colab import drive\n",
        "drive.mount('/content/drive')"
      ],
      "execution_count": null,
      "outputs": [
        {
          "output_type": "stream",
          "text": [
            "Mounted at /content/drive\n"
          ],
          "name": "stdout"
        }
      ]
    },
    {
      "cell_type": "code",
      "metadata": {
        "id": "vSRLC9jikyDV",
        "outputId": "e037dc8b-c51a-44d0-823a-e4fccf1521e9",
        "colab": {
          "base_uri": "https://localhost:8080/"
        }
      },
      "source": [
        "!unzip /content/drive/MyDrive/Anamoly\\ Detection/2018Q1.zip -d /content"
      ],
      "execution_count": null,
      "outputs": [
        {
          "output_type": "stream",
          "text": [
            "Archive:  /content/drive/MyDrive/Anamoly Detection/2018Q1.zip\n",
            "  inflating: /content/Acquisition_2018Q1.txt  \n",
            "  inflating: /content/Performance_2018Q1.txt  \n"
          ],
          "name": "stdout"
        }
      ]
    },
    {
      "cell_type": "code",
      "metadata": {
        "id": "yZYLXxhYeAb0",
        "scrolled": true,
        "outputId": "6fcaedfd-82af-46f6-d378-bad7a1c380ed",
        "colab": {
          "base_uri": "https://localhost:8080/",
          "height": 167
        }
      },
      "source": [
        "print(\"Available GPUS : \", keras.backend.tensorflow_backend._get_available_gpus())"
      ],
      "execution_count": null,
      "outputs": [
        {
          "output_type": "error",
          "ename": "AttributeError",
          "evalue": "ignored",
          "traceback": [
            "\u001b[0;31m---------------------------------------------------------------------------\u001b[0m",
            "\u001b[0;31mAttributeError\u001b[0m                            Traceback (most recent call last)",
            "\u001b[0;32m<ipython-input-2-21883055200c>\u001b[0m in \u001b[0;36m<module>\u001b[0;34m()\u001b[0m\n\u001b[0;32m----> 1\u001b[0;31m \u001b[0mprint\u001b[0m\u001b[0;34m(\u001b[0m\u001b[0;34m\"Available GPUS : \"\u001b[0m\u001b[0;34m,\u001b[0m \u001b[0mkeras\u001b[0m\u001b[0;34m.\u001b[0m\u001b[0mbackend\u001b[0m\u001b[0;34m.\u001b[0m\u001b[0mtensorflow_backend\u001b[0m\u001b[0;34m.\u001b[0m\u001b[0m_get_available_gpus\u001b[0m\u001b[0;34m(\u001b[0m\u001b[0;34m)\u001b[0m\u001b[0;34m)\u001b[0m\u001b[0;34m\u001b[0m\u001b[0;34m\u001b[0m\u001b[0m\n\u001b[0m",
            "\u001b[0;31mAttributeError\u001b[0m: module 'keras.backend' has no attribute 'tensorflow_backend'"
          ]
        }
      ]
    },
    {
      "cell_type": "markdown",
      "metadata": {
        "id": "E_7ZxfO5eAcF"
      },
      "source": [
        "## **Loading Data**"
      ]
    },
    {
      "cell_type": "code",
      "metadata": {
        "id": "iylxOCQTeAcH"
      },
      "source": [
        "ACQUISITION_FEATURES = [\"LOAN IDENTIFIER\", \n",
        "                             \"ORIGINATION CHANNEL\", \n",
        "                             \"SELLER NAME\", \n",
        "                             \"ORIGINAL INTEREST RATE\", \n",
        "                             \"ORIGINAL UPB\", \n",
        "                             \"ORIGINAL LOAN TERM\", \n",
        "                             \"ORIGINATION DATE\", \n",
        "                             \"FIRST PAYMENT DATE\", \n",
        "                             \"ORIGINAL LOAN-TO-VALUE (LTV)\", \n",
        "                             \"ORIGINAL COMBINED LOAN-TO-VALUE (CLTV)\", \n",
        "                             \"NUMBER OF BORROWERS\", \n",
        "                             \"ORIGINAL DEBT TO INCOME RATIO\", \n",
        "                             \"BORROWER CREDIT SCORE AT ORIGINATION\", \n",
        "                             \"FIRST TIME HOME BUYER INDICATOR\",\n",
        "                             \"LOAN PURPOSE\",\n",
        "                             \"PROPERTY TYPE\",\n",
        "                             \"NUMBER OF UNITS\",\n",
        "                             \"OCCUPANCY TYPE\",\n",
        "                             \"PROPERTY STATE\",\n",
        "                             \"ZIP CODE SHORT\",\n",
        "                             \"PRIMARY MORTGAGE INSURANCE PERCENT\",\n",
        "                             \"PRODUCT TYPE\", \"CO-BORROWER CREDIT SCORE AT ORIGINATION\",\n",
        "                             \"MORTGAGE INSURANCE TYPE\",\n",
        "                             \"RELOCATION MORTGAGE INDICATOR\"]\n",
        "\n",
        "PERFORMANCE_FEATURES = [\"LOAN IDENTIFIER\",\n",
        "                             \"MONTHLY REPORTING PERIOD\",\n",
        "                             \"SERVICER NAME\",\n",
        "                             \"CURRENT INTEREST RATE\",\n",
        "                             \"CURRENT ACTUAL UPB\",\n",
        "                             \"LOAN AGE\",\n",
        "                             \"REMAINING MONTHS TO LEGAL MATURITY\",\n",
        "                             \"ADJUSTED MONTHS TO MATURITY\",\n",
        "                             \"MATURITY DATE\",\n",
        "                             \"METROPOLITAN STATISTICAL AREA (MSA)\",\n",
        "                             \"CURRENT LOAN DELINQUENCY STATUS\",\n",
        "                             \"MODIFICATION FLAG\",\n",
        "                             \"ZERO BALANCE CODE\",\n",
        "                             \"ZERO BALANCE EFFECTIVE DATE\",\n",
        "                             \"LAST PAID INSTALLMENT DATE\",\n",
        "                             \"FORECLOSURE DATE\",\n",
        "                             \"DISPOSITION DATE\",\n",
        "                             \"FORECLOSURE COSTS\",\n",
        "                             \"PROPERTY PRESERVATION AND REPAIR COSTS\",\n",
        "                             \"ASSET RECOVERY COSTS\",\n",
        "                             \"MISCELLANEOUS HOLDING EXPENSES AND CREDITS\",\n",
        "                             \"ASSOCIATED TAXES FOR HOLDING PROPERTY\",\n",
        "                             \"NET SALE PROCEEDS\",\n",
        "                             \"CREDIT ENHANCEMENT PROCEEDS\",\n",
        "                             \"REPURCHASE MAKE WHOLE PROCEEDS\",\n",
        "                             \"OTHER FORECLOSURE PROCEEDS\",\n",
        "                             \"NON INTEREST BEARING UPB\",\n",
        "                             \"PRINCIPAL FORGIVENESS AMOUNT\",\n",
        "                             \"REPURCHASE MAKE WHOLE PROCEEDS FLAG\",\n",
        "                             \"FORECLOSURE PRINCIPAL WRITE-OFF AMOUNT\",\n",
        "                             \"SERVICING ACTIVITY INDICATOR\"]\n",
        "\n",
        "REL_ACQUISITION_FEATURES = [\"LOAN IDENTIFIER\",\n",
        "                            \"BORROWER CREDIT SCORE AT ORIGINATION\",\n",
        "                            \"CO-BORROWER CREDIT SCORE AT ORIGINATION\",\n",
        "                            \"FIRST TIME HOME BUYER INDICATOR\",\n",
        "                            \"MORTGAGE INSURANCE TYPE\",\n",
        "                            \"NUMBER OF BORROWERS\",\n",
        "                            \"NUMBER OF UNITS\",\n",
        "                            \"OCCUPANCY TYPE\",\n",
        "                            \"ORIGINAL COMBINED LOAN-TO-VALUE (CLTV)\",\n",
        "                            \"ORIGINAL DEBT TO INCOME RATIO\",\n",
        "                            \"ORIGINATION CHANNEL\",\n",
        "                            \"ORIGINAL INTEREST RATE\",\n",
        "                            \"ORIGINAL LOAN TERM\",\n",
        "                            \"ORIGINAL LOAN-TO-VALUE (LTV)\",\n",
        "                            \"ORIGINAL UPB\",\n",
        "                            \"PRIMARY MORTGAGE INSURANCE PERCENT\",\n",
        "                            \"PRODUCT TYPE\",\n",
        "                            \"PROPERTY TYPE\",\n",
        "                            \"RELOCATION MORTGAGE INDICATOR\",\n",
        "                            \"SELLER NAME\"]\n",
        "\n",
        "REL_PERFORMANCE_FEATURES = [\"LOAN IDENTIFIER\",\n",
        "                            \"ADJUSTED MONTHS TO MATURITY\",\n",
        "                            \"CURRENT ACTUAL UPB\",\n",
        "                            \"CURRENT INTEREST RATE\",\n",
        "                            \"CURRENT LOAN DELINQUENCY STATUS\",\n",
        "                            \"LOAN AGE\",\n",
        "                            \"MODIFICATION FLAG\",\n",
        "                            \"NON INTEREST BEARING UPB\",\n",
        "                            \"PRINCIPAL FORGIVENESS AMOUNT\",\n",
        "                            \"REMAINING MONTHS TO LEGAL MATURITY\",\n",
        "                            \"SERVICING ACTIVITY INDICATOR\",\n",
        "                            \"ZERO BALANCE CODE\"]"
      ],
      "execution_count": null,
      "outputs": []
    },
    {
      "cell_type": "code",
      "metadata": {
        "id": "kIb4NzHaeAcU",
        "outputId": "1894ff8b-1c01-4ac1-f947-b67bd5b324eb",
        "colab": {
          "base_uri": "https://localhost:8080/"
        }
      },
      "source": [
        "path = \"/content\" # use your path\n",
        "performance_files = glob.glob(path + \"/Performance_*.txt\")\n",
        "acquisition_files = glob.glob(path + \"/Acquisition_*.txt\")\n",
        "\n",
        "print(performance_files)\n",
        "print(acquisition_files)\n",
        "\n",
        "def data_to_dataframe(files, features):\n",
        "    li = []\n",
        "\n",
        "    for filename in files:\n",
        "        df = pd.read_csv(filename, sep = \"|\", names = features, index_col=None, header=0)\n",
        "        li.append(df)\n",
        "\n",
        "    frame = pd.concat(li, axis=0, ignore_index=True)\n",
        "    return frame\n",
        "\n",
        "acq_df = data_to_dataframe(acquisition_files, ACQUISITION_FEATURES)\n",
        "per_df = data_to_dataframe(performance_files, PERFORMANCE_FEATURES)"
      ],
      "execution_count": null,
      "outputs": [
        {
          "output_type": "stream",
          "text": [
            "['/content/Performance_2018Q1.txt']\n",
            "['/content/Acquisition_2018Q1.txt']\n"
          ],
          "name": "stdout"
        }
      ]
    },
    {
      "cell_type": "code",
      "metadata": {
        "id": "bQ8pVLIHeAce"
      },
      "source": [
        "per_df = per_df.loc[per_df[\"ZERO BALANCE CODE\"].notnull(), REL_PERFORMANCE_FEATURES]"
      ],
      "execution_count": null,
      "outputs": []
    },
    {
      "cell_type": "code",
      "metadata": {
        "id": "muEvFK4ReAco"
      },
      "source": [
        "df = per_df.merge(acq_df[REL_ACQUISITION_FEATURES], on = \"LOAN IDENTIFIER\", how = \"inner\")"
      ],
      "execution_count": null,
      "outputs": []
    },
    {
      "cell_type": "code",
      "metadata": {
        "id": "9lvBqkrkeAcx",
        "outputId": "c393f5e3-d9bd-4a4d-fd7b-533042663558",
        "colab": {
          "base_uri": "https://localhost:8080/",
          "height": 383
        }
      },
      "source": [
        "df.head()"
      ],
      "execution_count": null,
      "outputs": [
        {
          "output_type": "execute_result",
          "data": {
            "text/html": [
              "<div>\n",
              "<style scoped>\n",
              "    .dataframe tbody tr th:only-of-type {\n",
              "        vertical-align: middle;\n",
              "    }\n",
              "\n",
              "    .dataframe tbody tr th {\n",
              "        vertical-align: top;\n",
              "    }\n",
              "\n",
              "    .dataframe thead th {\n",
              "        text-align: right;\n",
              "    }\n",
              "</style>\n",
              "<table border=\"1\" class=\"dataframe\">\n",
              "  <thead>\n",
              "    <tr style=\"text-align: right;\">\n",
              "      <th></th>\n",
              "      <th>LOAN IDENTIFIER</th>\n",
              "      <th>ADJUSTED MONTHS TO MATURITY</th>\n",
              "      <th>CURRENT ACTUAL UPB</th>\n",
              "      <th>CURRENT INTEREST RATE</th>\n",
              "      <th>CURRENT LOAN DELINQUENCY STATUS</th>\n",
              "      <th>LOAN AGE</th>\n",
              "      <th>MODIFICATION FLAG</th>\n",
              "      <th>NON INTEREST BEARING UPB</th>\n",
              "      <th>PRINCIPAL FORGIVENESS AMOUNT</th>\n",
              "      <th>REMAINING MONTHS TO LEGAL MATURITY</th>\n",
              "      <th>SERVICING ACTIVITY INDICATOR</th>\n",
              "      <th>ZERO BALANCE CODE</th>\n",
              "      <th>BORROWER CREDIT SCORE AT ORIGINATION</th>\n",
              "      <th>CO-BORROWER CREDIT SCORE AT ORIGINATION</th>\n",
              "      <th>FIRST TIME HOME BUYER INDICATOR</th>\n",
              "      <th>MORTGAGE INSURANCE TYPE</th>\n",
              "      <th>NUMBER OF BORROWERS</th>\n",
              "      <th>NUMBER OF UNITS</th>\n",
              "      <th>OCCUPANCY TYPE</th>\n",
              "      <th>ORIGINAL COMBINED LOAN-TO-VALUE (CLTV)</th>\n",
              "      <th>ORIGINAL DEBT TO INCOME RATIO</th>\n",
              "      <th>ORIGINATION CHANNEL</th>\n",
              "      <th>ORIGINAL INTEREST RATE</th>\n",
              "      <th>ORIGINAL LOAN TERM</th>\n",
              "      <th>ORIGINAL LOAN-TO-VALUE (LTV)</th>\n",
              "      <th>ORIGINAL UPB</th>\n",
              "      <th>PRIMARY MORTGAGE INSURANCE PERCENT</th>\n",
              "      <th>PRODUCT TYPE</th>\n",
              "      <th>PROPERTY TYPE</th>\n",
              "      <th>RELOCATION MORTGAGE INDICATOR</th>\n",
              "      <th>SELLER NAME</th>\n",
              "    </tr>\n",
              "  </thead>\n",
              "  <tbody>\n",
              "    <tr>\n",
              "      <th>0</th>\n",
              "      <td>100012691523</td>\n",
              "      <td>0.0</td>\n",
              "      <td>176202.25</td>\n",
              "      <td>5.375</td>\n",
              "      <td>X</td>\n",
              "      <td>18</td>\n",
              "      <td>N</td>\n",
              "      <td>NaN</td>\n",
              "      <td>NaN</td>\n",
              "      <td>342</td>\n",
              "      <td>NaN</td>\n",
              "      <td>1.0</td>\n",
              "      <td>690.0</td>\n",
              "      <td>NaN</td>\n",
              "      <td>N</td>\n",
              "      <td>NaN</td>\n",
              "      <td>1</td>\n",
              "      <td>1</td>\n",
              "      <td>P</td>\n",
              "      <td>80.0</td>\n",
              "      <td>14.0</td>\n",
              "      <td>R</td>\n",
              "      <td>5.375</td>\n",
              "      <td>360</td>\n",
              "      <td>80</td>\n",
              "      <td>180000</td>\n",
              "      <td>NaN</td>\n",
              "      <td>FRM</td>\n",
              "      <td>PU</td>\n",
              "      <td>N</td>\n",
              "      <td>OTHER</td>\n",
              "    </tr>\n",
              "    <tr>\n",
              "      <th>1</th>\n",
              "      <td>100021639708</td>\n",
              "      <td>0.0</td>\n",
              "      <td>219327.38</td>\n",
              "      <td>3.990</td>\n",
              "      <td>X</td>\n",
              "      <td>22</td>\n",
              "      <td>N</td>\n",
              "      <td>NaN</td>\n",
              "      <td>NaN</td>\n",
              "      <td>338</td>\n",
              "      <td>NaN</td>\n",
              "      <td>1.0</td>\n",
              "      <td>757.0</td>\n",
              "      <td>NaN</td>\n",
              "      <td>N</td>\n",
              "      <td>NaN</td>\n",
              "      <td>1</td>\n",
              "      <td>1</td>\n",
              "      <td>P</td>\n",
              "      <td>80.0</td>\n",
              "      <td>42.0</td>\n",
              "      <td>R</td>\n",
              "      <td>3.990</td>\n",
              "      <td>360</td>\n",
              "      <td>80</td>\n",
              "      <td>227000</td>\n",
              "      <td>NaN</td>\n",
              "      <td>FRM</td>\n",
              "      <td>PU</td>\n",
              "      <td>N</td>\n",
              "      <td>QUICKEN LOANS, LLC</td>\n",
              "    </tr>\n",
              "    <tr>\n",
              "      <th>2</th>\n",
              "      <td>100031627426</td>\n",
              "      <td>0.0</td>\n",
              "      <td>345644.81</td>\n",
              "      <td>4.375</td>\n",
              "      <td>X</td>\n",
              "      <td>18</td>\n",
              "      <td>N</td>\n",
              "      <td>NaN</td>\n",
              "      <td>NaN</td>\n",
              "      <td>342</td>\n",
              "      <td>NaN</td>\n",
              "      <td>1.0</td>\n",
              "      <td>767.0</td>\n",
              "      <td>NaN</td>\n",
              "      <td>N</td>\n",
              "      <td>1.0</td>\n",
              "      <td>1</td>\n",
              "      <td>1</td>\n",
              "      <td>P</td>\n",
              "      <td>85.0</td>\n",
              "      <td>28.0</td>\n",
              "      <td>R</td>\n",
              "      <td>4.375</td>\n",
              "      <td>360</td>\n",
              "      <td>85</td>\n",
              "      <td>368000</td>\n",
              "      <td>12.0</td>\n",
              "      <td>FRM</td>\n",
              "      <td>PU</td>\n",
              "      <td>N</td>\n",
              "      <td>OTHER</td>\n",
              "    </tr>\n",
              "    <tr>\n",
              "      <th>3</th>\n",
              "      <td>100038288795</td>\n",
              "      <td>0.0</td>\n",
              "      <td>170503.63</td>\n",
              "      <td>4.625</td>\n",
              "      <td>X</td>\n",
              "      <td>15</td>\n",
              "      <td>N</td>\n",
              "      <td>NaN</td>\n",
              "      <td>NaN</td>\n",
              "      <td>345</td>\n",
              "      <td>NaN</td>\n",
              "      <td>1.0</td>\n",
              "      <td>748.0</td>\n",
              "      <td>NaN</td>\n",
              "      <td>N</td>\n",
              "      <td>NaN</td>\n",
              "      <td>1</td>\n",
              "      <td>1</td>\n",
              "      <td>P</td>\n",
              "      <td>74.0</td>\n",
              "      <td>29.0</td>\n",
              "      <td>R</td>\n",
              "      <td>4.625</td>\n",
              "      <td>360</td>\n",
              "      <td>74</td>\n",
              "      <td>174000</td>\n",
              "      <td>NaN</td>\n",
              "      <td>FRM</td>\n",
              "      <td>SF</td>\n",
              "      <td>N</td>\n",
              "      <td>OTHER</td>\n",
              "    </tr>\n",
              "    <tr>\n",
              "      <th>4</th>\n",
              "      <td>100043464862</td>\n",
              "      <td>0.0</td>\n",
              "      <td>290100.23</td>\n",
              "      <td>4.375</td>\n",
              "      <td>X</td>\n",
              "      <td>24</td>\n",
              "      <td>N</td>\n",
              "      <td>NaN</td>\n",
              "      <td>NaN</td>\n",
              "      <td>336</td>\n",
              "      <td>NaN</td>\n",
              "      <td>1.0</td>\n",
              "      <td>751.0</td>\n",
              "      <td>724.0</td>\n",
              "      <td>N</td>\n",
              "      <td>NaN</td>\n",
              "      <td>2</td>\n",
              "      <td>1</td>\n",
              "      <td>P</td>\n",
              "      <td>80.0</td>\n",
              "      <td>43.0</td>\n",
              "      <td>C</td>\n",
              "      <td>4.375</td>\n",
              "      <td>360</td>\n",
              "      <td>80</td>\n",
              "      <td>300000</td>\n",
              "      <td>NaN</td>\n",
              "      <td>FRM</td>\n",
              "      <td>PU</td>\n",
              "      <td>N</td>\n",
              "      <td>WELLS FARGO BANK, N.A.</td>\n",
              "    </tr>\n",
              "  </tbody>\n",
              "</table>\n",
              "</div>"
            ],
            "text/plain": [
              "   LOAN IDENTIFIER  ...             SELLER NAME\n",
              "0     100012691523  ...                   OTHER\n",
              "1     100021639708  ...      QUICKEN LOANS, LLC\n",
              "2     100031627426  ...                   OTHER\n",
              "3     100038288795  ...                   OTHER\n",
              "4     100043464862  ...  WELLS FARGO BANK, N.A.\n",
              "\n",
              "[5 rows x 31 columns]"
            ]
          },
          "metadata": {
            "tags": []
          },
          "execution_count": 8
        }
      ]
    },
    {
      "cell_type": "markdown",
      "metadata": {
        "id": "Lm63mdjMeAc6"
      },
      "source": [
        "## **Data Preprocessing and Cleaning**"
      ]
    },
    {
      "cell_type": "code",
      "metadata": {
        "id": "soBK0XhVmE7q",
        "outputId": "d216c899-7696-4ca7-da75-bb3b26332304",
        "colab": {
          "base_uri": "https://localhost:8080/"
        }
      },
      "source": [
        "# Data Shape and Data Info\n",
        "print(df.shape)\n",
        "print(df.info())\n",
        "# Checking for missing data\n",
        "print(df.isnull().sum())"
      ],
      "execution_count": null,
      "outputs": [
        {
          "output_type": "stream",
          "text": [
            "(86449, 31)\n",
            "<class 'pandas.core.frame.DataFrame'>\n",
            "Int64Index: 86449 entries, 0 to 86448\n",
            "Data columns (total 31 columns):\n",
            " #   Column                                   Non-Null Count  Dtype  \n",
            "---  ------                                   --------------  -----  \n",
            " 0   LOAN IDENTIFIER                          86449 non-null  int64  \n",
            " 1   ADJUSTED MONTHS TO MATURITY              86449 non-null  float64\n",
            " 2   CURRENT ACTUAL UPB                       86447 non-null  float64\n",
            " 3   CURRENT INTEREST RATE                    86449 non-null  float64\n",
            " 4   CURRENT LOAN DELINQUENCY STATUS          86264 non-null  object \n",
            " 5   LOAN AGE                                 86449 non-null  int64  \n",
            " 6   MODIFICATION FLAG                        86449 non-null  object \n",
            " 7   NON INTEREST BEARING UPB                 0 non-null      float64\n",
            " 8   PRINCIPAL FORGIVENESS AMOUNT             0 non-null      float64\n",
            " 9   REMAINING MONTHS TO LEGAL MATURITY       86449 non-null  int64  \n",
            " 10  SERVICING ACTIVITY INDICATOR             0 non-null      object \n",
            " 11  ZERO BALANCE CODE                        86449 non-null  float64\n",
            " 12  BORROWER CREDIT SCORE AT ORIGINATION     86383 non-null  float64\n",
            " 13  CO-BORROWER CREDIT SCORE AT ORIGINATION  38969 non-null  float64\n",
            " 14  FIRST TIME HOME BUYER INDICATOR          86449 non-null  object \n",
            " 15  MORTGAGE INSURANCE TYPE                  21197 non-null  float64\n",
            " 16  NUMBER OF BORROWERS                      86449 non-null  int64  \n",
            " 17  NUMBER OF UNITS                          86449 non-null  int64  \n",
            " 18  OCCUPANCY TYPE                           86449 non-null  object \n",
            " 19  ORIGINAL COMBINED LOAN-TO-VALUE (CLTV)   86449 non-null  float64\n",
            " 20  ORIGINAL DEBT TO INCOME RATIO            86430 non-null  float64\n",
            " 21  ORIGINATION CHANNEL                      86449 non-null  object \n",
            " 22  ORIGINAL INTEREST RATE                   86449 non-null  float64\n",
            " 23  ORIGINAL LOAN TERM                       86449 non-null  int64  \n",
            " 24  ORIGINAL LOAN-TO-VALUE (LTV)             86449 non-null  int64  \n",
            " 25  ORIGINAL UPB                             86449 non-null  int64  \n",
            " 26  PRIMARY MORTGAGE INSURANCE PERCENT       21197 non-null  float64\n",
            " 27  PRODUCT TYPE                             86449 non-null  object \n",
            " 28  PROPERTY TYPE                            86449 non-null  object \n",
            " 29  RELOCATION MORTGAGE INDICATOR            86449 non-null  object \n",
            " 30  SELLER NAME                              86449 non-null  object \n",
            "dtypes: float64(13), int64(8), object(10)\n",
            "memory usage: 21.1+ MB\n",
            "None\n",
            "LOAN IDENTIFIER                                0\n",
            "ADJUSTED MONTHS TO MATURITY                    0\n",
            "CURRENT ACTUAL UPB                             2\n",
            "CURRENT INTEREST RATE                          0\n",
            "CURRENT LOAN DELINQUENCY STATUS              185\n",
            "LOAN AGE                                       0\n",
            "MODIFICATION FLAG                              0\n",
            "NON INTEREST BEARING UPB                   86449\n",
            "PRINCIPAL FORGIVENESS AMOUNT               86449\n",
            "REMAINING MONTHS TO LEGAL MATURITY             0\n",
            "SERVICING ACTIVITY INDICATOR               86449\n",
            "ZERO BALANCE CODE                              0\n",
            "BORROWER CREDIT SCORE AT ORIGINATION          66\n",
            "CO-BORROWER CREDIT SCORE AT ORIGINATION    47480\n",
            "FIRST TIME HOME BUYER INDICATOR                0\n",
            "MORTGAGE INSURANCE TYPE                    65252\n",
            "NUMBER OF BORROWERS                            0\n",
            "NUMBER OF UNITS                                0\n",
            "OCCUPANCY TYPE                                 0\n",
            "ORIGINAL COMBINED LOAN-TO-VALUE (CLTV)         0\n",
            "ORIGINAL DEBT TO INCOME RATIO                 19\n",
            "ORIGINATION CHANNEL                            0\n",
            "ORIGINAL INTEREST RATE                         0\n",
            "ORIGINAL LOAN TERM                             0\n",
            "ORIGINAL LOAN-TO-VALUE (LTV)                   0\n",
            "ORIGINAL UPB                                   0\n",
            "PRIMARY MORTGAGE INSURANCE PERCENT         65252\n",
            "PRODUCT TYPE                                   0\n",
            "PROPERTY TYPE                                  0\n",
            "RELOCATION MORTGAGE INDICATOR                  0\n",
            "SELLER NAME                                    0\n",
            "dtype: int64\n"
          ],
          "name": "stdout"
        }
      ]
    },
    {
      "cell_type": "code",
      "metadata": {
        "id": "UJAHXjqIeAc8",
        "outputId": "6ddb88f5-c37e-4cd4-e058-db9a258e18b3",
        "colab": {
          "base_uri": "https://localhost:8080/"
        }
      },
      "source": [
        "# Data Shape and Data Info\n",
        "print(df.shape)\n",
        "print(df.info())\n",
        "# Checking for missing data\n",
        "print(df.isnull().sum())"
      ],
      "execution_count": null,
      "outputs": [
        {
          "output_type": "stream",
          "text": [
            "(86449, 31)\n",
            "<class 'pandas.core.frame.DataFrame'>\n",
            "Int64Index: 86449 entries, 0 to 86448\n",
            "Data columns (total 31 columns):\n",
            " #   Column                                   Non-Null Count  Dtype  \n",
            "---  ------                                   --------------  -----  \n",
            " 0   LOAN IDENTIFIER                          86449 non-null  int64  \n",
            " 1   ADJUSTED MONTHS TO MATURITY              86449 non-null  float64\n",
            " 2   CURRENT ACTUAL UPB                       86447 non-null  float64\n",
            " 3   CURRENT INTEREST RATE                    86449 non-null  float64\n",
            " 4   CURRENT LOAN DELINQUENCY STATUS          86264 non-null  object \n",
            " 5   LOAN AGE                                 86449 non-null  int64  \n",
            " 6   MODIFICATION FLAG                        86449 non-null  object \n",
            " 7   NON INTEREST BEARING UPB                 0 non-null      float64\n",
            " 8   PRINCIPAL FORGIVENESS AMOUNT             0 non-null      float64\n",
            " 9   REMAINING MONTHS TO LEGAL MATURITY       86449 non-null  int64  \n",
            " 10  SERVICING ACTIVITY INDICATOR             0 non-null      object \n",
            " 11  ZERO BALANCE CODE                        86449 non-null  float64\n",
            " 12  BORROWER CREDIT SCORE AT ORIGINATION     86383 non-null  float64\n",
            " 13  CO-BORROWER CREDIT SCORE AT ORIGINATION  38969 non-null  float64\n",
            " 14  FIRST TIME HOME BUYER INDICATOR          86449 non-null  object \n",
            " 15  MORTGAGE INSURANCE TYPE                  21197 non-null  float64\n",
            " 16  NUMBER OF BORROWERS                      86449 non-null  int64  \n",
            " 17  NUMBER OF UNITS                          86449 non-null  int64  \n",
            " 18  OCCUPANCY TYPE                           86449 non-null  object \n",
            " 19  ORIGINAL COMBINED LOAN-TO-VALUE (CLTV)   86449 non-null  float64\n",
            " 20  ORIGINAL DEBT TO INCOME RATIO            86430 non-null  float64\n",
            " 21  ORIGINATION CHANNEL                      86449 non-null  object \n",
            " 22  ORIGINAL INTEREST RATE                   86449 non-null  float64\n",
            " 23  ORIGINAL LOAN TERM                       86449 non-null  int64  \n",
            " 24  ORIGINAL LOAN-TO-VALUE (LTV)             86449 non-null  int64  \n",
            " 25  ORIGINAL UPB                             86449 non-null  int64  \n",
            " 26  PRIMARY MORTGAGE INSURANCE PERCENT       21197 non-null  float64\n",
            " 27  PRODUCT TYPE                             86449 non-null  object \n",
            " 28  PROPERTY TYPE                            86449 non-null  object \n",
            " 29  RELOCATION MORTGAGE INDICATOR            86449 non-null  object \n",
            " 30  SELLER NAME                              86449 non-null  object \n",
            "dtypes: float64(13), int64(8), object(10)\n",
            "memory usage: 21.1+ MB\n",
            "None\n",
            "LOAN IDENTIFIER                                0\n",
            "ADJUSTED MONTHS TO MATURITY                    0\n",
            "CURRENT ACTUAL UPB                             2\n",
            "CURRENT INTEREST RATE                          0\n",
            "CURRENT LOAN DELINQUENCY STATUS              185\n",
            "LOAN AGE                                       0\n",
            "MODIFICATION FLAG                              0\n",
            "NON INTEREST BEARING UPB                   86449\n",
            "PRINCIPAL FORGIVENESS AMOUNT               86449\n",
            "REMAINING MONTHS TO LEGAL MATURITY             0\n",
            "SERVICING ACTIVITY INDICATOR               86449\n",
            "ZERO BALANCE CODE                              0\n",
            "BORROWER CREDIT SCORE AT ORIGINATION          66\n",
            "CO-BORROWER CREDIT SCORE AT ORIGINATION    47480\n",
            "FIRST TIME HOME BUYER INDICATOR                0\n",
            "MORTGAGE INSURANCE TYPE                    65252\n",
            "NUMBER OF BORROWERS                            0\n",
            "NUMBER OF UNITS                                0\n",
            "OCCUPANCY TYPE                                 0\n",
            "ORIGINAL COMBINED LOAN-TO-VALUE (CLTV)         0\n",
            "ORIGINAL DEBT TO INCOME RATIO                 19\n",
            "ORIGINATION CHANNEL                            0\n",
            "ORIGINAL INTEREST RATE                         0\n",
            "ORIGINAL LOAN TERM                             0\n",
            "ORIGINAL LOAN-TO-VALUE (LTV)                   0\n",
            "ORIGINAL UPB                                   0\n",
            "PRIMARY MORTGAGE INSURANCE PERCENT         65252\n",
            "PRODUCT TYPE                                   0\n",
            "PROPERTY TYPE                                  0\n",
            "RELOCATION MORTGAGE INDICATOR                  0\n",
            "SELLER NAME                                    0\n",
            "dtype: int64\n"
          ],
          "name": "stdout"
        }
      ]
    },
    {
      "cell_type": "code",
      "metadata": {
        "id": "P5FrxV0meAdD"
      },
      "source": [
        "df.drop([\"ADJUSTED MONTHS TO MATURITY\", \n",
        "                 \"NON INTEREST BEARING UPB\", \n",
        "                 \"PRINCIPAL FORGIVENESS AMOUNT\",\n",
        "                 \"SERVICING ACTIVITY INDICATOR\",\n",
        "                 \"CO-BORROWER CREDIT SCORE AT ORIGINATION\",\n",
        "                 \"MORTGAGE INSURANCE TYPE\",\n",
        "                 \"PRIMARY MORTGAGE INSURANCE PERCENT\",\n",
        "                 \"CURRENT LOAN DELINQUENCY STATUS\"], axis = 1, inplace = True)"
      ],
      "execution_count": null,
      "outputs": []
    },
    {
      "cell_type": "code",
      "metadata": {
        "id": "qxcn8XrUeAdM"
      },
      "source": [
        "# Current UPB \n",
        "df[\"CURRENT ACTUAL UPB\"].fillna(df[\"CURRENT ACTUAL UPB\"].mean(), inplace = True)\n",
        "df[\"BORROWER CREDIT SCORE AT ORIGINATION\"].fillna(df[\"BORROWER CREDIT SCORE AT ORIGINATION\"].mean(), inplace = True)\n",
        "df[\"ORIGINAL DEBT TO INCOME RATIO\"].fillna(df[\"ORIGINAL DEBT TO INCOME RATIO\"].mean(), inplace = True)"
      ],
      "execution_count": null,
      "outputs": []
    },
    {
      "cell_type": "code",
      "metadata": {
        "id": "-tfucveweAdT"
      },
      "source": [
        "## Encoding the target variable\n",
        "# 0 - Defaulted, 1 - Not Defaulted\n",
        "df[\"ZERO BALANCE CODE\"].replace({\n",
        "    1: 1,\n",
        "    2: 0,\n",
        "    3: 0,\n",
        "    6: 0,\n",
        "    9: 0,\n",
        "    15: 1,\n",
        "    16: 1\n",
        "}, inplace = True)"
      ],
      "execution_count": null,
      "outputs": []
    },
    {
      "cell_type": "code",
      "metadata": {
        "id": "RTUdbNHOeAda",
        "outputId": "f1a21a34-9347-48eb-9b1a-e102586e63fd",
        "colab": {
          "base_uri": "https://localhost:8080/",
          "height": 282
        }
      },
      "source": [
        "sns.distplot(LabelEncoder().fit_transform(df[\"ZERO BALANCE CODE\"]))"
      ],
      "execution_count": null,
      "outputs": [
        {
          "output_type": "execute_result",
          "data": {
            "text/plain": [
              "<matplotlib.axes._subplots.AxesSubplot at 0x7fc834743940>"
            ]
          },
          "metadata": {
            "tags": []
          },
          "execution_count": 14
        },
        {
          "output_type": "display_data",
          "data": {
            "image/png": "[encoded data removed]",
            "text/plain": [
              "<Figure size 432x288 with 1 Axes>"
            ]
          },
          "metadata": {
            "tags": []
          }
        }
      ]
    },
    {
      "cell_type": "code",
      "metadata": {
        "id": "r6DVTj0ceAdj",
        "outputId": "b9e952dd-2ac4-4786-cf2c-849a5bb078fc",
        "colab": {
          "base_uri": "https://localhost:8080/"
        }
      },
      "source": [
        "df[\"ZERO BALANCE CODE\"].value_counts()"
      ],
      "execution_count": null,
      "outputs": [
        {
          "output_type": "execute_result",
          "data": {
            "text/plain": [
              "1.0    85938\n",
              "0.0      511\n",
              "Name: ZERO BALANCE CODE, dtype: int64"
            ]
          },
          "metadata": {
            "tags": []
          },
          "execution_count": 15
        }
      ]
    },
    {
      "cell_type": "markdown",
      "metadata": {
        "id": "LCS_QGGjeAdp"
      },
      "source": [
        "## **EDA**"
      ]
    },
    {
      "cell_type": "code",
      "metadata": {
        "id": "t7WSpDtFeAdr",
        "outputId": "0b7151bb-6e2b-41e1-b693-e68fac4acfc4",
        "colab": {
          "base_uri": "https://localhost:8080/",
          "height": 770
        }
      },
      "source": [
        "# Checking multicolinearity between continous features\n",
        "#correlation matrix\n",
        "corrmat = df.corr()\n",
        "f, ax = plt.subplots(figsize=(12, 9))\n",
        "sns.heatmap(corrmat, vmax=.8, square=True)"
      ],
      "execution_count": null,
      "outputs": [
        {
          "output_type": "execute_result",
          "data": {
            "text/plain": [
              "<matplotlib.axes._subplots.AxesSubplot at 0x7fc834880f60>"
            ]
          },
          "metadata": {
            "tags": []
          },
          "execution_count": 16
        },
        {
          "output_type": "display_data",
          "data": {
            "image/png": "[encoded data removed]",
            "text/plain": [
              "<Figure size 864x648 with 2 Axes>"
            ]
          },
          "metadata": {
            "tags": []
          }
        }
      ]
    },
    {
      "cell_type": "markdown",
      "metadata": {
        "id": "Dj61BdDTeAdy"
      },
      "source": [
        "## Preparing train and test splits¶"
      ]
    },
    {
      "cell_type": "code",
      "metadata": {
        "id": "WBlZFI2CeAd0"
      },
      "source": [
        "## Split the data into closed and defaulted \n",
        "paid_df = df[df[\"ZERO BALANCE CODE\"] == 1]\n",
        "default_df = df[df[\"ZERO BALANCE CODE\"] == 0]"
      ],
      "execution_count": null,
      "outputs": []
    },
    {
      "cell_type": "code",
      "metadata": {
        "id": "3KLGJvFoeAd6"
      },
      "source": [
        "## Split into train test\n",
        "# Shuffle the dataset \n",
        "paid_df = paid_df.sample(frac=1).reset_index(drop=True)\n",
        "\n",
        "train_size = int(len(paid_df)*TRAINING_SAMPLE)\n",
        "\n",
        "train_df = paid_df.iloc[:train_size].drop(\"ZERO BALANCE CODE\", axis=1)\n",
        "test_df_paid = paid_df.iloc[train_size:].sample(frac=1)\n",
        "test_df_default = default_df.sample(frac=1)"
      ],
      "execution_count": null,
      "outputs": []
    },
    {
      "cell_type": "code",
      "metadata": {
        "id": "zu8x4GYueAeA",
        "outputId": "226e5bed-ad97-4d09-80b1-0900036b03b5",
        "colab": {
          "base_uri": "https://localhost:8080/"
        }
      },
      "source": [
        "test_df_paid[\"ZERO BALANCE CODE\"].value_counts()"
      ],
      "execution_count": null,
      "outputs": [
        {
          "output_type": "execute_result",
          "data": {
            "text/plain": [
              "1.0    860\n",
              "Name: ZERO BALANCE CODE, dtype: int64"
            ]
          },
          "metadata": {
            "tags": []
          },
          "execution_count": 19
        }
      ]
    },
    {
      "cell_type": "code",
      "metadata": {
        "id": "OIM6G5RueAeH",
        "outputId": "c740667e-4638-4f14-9226-83d0aac29057",
        "colab": {
          "base_uri": "https://localhost:8080/"
        }
      },
      "source": [
        "test_df_default[\"ZERO BALANCE CODE\"].value_counts()"
      ],
      "execution_count": null,
      "outputs": [
        {
          "output_type": "execute_result",
          "data": {
            "text/plain": [
              "0.0    511\n",
              "Name: ZERO BALANCE CODE, dtype: int64"
            ]
          },
          "metadata": {
            "tags": []
          },
          "execution_count": 20
        }
      ]
    },
    {
      "cell_type": "code",
      "metadata": {
        "id": "PR_8VMY_eAeM"
      },
      "source": [
        "test_df_paid.drop(\"ZERO BALANCE CODE\", axis=1, inplace=True)\n",
        "test_df_default.drop(\"ZERO BALANCE CODE\", axis=1, inplace= True)"
      ],
      "execution_count": null,
      "outputs": []
    },
    {
      "cell_type": "markdown",
      "metadata": {
        "id": "Mp-z3uuUeAeS"
      },
      "source": [
        "## Encoding the Data"
      ]
    },
    {
      "cell_type": "code",
      "metadata": {
        "id": "dt0H4RsUeAeT"
      },
      "source": [
        "categorical_variables = [\"MODIFICATION FLAG\",\n",
        "                         \"FIRST TIME HOME BUYER INDICATOR\",\n",
        "                         \"OCCUPANCY TYPE\",\n",
        "                         \"ORIGINATION CHANNEL\",\n",
        "                         \"PRODUCT TYPE\",\n",
        "                         \"PROPERTY TYPE\",\n",
        "                         \"RELOCATION MORTGAGE INDICATOR\",\n",
        "                         \"SELLER NAME\"]\n",
        "target_variable = [\"ZERO BALANCE CODE\"]\n",
        "numerical_variables = [feature for feature in df.columns if feature not in (categorical_variables + target_variable)]"
      ],
      "execution_count": null,
      "outputs": []
    },
    {
      "cell_type": "code",
      "metadata": {
        "id": "bck1aDeYeAeZ"
      },
      "source": [
        "# Standardizing numerical features\n",
        "sc_num = StandardScaler()\n",
        "sc_num.fit(train_df[numerical_variables])\n",
        "\n",
        "train_num_variables_encoded = sc_num.transform(train_df[numerical_variables])\n",
        "test_num_paid = sc_num.transform(test_df_paid[numerical_variables])\n",
        "test_num_default = sc_num.transform(test_df_default[numerical_variables])"
      ],
      "execution_count": null,
      "outputs": []
    },
    {
      "cell_type": "code",
      "metadata": {
        "id": "wCtyKdkzeAei"
      },
      "source": [
        "#One hot encoding categorical variables\n",
        "one_cat = OneHotEncoder(handle_unknown=\"ignore\")\n",
        "one_cat.fit(train_df[categorical_variables])\n",
        "\n",
        "train_cat_variables_encoded = one_cat.transform(train_df[categorical_variables])\n",
        "test_cat_paid = one_cat.transform(test_df_paid[categorical_variables])\n",
        "test_cat_default = one_cat.transform(test_df_default[categorical_variables])"
      ],
      "execution_count": null,
      "outputs": []
    },
    {
      "cell_type": "markdown",
      "metadata": {
        "id": "TWwkzBK2eAen"
      },
      "source": [
        "## Autoencoder"
      ]
    },
    {
      "cell_type": "code",
      "metadata": {
        "id": "_-1mQWn8eAep"
      },
      "source": [
        "# Create Input\n",
        "train_input = sparse.hstack((train_cat_variables_encoded, train_num_variables_encoded)).toarray()\n",
        "# train_input = np.expand_dims(train_input, axis = 2)\n",
        "\n",
        "test_input_paid = sparse.hstack((test_cat_paid, test_num_paid)).toarray()\n",
        "\n",
        "test_input_default = sparse.hstack((test_cat_default, test_num_default)).toarray()\n",
        "\n",
        "\n",
        "test_input_paid.shape\n",
        "\n",
        "''' TODO\n",
        "change latent_dim, encoder,decoder, reconstruction_loss multiplier, loss addition ratio,batch size.\n",
        "\n",
        "'''"
      ],
      "execution_count": null,
      "outputs": []
    },
    {
      "cell_type": "code",
      "metadata": {
        "id": "CRPgHliCquMu"
      },
      "source": [
        "import numpy as np\n",
        "import tensorflow as tf\n",
        "from tensorflow import keras\n",
        "from tensorflow.keras import layers\n"
      ],
      "execution_count": null,
      "outputs": []
    },
    {
      "cell_type": "code",
      "metadata": {
        "id": "t2CycjDQquLE"
      },
      "source": [
        "class Sampling(layers.Layer):\n",
        "    \"\"\"Uses (z_mean, z_log_var) to sample z, the vector encoding a digit.\"\"\"\n",
        "\n",
        "    def call(self, inputs):\n",
        "        z_mean, z_log_var = inputs\n",
        "        batch = tf.shape(z_mean)[0]\n",
        "        dim = tf.shape(z_mean)[1]\n",
        "        epsilon = tf.keras.backend.random_normal(shape=(batch, dim))\n",
        "        return z_mean + tf.exp(0.5 * z_log_var) * epsilon\n"
      ],
      "execution_count": null,
      "outputs": []
    },
    {
      "cell_type": "code",
      "metadata": {
        "id": "Azg9c-A2quIa",
        "outputId": "7f176115-ee75-4410-d55d-da3909601c45",
        "colab": {
          "base_uri": "https://localhost:8080/"
        }
      },
      "source": [
        "latent_dim = 16\n",
        "\n",
        "encoder_inputs = keras.Input(shape=(50,))\n",
        "# x = layers.Conv1D(64, 2, activation = \"relu\", padding = \"same\", input_shape = input_shape))(encoder_inputs)\n",
        "x = layers.Dense(25, activation=\"relu\")(encoder_inputs)\n",
        "\n",
        "x = layers.Dense(latent_dim, activation=\"relu\")(x) # any dense rep will do\n",
        "z_mean = layers.Dense(latent_dim, name=\"z_mean\")(x)\n",
        "z_log_var = layers.Dense(latent_dim, name=\"z_log_var\")(x)\n",
        "z = Sampling()([z_mean, z_log_var])\n",
        "\n",
        "encoder = keras.Model(encoder_inputs,[z_mean, z_log_var, z], name=\"encoder\")\n",
        "encoder.summary()\n"
      ],
      "execution_count": null,
      "outputs": [
        {
          "output_type": "stream",
          "text": [
            "Model: \"encoder\"\n",
            "__________________________________________________________________________________________________\n",
            "Layer (type)                    Output Shape         Param #     Connected to                     \n",
            "==================================================================================================\n",
            "input_5 (InputLayer)            [(None, 50)]         0                                            \n",
            "__________________________________________________________________________________________________\n",
            "dense_8 (Dense)                 (None, 25)           1275        input_5[0][0]                    \n",
            "__________________________________________________________________________________________________\n",
            "dense_9 (Dense)                 (None, 16)           416         dense_8[0][0]                    \n",
            "__________________________________________________________________________________________________\n",
            "z_mean (Dense)                  (None, 16)           272         dense_9[0][0]                    \n",
            "__________________________________________________________________________________________________\n",
            "z_log_var (Dense)               (None, 16)           272         dense_9[0][0]                    \n",
            "__________________________________________________________________________________________________\n",
            "sampling_2 (Sampling)           (None, 16)           0           z_mean[0][0]                     \n",
            "                                                                 z_log_var[0][0]                  \n",
            "==================================================================================================\n",
            "Total params: 2,235\n",
            "Trainable params: 2,235\n",
            "Non-trainable params: 0\n",
            "__________________________________________________________________________________________________\n"
          ],
          "name": "stdout"
        }
      ]
    },
    {
      "cell_type": "code",
      "metadata": {
        "id": "T8OaUfGVquDV",
        "outputId": "3344ff31-940b-4109-beb5-3353ac8801f3",
        "colab": {
          "base_uri": "https://localhost:8080/"
        }
      },
      "source": [
        "latent_inputs = keras.Input(shape=(latent_dim,))\n",
        "x = layers.Dense(25, activation=\"relu\")(latent_inputs)\n",
        "decoder_outputs = layers.Dense(50, activation=\"sigmoid\")(x)\n",
        "\n",
        "decoder = keras.Model(latent_inputs, decoder_outputs, name=\"decoder\")\n",
        "decoder.summary()\n"
      ],
      "execution_count": null,
      "outputs": [
        {
          "output_type": "stream",
          "text": [
            "Model: \"decoder\"\n",
            "_________________________________________________________________\n",
            "Layer (type)                 Output Shape              Param #   \n",
            "=================================================================\n",
            "input_6 (InputLayer)         [(None, 16)]              0         \n",
            "_________________________________________________________________\n",
            "dense_10 (Dense)             (None, 25)                425       \n",
            "_________________________________________________________________\n",
            "dense_11 (Dense)             (None, 50)                1300      \n",
            "=================================================================\n",
            "Total params: 1,725\n",
            "Trainable params: 1,725\n",
            "Non-trainable params: 0\n",
            "_________________________________________________________________\n"
          ],
          "name": "stdout"
        }
      ]
    },
    {
      "cell_type": "code",
      "metadata": {
        "id": "T_lxpJRSquBi"
      },
      "source": [
        "class VAE(keras.Model):\n",
        "    def __init__(self, encoder, decoder, **kwargs):\n",
        "        super(VAE, self).__init__(**kwargs)\n",
        "        self.encoder = encoder\n",
        "        self.decoder = decoder\n",
        "\n",
        "    def call(self,x):\n",
        "        encoded = self.encoder(x)\n",
        "        decoded = self.decoder(encoded)\n",
        "        return decoded\n",
        "\n",
        "\n",
        "    def train_step(self, data):\n",
        "        if isinstance(data, tuple):\n",
        "            data = data[0]\n",
        "        with tf.GradientTape() as tape:\n",
        "            z_mean, z_log_var, z = encoder(data)\n",
        "            reconstruction = decoder(z)\n",
        "            reconstruction_loss = tf.reduce_mean(\n",
        "                tf.keras.losses.mean_absolute_error(data, reconstruction)\n",
        "            )\n",
        "            reconstruction_loss *= 10 # Try diffrent\n",
        "            kl_loss = 1 + z_log_var - tf.square(z_mean) - tf.exp(z_log_var)\n",
        "            kl_loss = tf.reduce_mean(kl_loss)\n",
        "            kl_loss *= -0.5\n",
        "            total_loss = (1)*reconstruction_loss + (1)*kl_loss #Try diffrenet combinitions\n",
        "        grads = tape.gradient(total_loss, self.trainable_weights)\n",
        "        self.optimizer.apply_gradients(zip(grads, self.trainable_weights))\n",
        "        return {\n",
        "            \"loss\": total_loss,\n",
        "            \"reconstruction_loss\": reconstruction_loss,\n",
        "            \"kl_loss\": kl_loss,\n",
        "        }\n"
      ],
      "execution_count": null,
      "outputs": []
    },
    {
      "cell_type": "code",
      "metadata": {
        "id": "nWMAomF-zZqK",
        "outputId": "a0759253-0900-4907-8989-b57dfa31a92c",
        "colab": {
          "background_save": true,
          "base_uri": "https://localhost:8080/"
        }
      },
      "source": [
        "vae = VAE(encoder, decoder)\n",
        "vae.compile(optimizer=keras.optimizers.Adam())\n",
        "vae.fit(train_input, epochs=100, batch_size=32)"
      ],
      "execution_count": null,
      "outputs": [
        {
          "output_type": "stream",
          "text": [
            "Epoch 1/100\n",
            "2659/2659 [==============================] - 7s 3ms/step - loss: 2.5023 - reconstruction_loss: 2.3316 - kl_loss: 0.1707\n",
            "Epoch 2/100\n",
            "2659/2659 [==============================] - 7s 2ms/step - loss: 2.5028 - reconstruction_loss: 2.3323 - kl_loss: 0.1705\n",
            "Epoch 3/100\n",
            "2659/2659 [==============================] - 7s 3ms/step - loss: 2.5027 - reconstruction_loss: 2.3330 - kl_loss: 0.1697\n",
            "Epoch 4/100\n",
            "2659/2659 [==============================] - 7s 2ms/step - loss: 2.5032 - reconstruction_loss: 2.3331 - kl_loss: 0.1701\n",
            "Epoch 5/100\n",
            "2659/2659 [==============================] - 7s 3ms/step - loss: 2.5025 - reconstruction_loss: 2.3318 - kl_loss: 0.1707\n",
            "Epoch 6/100\n",
            "2659/2659 [==============================] - 7s 2ms/step - loss: 2.5032 - reconstruction_loss: 2.3328 - kl_loss: 0.1705\n",
            "Epoch 7/100\n",
            "2659/2659 [==============================] - 7s 3ms/step - loss: 2.5026 - reconstruction_loss: 2.3330 - kl_loss: 0.1696\n",
            "Epoch 8/100\n",
            "2659/2659 [==============================] - 7s 3ms/step - loss: 2.5027 - reconstruction_loss: 2.3322 - kl_loss: 0.1705\n",
            "Epoch 9/100\n",
            "2659/2659 [==============================] - 6s 2ms/step - loss: 2.5030 - reconstruction_loss: 2.3340 - kl_loss: 0.1690\n",
            "Epoch 10/100\n",
            "2659/2659 [==============================] - 7s 3ms/step - loss: 2.5024 - reconstruction_loss: 2.3334 - kl_loss: 0.1690\n",
            "Epoch 11/100\n",
            "2659/2659 [==============================] - 6s 2ms/step - loss: 2.5025 - reconstruction_loss: 2.3323 - kl_loss: 0.1702\n",
            "Epoch 12/100\n",
            "2659/2659 [==============================] - 7s 3ms/step - loss: 2.5019 - reconstruction_loss: 2.3320 - kl_loss: 0.1699\n",
            "Epoch 13/100\n",
            "2659/2659 [==============================] - 6s 2ms/step - loss: 2.5021 - reconstruction_loss: 2.3328 - kl_loss: 0.1693\n",
            "Epoch 14/100\n",
            "2659/2659 [==============================] - 7s 2ms/step - loss: 2.5029 - reconstruction_loss: 2.3330 - kl_loss: 0.1699\n",
            "Epoch 15/100\n",
            "2659/2659 [==============================] - 7s 3ms/step - loss: 2.5017 - reconstruction_loss: 2.3321 - kl_loss: 0.1696\n",
            "Epoch 16/100\n",
            "2659/2659 [==============================] - 7s 3ms/step - loss: 2.5024 - reconstruction_loss: 2.3318 - kl_loss: 0.1706\n",
            "Epoch 17/100\n",
            "2659/2659 [==============================] - 7s 3ms/step - loss: 2.5027 - reconstruction_loss: 2.3320 - kl_loss: 0.1708\n",
            "Epoch 18/100\n",
            "2659/2659 [==============================] - 7s 3ms/step - loss: 2.5017 - reconstruction_loss: 2.3316 - kl_loss: 0.1702\n",
            "Epoch 19/100\n",
            "2659/2659 [==============================] - 6s 2ms/step - loss: 2.5017 - reconstruction_loss: 2.3310 - kl_loss: 0.1707\n",
            "Epoch 20/100\n",
            "2659/2659 [==============================] - 6s 2ms/step - loss: 2.5020 - reconstruction_loss: 2.3318 - kl_loss: 0.1702\n",
            "Epoch 21/100\n",
            "2659/2659 [==============================] - 7s 3ms/step - loss: 2.5034 - reconstruction_loss: 2.3320 - kl_loss: 0.1714\n",
            "Epoch 22/100\n",
            "2659/2659 [==============================] - 6s 2ms/step - loss: 2.5026 - reconstruction_loss: 2.3340 - kl_loss: 0.1687\n",
            "Epoch 23/100\n",
            "2659/2659 [==============================] - 6s 2ms/step - loss: 2.5020 - reconstruction_loss: 2.3324 - kl_loss: 0.1696\n",
            "Epoch 24/100\n",
            "2659/2659 [==============================] - 7s 2ms/step - loss: 2.5024 - reconstruction_loss: 2.3320 - kl_loss: 0.1704\n",
            "Epoch 25/100\n",
            "2659/2659 [==============================] - 6s 2ms/step - loss: 2.5033 - reconstruction_loss: 2.3335 - kl_loss: 0.1698\n",
            "Epoch 26/100\n",
            "2659/2659 [==============================] - 6s 2ms/step - loss: 2.5019 - reconstruction_loss: 2.3328 - kl_loss: 0.1691\n",
            "Epoch 27/100\n",
            "2659/2659 [==============================] - 7s 3ms/step - loss: 2.5022 - reconstruction_loss: 2.3323 - kl_loss: 0.1700\n",
            "Epoch 28/100\n",
            "2659/2659 [==============================] - 7s 3ms/step - loss: 2.5020 - reconstruction_loss: 2.3331 - kl_loss: 0.1689\n",
            "Epoch 29/100\n",
            "2659/2659 [==============================] - 6s 2ms/step - loss: 2.5020 - reconstruction_loss: 2.3325 - kl_loss: 0.1695\n",
            "Epoch 30/100\n",
            "2659/2659 [==============================] - 6s 2ms/step - loss: 2.5021 - reconstruction_loss: 2.3320 - kl_loss: 0.1701\n",
            "Epoch 31/100\n",
            "2659/2659 [==============================] - 6s 2ms/step - loss: 2.5019 - reconstruction_loss: 2.3317 - kl_loss: 0.1703\n",
            "Epoch 32/100\n",
            "2659/2659 [==============================] - 7s 3ms/step - loss: 2.5012 - reconstruction_loss: 2.3323 - kl_loss: 0.1689\n",
            "Epoch 33/100\n",
            "2659/2659 [==============================] - 7s 3ms/step - loss: 2.5019 - reconstruction_loss: 2.3320 - kl_loss: 0.1699\n",
            "Epoch 34/100\n",
            "2659/2659 [==============================] - 7s 3ms/step - loss: 2.5017 - reconstruction_loss: 2.3312 - kl_loss: 0.1705\n",
            "Epoch 35/100\n",
            "2659/2659 [==============================] - 7s 2ms/step - loss: 2.5016 - reconstruction_loss: 2.3312 - kl_loss: 0.1704\n",
            "Epoch 36/100\n",
            "2659/2659 [==============================] - 7s 3ms/step - loss: 2.5014 - reconstruction_loss: 2.3315 - kl_loss: 0.1699\n",
            "Epoch 37/100\n",
            "2659/2659 [==============================] - 7s 3ms/step - loss: 2.5016 - reconstruction_loss: 2.3315 - kl_loss: 0.1700\n",
            "Epoch 38/100\n",
            "2659/2659 [==============================] - 7s 2ms/step - loss: 2.5017 - reconstruction_loss: 2.3310 - kl_loss: 0.1707\n",
            "Epoch 39/100\n",
            "2659/2659 [==============================] - 7s 2ms/step - loss: 2.5017 - reconstruction_loss: 2.3318 - kl_loss: 0.1699\n",
            "Epoch 40/100\n",
            "2659/2659 [==============================] - 7s 3ms/step - loss: 2.5021 - reconstruction_loss: 2.3319 - kl_loss: 0.1701\n",
            "Epoch 41/100\n",
            "2659/2659 [==============================] - 7s 3ms/step - loss: 2.5018 - reconstruction_loss: 2.3319 - kl_loss: 0.1699\n",
            "Epoch 42/100\n",
            "2659/2659 [==============================] - 7s 3ms/step - loss: 2.5018 - reconstruction_loss: 2.3317 - kl_loss: 0.1701\n",
            "Epoch 43/100\n",
            "2659/2659 [==============================] - 7s 3ms/step - loss: 2.5013 - reconstruction_loss: 2.3330 - kl_loss: 0.1683\n",
            "Epoch 44/100\n",
            "2659/2659 [==============================] - 7s 3ms/step - loss: 2.5014 - reconstruction_loss: 2.3322 - kl_loss: 0.1692\n",
            "Epoch 45/100\n",
            "2659/2659 [==============================] - 7s 2ms/step - loss: 2.5017 - reconstruction_loss: 2.3319 - kl_loss: 0.1698\n",
            "Epoch 46/100\n",
            "2659/2659 [==============================] - 7s 3ms/step - loss: 2.5018 - reconstruction_loss: 2.3322 - kl_loss: 0.1696\n",
            "Epoch 47/100\n",
            "2659/2659 [==============================] - 7s 3ms/step - loss: 2.5014 - reconstruction_loss: 2.3318 - kl_loss: 0.1696\n",
            "Epoch 48/100\n",
            "2659/2659 [==============================] - 7s 3ms/step - loss: 2.5017 - reconstruction_loss: 2.3318 - kl_loss: 0.1700\n",
            "Epoch 49/100\n",
            "2659/2659 [==============================] - 7s 2ms/step - loss: 2.5020 - reconstruction_loss: 2.3323 - kl_loss: 0.1697\n",
            "Epoch 50/100\n",
            "2659/2659 [==============================] - 7s 2ms/step - loss: 2.5014 - reconstruction_loss: 2.3320 - kl_loss: 0.1693\n",
            "Epoch 51/100\n",
            "2659/2659 [==============================] - 7s 2ms/step - loss: 2.5014 - reconstruction_loss: 2.3320 - kl_loss: 0.1694\n",
            "Epoch 52/100\n",
            "2659/2659 [==============================] - 7s 3ms/step - loss: 2.5012 - reconstruction_loss: 2.3319 - kl_loss: 0.1693\n",
            "Epoch 53/100\n",
            "2659/2659 [==============================] - 7s 3ms/step - loss: 2.5020 - reconstruction_loss: 2.3329 - kl_loss: 0.1692\n",
            "Epoch 54/100\n",
            "2659/2659 [==============================] - 7s 3ms/step - loss: 2.5018 - reconstruction_loss: 2.3318 - kl_loss: 0.1700\n",
            "Epoch 55/100\n",
            "2659/2659 [==============================] - 7s 3ms/step - loss: 2.5017 - reconstruction_loss: 2.3322 - kl_loss: 0.1695\n",
            "Epoch 56/100\n",
            "2659/2659 [==============================] - 7s 3ms/step - loss: 2.5018 - reconstruction_loss: 2.3323 - kl_loss: 0.1695\n",
            "Epoch 57/100\n",
            "2659/2659 [==============================] - 7s 2ms/step - loss: 2.5015 - reconstruction_loss: 2.3327 - kl_loss: 0.1687\n",
            "Epoch 58/100\n",
            "2659/2659 [==============================] - 7s 3ms/step - loss: 2.5020 - reconstruction_loss: 2.3327 - kl_loss: 0.1693\n",
            "Epoch 59/100\n",
            "2659/2659 [==============================] - 7s 3ms/step - loss: 2.5014 - reconstruction_loss: 2.3311 - kl_loss: 0.1703\n",
            "Epoch 60/100\n",
            "2659/2659 [==============================] - 7s 3ms/step - loss: 2.5009 - reconstruction_loss: 2.3312 - kl_loss: 0.1697\n",
            "Epoch 61/100\n",
            "2659/2659 [==============================] - 7s 3ms/step - loss: 2.5013 - reconstruction_loss: 2.3311 - kl_loss: 0.1702\n",
            "Epoch 62/100\n",
            "2659/2659 [==============================] - 7s 3ms/step - loss: 2.5007 - reconstruction_loss: 2.3312 - kl_loss: 0.1695\n",
            "Epoch 63/100\n",
            "2659/2659 [==============================] - 7s 3ms/step - loss: 2.5016 - reconstruction_loss: 2.3318 - kl_loss: 0.1698\n",
            "Epoch 64/100\n",
            "2659/2659 [==============================] - 8s 3ms/step - loss: 2.5015 - reconstruction_loss: 2.3326 - kl_loss: 0.1690\n",
            "Epoch 65/100\n",
            "2659/2659 [==============================] - 7s 3ms/step - loss: 2.5021 - reconstruction_loss: 2.3329 - kl_loss: 0.1692\n",
            "Epoch 66/100\n",
            "2659/2659 [==============================] - 7s 3ms/step - loss: 2.5015 - reconstruction_loss: 2.3310 - kl_loss: 0.1705\n",
            "Epoch 67/100\n",
            "2659/2659 [==============================] - 7s 3ms/step - loss: 2.5014 - reconstruction_loss: 2.3307 - kl_loss: 0.1707\n",
            "Epoch 68/100\n",
            "2659/2659 [==============================] - 7s 3ms/step - loss: 2.5011 - reconstruction_loss: 2.3315 - kl_loss: 0.1696\n",
            "Epoch 69/100\n",
            "2659/2659 [==============================] - 7s 3ms/step - loss: 2.5017 - reconstruction_loss: 2.3316 - kl_loss: 0.1701\n",
            "Epoch 70/100\n",
            "2659/2659 [==============================] - 7s 3ms/step - loss: 2.5016 - reconstruction_loss: 2.3313 - kl_loss: 0.1703\n",
            "Epoch 71/100\n",
            "2659/2659 [==============================] - 7s 3ms/step - loss: 2.5006 - reconstruction_loss: 2.3309 - kl_loss: 0.1697\n",
            "Epoch 72/100\n",
            "2659/2659 [==============================] - 7s 3ms/step - loss: 2.5017 - reconstruction_loss: 2.3324 - kl_loss: 0.1693\n",
            "Epoch 73/100\n",
            "2659/2659 [==============================] - 7s 3ms/step - loss: 2.5020 - reconstruction_loss: 2.3317 - kl_loss: 0.1703\n",
            "Epoch 74/100\n",
            "2659/2659 [==============================] - 7s 3ms/step - loss: 2.5015 - reconstruction_loss: 2.3319 - kl_loss: 0.1696\n",
            "Epoch 75/100\n",
            "2659/2659 [==============================] - 7s 3ms/step - loss: 2.5013 - reconstruction_loss: 2.3311 - kl_loss: 0.1702\n",
            "Epoch 76/100\n",
            "2659/2659 [==============================] - 7s 3ms/step - loss: 2.5012 - reconstruction_loss: 2.3316 - kl_loss: 0.1696\n",
            "Epoch 77/100\n",
            "2659/2659 [==============================] - 7s 3ms/step - loss: 2.5009 - reconstruction_loss: 2.3318 - kl_loss: 0.1691\n",
            "Epoch 78/100\n",
            "2659/2659 [==============================] - 7s 3ms/step - loss: 2.5005 - reconstruction_loss: 2.3305 - kl_loss: 0.1701\n",
            "Epoch 79/100\n",
            "2659/2659 [==============================] - 7s 3ms/step - loss: 2.5016 - reconstruction_loss: 2.3320 - kl_loss: 0.1695\n",
            "Epoch 80/100\n",
            "2659/2659 [==============================] - 7s 3ms/step - loss: 2.5012 - reconstruction_loss: 2.3314 - kl_loss: 0.1699\n",
            "Epoch 81/100\n",
            "2659/2659 [==============================] - 7s 2ms/step - loss: 2.5007 - reconstruction_loss: 2.3310 - kl_loss: 0.1697\n",
            "Epoch 82/100\n",
            "2659/2659 [==============================] - 7s 2ms/step - loss: 2.5013 - reconstruction_loss: 2.3311 - kl_loss: 0.1702\n",
            "Epoch 83/100\n",
            "2659/2659 [==============================] - 7s 3ms/step - loss: 2.5021 - reconstruction_loss: 2.3307 - kl_loss: 0.1714\n",
            "Epoch 84/100\n",
            "2659/2659 [==============================] - 7s 3ms/step - loss: 2.5016 - reconstruction_loss: 2.3308 - kl_loss: 0.1708\n",
            "Epoch 85/100\n",
            "2659/2659 [==============================] - 7s 2ms/step - loss: 2.5008 - reconstruction_loss: 2.3304 - kl_loss: 0.1704\n",
            "Epoch 86/100\n",
            "2659/2659 [==============================] - 7s 3ms/step - loss: 2.5016 - reconstruction_loss: 2.3302 - kl_loss: 0.1714\n",
            "Epoch 87/100\n",
            "2659/2659 [==============================] - 7s 3ms/step - loss: 2.5012 - reconstruction_loss: 2.3308 - kl_loss: 0.1704\n",
            "Epoch 88/100\n",
            "2659/2659 [==============================] - 7s 3ms/step - loss: 2.5011 - reconstruction_loss: 2.3301 - kl_loss: 0.1710\n",
            "Epoch 89/100\n",
            "2659/2659 [==============================] - 7s 3ms/step - loss: 2.5009 - reconstruction_loss: 2.3304 - kl_loss: 0.1705\n",
            "Epoch 90/100\n",
            "2659/2659 [==============================] - 7s 3ms/step - loss: 2.5016 - reconstruction_loss: 2.3318 - kl_loss: 0.1698\n",
            "Epoch 91/100\n",
            "2659/2659 [==============================] - 7s 3ms/step - loss: 2.5015 - reconstruction_loss: 2.3310 - kl_loss: 0.1704\n",
            "Epoch 92/100\n",
            "2659/2659 [==============================] - 7s 3ms/step - loss: 2.5011 - reconstruction_loss: 2.3320 - kl_loss: 0.1691\n",
            "Epoch 93/100\n",
            "2659/2659 [==============================] - 7s 2ms/step - loss: 2.5015 - reconstruction_loss: 2.3307 - kl_loss: 0.1708\n",
            "Epoch 94/100\n",
            "2659/2659 [==============================] - 7s 3ms/step - loss: 2.5016 - reconstruction_loss: 2.3315 - kl_loss: 0.1700\n",
            "Epoch 95/100\n",
            "2659/2659 [==============================] - 7s 3ms/step - loss: 2.5010 - reconstruction_loss: 2.3308 - kl_loss: 0.1702\n",
            "Epoch 96/100\n",
            "2659/2659 [==============================] - 7s 3ms/step - loss: 2.5019 - reconstruction_loss: 2.3317 - kl_loss: 0.1702\n",
            "Epoch 97/100\n",
            "2659/2659 [==============================] - 6s 2ms/step - loss: 2.5011 - reconstruction_loss: 2.3318 - kl_loss: 0.1692\n",
            "Epoch 98/100\n",
            "2659/2659 [==============================] - 7s 3ms/step - loss: 2.5011 - reconstruction_loss: 2.3311 - kl_loss: 0.1699\n",
            "Epoch 99/100\n",
            "2659/2659 [==============================] - 7s 2ms/step - loss: 2.5011 - reconstruction_loss: 2.3306 - kl_loss: 0.1706\n",
            "Epoch 100/100\n",
            "2659/2659 [==============================] - 7s 2ms/step - loss: 2.5013 - reconstruction_loss: 2.3303 - kl_loss: 0.1710\n"
          ],
          "name": "stdout"
        },
        {
          "output_type": "execute_result",
          "data": {
            "text/plain": [
              "<tensorflow.python.keras.callbacks.History at 0x7fc7c050b208>"
            ]
          },
          "metadata": {
            "tags": []
          },
          "execution_count": 0
        }
      ]
    },
    {
      "cell_type": "code",
      "metadata": {
        "id": "s_ly6YLZwr5z"
      },
      "source": [
        "vae.save_weights('./my_checkpoint')\n"
      ],
      "execution_count": null,
      "outputs": []
    },
    {
      "cell_type": "code",
      "metadata": {
        "id": "FANUIi9qwr3e"
      },
      "source": [
        "model1 = VAE(encoder, decoder)"
      ],
      "execution_count": null,
      "outputs": []
    },
    {
      "cell_type": "code",
      "metadata": {
        "id": "NEtb9Etkwr2H",
        "outputId": "65f75b19-d4ee-4800-9123-d8eec890d615",
        "colab": {
          "base_uri": "https://localhost:8080/"
        }
      },
      "source": [
        "model1.load_weights('./my_checkpoint')"
      ],
      "execution_count": null,
      "outputs": [
        {
          "output_type": "execute_result",
          "data": {
            "text/plain": [
              "<tensorflow.python.training.tracking.util.CheckpointLoadStatus at 0x7fc817a1f7b8>"
            ]
          },
          "metadata": {
            "tags": []
          },
          "execution_count": 38
        }
      ]
    },
    {
      "cell_type": "code",
      "metadata": {
        "id": "vLO2hY_IwrzB",
        "outputId": "ec146548-9aed-4799-e9cc-3a69c354e88a",
        "colab": {
          "base_uri": "https://localhost:8080/"
        }
      },
      "source": [
        "input_arr = tf.random.uniform((1, 50))\n",
        "input_arr.shape\n",
        "model1.build(input_arr.shape)\n",
        "model1.summary()"
      ],
      "execution_count": null,
      "outputs": [
        {
          "output_type": "stream",
          "text": [
            "Model: \"vae_2\"\n",
            "_________________________________________________________________\n",
            "Layer (type)                 Output Shape              Param #   \n",
            "=================================================================\n",
            "encoder (Functional)         [(None, 16), (None, 16),  1360      \n",
            "_________________________________________________________________\n",
            "decoder (Functional)         (None, 50)                1725      \n",
            "=================================================================\n",
            "Total params: 3,085\n",
            "Trainable params: 3,085\n",
            "Non-trainable params: 0\n",
            "_________________________________________________________________\n"
          ],
          "name": "stdout"
        }
      ]
    },
    {
      "cell_type": "code",
      "metadata": {
        "id": "GZuWjJjw48bt",
        "outputId": "1d59de8a-abae-4113-d017-58258f273985",
        "colab": {
          "base_uri": "https://localhost:8080/"
        }
      },
      "source": [
        "# input_arr = tf.random.uniform((1, 50))\n",
        "# input_arr.shape\n",
        "# # vae._set_inputs(input_arr)\n",
        "# # vae.save('model')"
      ],
      "execution_count": null,
      "outputs": [
        {
          "output_type": "execute_result",
          "data": {
            "text/plain": [
              "TensorShape([1, 50])"
            ]
          },
          "metadata": {
            "tags": []
          },
          "execution_count": 44
        }
      ]
    },
    {
      "cell_type": "code",
      "metadata": {
        "id": "DN30B6A76IE9"
      },
      "source": [
        "# model1 = tf.saved_model.load('/content/model')\n"
      ],
      "execution_count": null,
      "outputs": []
    },
    {
      "cell_type": "code",
      "metadata": {
        "id": "PYRQX63IeAfL"
      },
      "source": [
        "en_reconstructions_paid = model1.encoder(np.expand_dims(test_input_paid, axis=2))\n",
        "\n",
        "en_reconstructions_default = model1.encoder(np.expand_dims(test_input_default ,axis=2))"
      ],
      "execution_count": null,
      "outputs": []
    },
    {
      "cell_type": "code",
      "metadata": {
        "id": "3QaC8b4Kzt4-"
      },
      "source": [
        "de_reconstructions_paid = model1.decoder(en_reconstructions_paid)\n",
        "\n",
        "de_reconstructions_default = model1.decoder(en_reconstructions_default)"
      ],
      "execution_count": null,
      "outputs": []
    },
    {
      "cell_type": "code",
      "metadata": {
        "id": "vBJczg_bztw2"
      },
      "source": [
        ""
      ],
      "execution_count": null,
      "outputs": []
    },
    {
      "cell_type": "code",
      "metadata": {
        "id": "2A4d2tWdeAfR"
      },
      "source": [
        "mae_paid = np.mean(np.abs(np.squeeze(test_input_paid) - np.squeeze(de_reconstructions_paid)), axis=1)\n",
        "mae_default = np.mean(np.abs(np.squeeze(test_input_default) - np.squeeze(de_reconstructions_default)), axis=1)"
      ],
      "execution_count": null,
      "outputs": []
    },
    {
      "cell_type": "code",
      "metadata": {
        "id": "e-ciukCmeAfV",
        "outputId": "2f6d94d1-fa5a-4b87-dee2-feb392136cba",
        "colab": {
          "base_uri": "https://localhost:8080/"
        }
      },
      "source": [
        "mae_paid.mean()"
      ],
      "execution_count": null,
      "outputs": [
        {
          "output_type": "execute_result",
          "data": {
            "text/plain": [
              "0.20212562441516238"
            ]
          },
          "metadata": {
            "tags": []
          },
          "execution_count": 54
        }
      ]
    },
    {
      "cell_type": "code",
      "metadata": {
        "id": "18YEKv3weAfZ",
        "outputId": "66a9f12c-1661-4db6-de1f-d2b412724764",
        "colab": {
          "base_uri": "https://localhost:8080/"
        }
      },
      "source": [
        "mae_default.mean()"
      ],
      "execution_count": null,
      "outputs": [
        {
          "output_type": "execute_result",
          "data": {
            "text/plain": [
              "0.21797027869880195"
            ]
          },
          "metadata": {
            "tags": []
          },
          "execution_count": 55
        }
      ]
    },
    {
      "cell_type": "markdown",
      "metadata": {
        "id": "0PgNnpK6eAff"
      },
      "source": [
        "## Plan of Action for the Next Two Weeks\n",
        "\n"
      ]
    },
    {
      "cell_type": "markdown",
      "metadata": {
        "id": "6v5obdwAeAff"
      },
      "source": [
        "### 1. Clustering of latent representations(Suggestion by Junyi)\n",
        "#### Train the autoencoder on paid mortgages\n",
        "#### Extract the latent representations for both paid and defaulted mortgages\n",
        "#### Cluster these representations using Kmeans\n",
        "#### t-distributed stochastic neighbor embedding (t-SNE) for visualizing high dimensional data"
      ]
    },
    {
      "cell_type": "markdown",
      "metadata": {
        "id": "VT3xq3yLeAfg"
      },
      "source": [
        "### 2. Categorical data embedding  "
      ]
    },
    {
      "cell_type": "markdown",
      "metadata": {
        "id": "74X_D2LoeAfj"
      },
      "source": [
        "### 3. Compare performance with existing work\n",
        "#### Deep Learning for Anomaly Detection: A Survey - Chalapathy et.al"
      ]
    }
  ]
}